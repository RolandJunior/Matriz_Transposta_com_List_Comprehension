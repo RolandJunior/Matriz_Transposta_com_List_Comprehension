{
  "nbformat": 4,
  "nbformat_minor": 0,
  "metadata": {
    "colab": {
      "name": "Matriz_Transposta_com_List_Comprehension.ipynb",
      "provenance": [],
      "collapsed_sections": []
    },
    "kernelspec": {
      "display_name": "Python 3",
      "language": "python",
      "name": "python3"
    },
    "language_info": {
      "codemirror_mode": {
        "name": "ipython",
        "version": 3
      },
      "file_extension": ".py",
      "mimetype": "text/x-python",
      "name": "python",
      "nbconvert_exporter": "python",
      "pygments_lexer": "ipython3",
      "version": "3.7.7"
    }
  },
  "cells": [
    {
      "cell_type": "markdown",
      "metadata": {
        "colab_type": "text",
        "id": "XvDtOPXmNSgU"
      },
      "source": [
        "### **Matriz original**"
      ]
    },
    {
      "cell_type": "code",
      "metadata": {
        "colab_type": "code",
        "id": "EaUGQKmYuZVE",
        "outputId": "f36421aa-df22-48ec-fed2-c9edbaaec75c",
        "colab": {
          "base_uri": "https://localhost:8080/",
          "height": 85
        }
      },
      "source": [
        "matrix = [[1,2],[3,4],[5,6],[7,8]]\n",
        "for i in matrix: print(i)"
      ],
      "execution_count": 1,
      "outputs": [
        {
          "output_type": "stream",
          "text": [
            "[1, 2]\n",
            "[3, 4]\n",
            "[5, 6]\n",
            "[7, 8]\n"
          ],
          "name": "stdout"
        }
      ]
    },
    {
      "cell_type": "markdown",
      "metadata": {
        "colab_type": "text",
        "id": "CMDuJfnCNfi_"
      },
      "source": [
        "---\n",
        "### **Matriz transposta com FOR \"nested\"**"
      ]
    },
    {
      "cell_type": "code",
      "metadata": {
        "colab_type": "code",
        "id": "JQ1bCN99Dv3i",
        "outputId": "cb1aa12f-e3ce-4a73-c551-2fc49cbd3e40",
        "colab": {
          "base_uri": "https://localhost:8080/",
          "height": 51
        }
      },
      "source": [
        "transp = []\n",
        "for x in range(len(matrix[0])):\n",
        "  l = []\n",
        "  for linha in matrix:\n",
        "    l.append(linha[x])\n",
        "  transp.append(l)\n",
        "for i in transp: print(i)"
      ],
      "execution_count": 2,
      "outputs": [
        {
          "output_type": "stream",
          "text": [
            "[1, 3, 5, 7]\n",
            "[2, 4, 6, 8]\n"
          ],
          "name": "stdout"
        }
      ]
    },
    {
      "cell_type": "markdown",
      "metadata": {
        "colab_type": "text",
        "id": "b240O1JzN34q"
      },
      "source": [
        "---\n",
        "### **Matriz transposta com List Comprehension no nível interior**"
      ]
    },
    {
      "cell_type": "code",
      "metadata": {
        "colab_type": "code",
        "id": "XUhhGbFPHSwl",
        "outputId": "ce05db9d-28e5-4e36-df3a-038d5de005fa",
        "colab": {
          "base_uri": "https://localhost:8080/",
          "height": 51
        }
      },
      "source": [
        "transp = []\n",
        "for x in range(len(matrix[0])):\n",
        "  l = [linha[x] for linha in matrix]\n",
        "  transp.append(l)\n",
        "for i in transp: print(i)"
      ],
      "execution_count": 3,
      "outputs": [
        {
          "output_type": "stream",
          "text": [
            "[1, 3, 5, 7]\n",
            "[2, 4, 6, 8]\n"
          ],
          "name": "stdout"
        }
      ]
    },
    {
      "cell_type": "code",
      "metadata": {
        "colab_type": "code",
        "id": "gpIjrDfpfEP9",
        "colab": {}
      },
      "source": [
        "# O List Comprehension converte este código:\n",
        "l = []\n",
        "for linha in matrix:\n",
        "  l.append(linha[x])\n",
        "\n",
        "# Neste mais compacto:\n",
        "l = [linha[x] for linha in matrix]"
      ],
      "execution_count": 0,
      "outputs": []
    },
    {
      "cell_type": "markdown",
      "metadata": {
        "colab_type": "text",
        "id": "nw_kTWzrR-O5"
      },
      "source": [
        "---\n",
        "### **Matriz transposta com List Comprehension em todos os níveis**"
      ]
    },
    {
      "cell_type": "code",
      "metadata": {
        "colab_type": "code",
        "id": "aacq_CY9SK_x",
        "outputId": "37725da9-b74b-45aa-c6c6-cbe283e744c0",
        "colab": {
          "base_uri": "https://localhost:8080/",
          "height": 51
        }
      },
      "source": [
        "transp = [] # Desnecessário para o cálculo. Apenas para limpar anteriores.\n",
        "transp = [[linha[x] for linha in matrix] for x in range(len(matrix[0]))]\n",
        "for i in transp: print(i)"
      ],
      "execution_count": 5,
      "outputs": [
        {
          "output_type": "stream",
          "text": [
            "[1, 3, 5, 7]\n",
            "[2, 4, 6, 8]\n"
          ],
          "name": "stdout"
        }
      ]
    },
    {
      "cell_type": "markdown",
      "metadata": {
        "colab_type": "text",
        "id": "xT9YpVrZQh3L"
      },
      "source": [
        "---\n",
        "**Outras formas de gerar uma Matriz Transposta:** https://www.geeksforgeeks.org/transpose-matrix-single-line-python/\n"
      ]
    }
  ]
}