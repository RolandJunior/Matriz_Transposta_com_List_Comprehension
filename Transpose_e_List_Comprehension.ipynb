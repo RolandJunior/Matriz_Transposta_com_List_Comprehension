{
 "cells": [
  {
   "cell_type": "markdown",
   "metadata": {
    "colab_type": "text",
    "id": "XvDtOPXmNSgU"
   },
   "source": [
    "### **Matriz original**"
   ]
  },
  {
   "cell_type": "code",
   "execution_count": 2,
   "metadata": {
    "colab": {
     "base_uri": "https://localhost:8080/",
     "height": 85
    },
    "colab_type": "code",
    "id": "EaUGQKmYuZVE",
    "outputId": "d8d97aa0-3107-409b-d23b-e6a976d349a7"
   },
   "outputs": [
    {
     "name": "stdout",
     "output_type": "stream",
     "text": [
      "[1, 2]\n",
      "[3, 4]\n",
      "[5, 6]\n",
      "[7, 8]\n"
     ]
    }
   ],
   "source": [
    "matrix = [[1, 2],[3,4],[5,6],[7,8]]\n",
    "for i in matrix: print(i)"
   ]
  },
  {
   "cell_type": "markdown",
   "metadata": {
    "colab_type": "text",
    "id": "CMDuJfnCNfi_"
   },
   "source": [
    "---\n",
    "### **Matriz transposta com FOR \"nested\"**"
   ]
  },
  {
   "cell_type": "code",
   "execution_count": 3,
   "metadata": {
    "colab": {
     "base_uri": "https://localhost:8080/",
     "height": 51
    },
    "colab_type": "code",
    "id": "JQ1bCN99Dv3i",
    "outputId": "c97c640e-8e58-405f-d9c0-c0240474fcfe"
   },
   "outputs": [
    {
     "name": "stdout",
     "output_type": "stream",
     "text": [
      "[1, 3, 5, 7]\n",
      "[2, 4, 6, 8]\n"
     ]
    }
   ],
   "source": [
    "transp = []\n",
    "for x in range(len(matrix[0])):\n",
    "  l = []\n",
    "  for linha in matrix:\n",
    "    l.append(linha[x])\n",
    "  transp.append(l)\n",
    "for i in transp: print(i)"
   ]
  },
  {
   "cell_type": "markdown",
   "metadata": {
    "colab_type": "text",
    "id": "b240O1JzN34q"
   },
   "source": [
    "---\n",
    "### **Matriz transposta com List Comprehension no nível interior**"
   ]
  },
  {
   "cell_type": "code",
   "execution_count": 4,
   "metadata": {
    "colab": {
     "base_uri": "https://localhost:8080/",
     "height": 51
    },
    "colab_type": "code",
    "id": "XUhhGbFPHSwl",
    "outputId": "f5a8f2b9-25b6-4514-e4e8-f4ef5f6a2c4c"
   },
   "outputs": [
    {
     "name": "stdout",
     "output_type": "stream",
     "text": [
      "[1, 3, 5, 7]\n",
      "[2, 4, 6, 8]\n"
     ]
    }
   ],
   "source": [
    "transp = []\n",
    "for x in range(len(matrix[0])):\n",
    "  l = [linha[x] for linha in matrix]\n",
    "  transp.append(l)\n",
    "for i in transp: print(i)"
   ]
  },
  {
   "cell_type": "markdown",
   "metadata": {
    "colab_type": "text",
    "id": "nw_kTWzrR-O5"
   },
   "source": [
    "---\n",
    "### **Matriz transposta com List Comprehension em todos os níveis**"
   ]
  },
  {
   "cell_type": "code",
   "execution_count": 5,
   "metadata": {
    "colab": {
     "base_uri": "https://localhost:8080/",
     "height": 51
    },
    "colab_type": "code",
    "id": "aacq_CY9SK_x",
    "outputId": "be683f13-b45e-49c5-d474-db5ef3582d1f"
   },
   "outputs": [
    {
     "name": "stdout",
     "output_type": "stream",
     "text": [
      "[1, 3, 5, 7]\n",
      "[2, 4, 6, 8]\n"
     ]
    }
   ],
   "source": [
    "transp = [] # Desnecessário para o cálculo. Apenas para limpar anteriores.\n",
    "transp = [[linha[x] for linha in matrix] for x in range(len(matrix[0]))]\n",
    "for i in transp: print(i)"
   ]
  },
  {
   "cell_type": "markdown",
   "metadata": {
    "colab_type": "text",
    "id": "xT9YpVrZQh3L"
   },
   "source": [
    "---\n",
    "**Outros exemplos de Transpose:** https://www.geeksforgeeks.org/transpose-matrix-single-line-python/\n"
   ]
  }
 ],
 "metadata": {
  "colab": {
   "name": "Transpose and List Comprehension.ipynb",
   "provenance": []
  },
  "kernelspec": {
   "display_name": "Python 3",
   "language": "python",
   "name": "python3"
  },
  "language_info": {
   "codemirror_mode": {
    "name": "ipython",
    "version": 3
   },
   "file_extension": ".py",
   "mimetype": "text/x-python",
   "name": "python",
   "nbconvert_exporter": "python",
   "pygments_lexer": "ipython3",
   "version": "3.7.7"
  }
 },
 "nbformat": 4,
 "nbformat_minor": 1
}
