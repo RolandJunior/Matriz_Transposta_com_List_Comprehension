{
  "nbformat": 4,
  "nbformat_minor": 0,
  "metadata": {
    "colab": {
      "name": "Transpose e List Comprehension.ipynb",
      "provenance": [],
      "collapsed_sections": []
    },
    "kernelspec": {
      "name": "python3",
      "display_name": "Python 3"
    }
  },
  "cells": [
    {
      "cell_type": "markdown",
      "metadata": {
        "id": "XvDtOPXmNSgU",
        "colab_type": "text"
      },
      "source": [
        "### **Matriz original**"
      ]
    },
    {
      "cell_type": "code",
      "metadata": {
        "id": "EaUGQKmYuZVE",
        "colab_type": "code",
        "colab": {
          "base_uri": "https://localhost:8080/",
          "height": 85
        },
        "outputId": "fa129866-ca7c-4bbc-bc69-4243b86063cb"
      },
      "source": [
        "matrix = [[1,2],[3,4],[5,6],[7,8]]\n",
        "for i in matrix: print(i)"
      ],
      "execution_count": 54,
      "outputs": [
        {
          "output_type": "stream",
          "text": [
            "[1, 2]\n",
            "[3, 4]\n",
            "[5, 6]\n",
            "[7, 8]\n"
          ],
          "name": "stdout"
        }
      ]
    },
    {
      "cell_type": "markdown",
      "metadata": {
        "id": "CMDuJfnCNfi_",
        "colab_type": "text"
      },
      "source": [
        "---\n",
        "### **Matriz transposta com FOR \"nested\"**"
      ]
    },
    {
      "cell_type": "code",
      "metadata": {
        "id": "JQ1bCN99Dv3i",
        "colab_type": "code",
        "colab": {
          "base_uri": "https://localhost:8080/",
          "height": 51
        },
        "outputId": "8d80038e-45be-4a16-e3d0-c6f05de9864a"
      },
      "source": [
        "transp = []\n",
        "for x in range(len(matrix[0])):\n",
        "  l = []\n",
        "  for linha in matrix:\n",
        "    l.append(linha[x])\n",
        "  transp.append(l)\n",
        "for i in transp: print(i)"
      ],
      "execution_count": 55,
      "outputs": [
        {
          "output_type": "stream",
          "text": [
            "[1, 3, 5, 7]\n",
            "[2, 4, 6, 8]\n"
          ],
          "name": "stdout"
        }
      ]
    },
    {
      "cell_type": "markdown",
      "metadata": {
        "id": "b240O1JzN34q",
        "colab_type": "text"
      },
      "source": [
        "---\n",
        "### **Matriz transposta com List Comprehension no nível interior**"
      ]
    },
    {
      "cell_type": "code",
      "metadata": {
        "id": "XUhhGbFPHSwl",
        "colab_type": "code",
        "colab": {
          "base_uri": "https://localhost:8080/",
          "height": 51
        },
        "outputId": "d3081231-c0d6-466c-d8cb-de0df3011afd"
      },
      "source": [
        "transp = []\n",
        "for x in range(len(matrix[0])):\n",
        "  l = [linha[x] for linha in matrix]\n",
        "  transp.append(l)\n",
        "for i in transp: print(i)"
      ],
      "execution_count": 56,
      "outputs": [
        {
          "output_type": "stream",
          "text": [
            "[1, 3, 5, 7]\n",
            "[2, 4, 6, 8]\n"
          ],
          "name": "stdout"
        }
      ]
    },
    {
      "cell_type": "markdown",
      "metadata": {
        "colab_type": "text",
        "id": "nw_kTWzrR-O5"
      },
      "source": [
        "---\n",
        "### **Matriz transposta com List Comprehension em todos os níveis**"
      ]
    },
    {
      "cell_type": "code",
      "metadata": {
        "colab_type": "code",
        "outputId": "e1971569-a5cc-4ce0-8b47-bfd62d522f63",
        "id": "aacq_CY9SK_x",
        "colab": {
          "base_uri": "https://localhost:8080/",
          "height": 51
        }
      },
      "source": [
        "transp = [] # Desnecessário para o cálculo. Apenas para limpar anteriores.\n",
        "transp = [[linha[x] for linha in matrix] for x in range(len(matrix[0]))]\n",
        "for i in transp: print(i)"
      ],
      "execution_count": 57,
      "outputs": [
        {
          "output_type": "stream",
          "text": [
            "[1, 3, 5, 7]\n",
            "[2, 4, 6, 8]\n"
          ],
          "name": "stdout"
        }
      ]
    },
    {
      "cell_type": "markdown",
      "metadata": {
        "id": "xT9YpVrZQh3L",
        "colab_type": "text"
      },
      "source": [
        "---\n",
        "**Outros exemplos de Transpose:** https://www.geeksforgeeks.org/transpose-matrix-single-line-python/\n"
      ]
    }
  ]
}