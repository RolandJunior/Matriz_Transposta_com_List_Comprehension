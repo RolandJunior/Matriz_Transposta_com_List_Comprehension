{
  "nbformat": 4,
  "nbformat_minor": 0,
  "metadata": {
    "colab": {
      "name": "Pandas_Notes.ipynb",
      "provenance": [],
      "collapsed_sections": []
    },
    "kernelspec": {
      "name": "python3",
      "display_name": "Python 3"
    }
  },
  "cells": [
    {
      "cell_type": "code",
      "metadata": {
        "id": "gC6G8SA1-nZf",
        "colab_type": "code",
        "colab": {}
      },
      "source": [
        "import pandas as pd"
      ],
      "execution_count": 0,
      "outputs": []
    },
    {
      "cell_type": "code",
      "metadata": {
        "id": "m3plfI-AxbD2",
        "colab_type": "code",
        "colab": {}
      },
      "source": [
        "arquivo = '../content/drive/My Drive/Temp/salarios.csv'\n",
        "df = pd.read_csv(arquivo)"
      ],
      "execution_count": 0,
      "outputs": []
    },
    {
      "cell_type": "markdown",
      "metadata": {
        "id": "6jWDJqe4xj73",
        "colab_type": "text"
      },
      "source": [
        "### **Tamanho do DataFrame**"
      ]
    },
    {
      "cell_type": "code",
      "metadata": {
        "id": "6EZ4gaMNvruy",
        "colab_type": "code",
        "colab": {
          "base_uri": "https://localhost:8080/",
          "height": 68
        },
        "outputId": "2b65952f-f031-4f26-eee2-e9ccfe7f9311"
      },
      "source": [
        "print(df.shape)\n",
        "print('Linhas:', df.shape[0])\n",
        "print('Colunas:', df.shape[1])"
      ],
      "execution_count": 30,
      "outputs": [
        {
          "output_type": "stream",
          "text": [
            "(32182, 4)\n",
            "Linhas: 32182\n",
            "Colunas: 4\n"
          ],
          "name": "stdout"
        }
      ]
    },
    {
      "cell_type": "markdown",
      "metadata": {
        "id": "ZfBa1xAQyK_g",
        "colab_type": "text"
      },
      "source": [
        "### **Resumo do DataFrame**"
      ]
    },
    {
      "cell_type": "code",
      "metadata": {
        "id": "Y8W1O1KxxWH6",
        "colab_type": "code",
        "colab": {
          "base_uri": "https://localhost:8080/",
          "height": 204
        },
        "outputId": "9e1b4cd0-e8a3-4520-be8b-26f8100e396b"
      },
      "source": [
        "df.info()"
      ],
      "execution_count": 31,
      "outputs": [
        {
          "output_type": "stream",
          "text": [
            "<class 'pandas.core.frame.DataFrame'>\n",
            "RangeIndex: 32182 entries, 0 to 32181\n",
            "Data columns (total 4 columns):\n",
            " #   Column                  Non-Null Count  Dtype \n",
            "---  ------                  --------------  ----- \n",
            " 0   Name                    32181 non-null  object\n",
            " 1   Position Title          32181 non-null  object\n",
            " 2   Department              32181 non-null  object\n",
            " 3   Employee Annual Salary  32181 non-null  object\n",
            "dtypes: object(4)\n",
            "memory usage: 1005.8+ KB\n"
          ],
          "name": "stdout"
        }
      ]
    },
    {
      "cell_type": "markdown",
      "metadata": {
        "id": "7yQC2G4UyXk0",
        "colab_type": "text"
      },
      "source": [
        "### **Resumo do conteúdo**"
      ]
    },
    {
      "cell_type": "code",
      "metadata": {
        "id": "2fG6xc3OxzRf",
        "colab_type": "code",
        "colab": {
          "base_uri": "https://localhost:8080/",
          "height": 204
        },
        "outputId": "3ff89bd1-b957-4d05-ffdc-26cbb908c29f"
      },
      "source": [
        "df.head()"
      ],
      "execution_count": 32,
      "outputs": [
        {
          "output_type": "execute_result",
          "data": {
            "text/html": [
              "<div>\n",
              "<style scoped>\n",
              "    .dataframe tbody tr th:only-of-type {\n",
              "        vertical-align: middle;\n",
              "    }\n",
              "\n",
              "    .dataframe tbody tr th {\n",
              "        vertical-align: top;\n",
              "    }\n",
              "\n",
              "    .dataframe thead th {\n",
              "        text-align: right;\n",
              "    }\n",
              "</style>\n",
              "<table border=\"1\" class=\"dataframe\">\n",
              "  <thead>\n",
              "    <tr style=\"text-align: right;\">\n",
              "      <th></th>\n",
              "      <th>Name</th>\n",
              "      <th>Position Title</th>\n",
              "      <th>Department</th>\n",
              "      <th>Employee Annual Salary</th>\n",
              "    </tr>\n",
              "  </thead>\n",
              "  <tbody>\n",
              "    <tr>\n",
              "      <th>0</th>\n",
              "      <td>AARON,  ELVIA J</td>\n",
              "      <td>WATER RATE TAKER</td>\n",
              "      <td>WATER MGMNT</td>\n",
              "      <td>$88967.00</td>\n",
              "    </tr>\n",
              "    <tr>\n",
              "      <th>1</th>\n",
              "      <td>AARON,  JEFFERY M</td>\n",
              "      <td>POLICE OFFICER</td>\n",
              "      <td>POLICE</td>\n",
              "      <td>$80778.00</td>\n",
              "    </tr>\n",
              "    <tr>\n",
              "      <th>2</th>\n",
              "      <td>AARON,  KARINA</td>\n",
              "      <td>POLICE OFFICER</td>\n",
              "      <td>POLICE</td>\n",
              "      <td>$80778.00</td>\n",
              "    </tr>\n",
              "    <tr>\n",
              "      <th>3</th>\n",
              "      <td>AARON,  KIMBERLEI R</td>\n",
              "      <td>CHIEF CONTRACT EXPEDITER</td>\n",
              "      <td>GENERAL SERVICES</td>\n",
              "      <td>$84780.00</td>\n",
              "    </tr>\n",
              "    <tr>\n",
              "      <th>4</th>\n",
              "      <td>ABAD JR,  VICENTE M</td>\n",
              "      <td>CIVIL ENGINEER IV</td>\n",
              "      <td>WATER MGMNT</td>\n",
              "      <td>$104736.00</td>\n",
              "    </tr>\n",
              "  </tbody>\n",
              "</table>\n",
              "</div>"
            ],
            "text/plain": [
              "                  Name  ... Employee Annual Salary\n",
              "0      AARON,  ELVIA J  ...              $88967.00\n",
              "1    AARON,  JEFFERY M  ...              $80778.00\n",
              "2       AARON,  KARINA  ...              $80778.00\n",
              "3  AARON,  KIMBERLEI R  ...              $84780.00\n",
              "4  ABAD JR,  VICENTE M  ...             $104736.00\n",
              "\n",
              "[5 rows x 4 columns]"
            ]
          },
          "metadata": {
            "tags": []
          },
          "execution_count": 32
        }
      ]
    },
    {
      "cell_type": "markdown",
      "metadata": {
        "id": "6Kqo6oogyfVx",
        "colab_type": "text"
      },
      "source": [
        "### **Selecionando colunas**\n",
        "Colunas sem espaços ou caracteres especiais podem ser selecionadas diretamente com a notação de \"ponto\".\n",
        "\n"
      ]
    },
    {
      "cell_type": "code",
      "metadata": {
        "id": "1e84KPYByUy5",
        "colab_type": "code",
        "colab": {
          "base_uri": "https://localhost:8080/",
          "height": 221
        },
        "outputId": "61b27d63-39e9-458c-ae8b-998d405bc241"
      },
      "source": [
        "df.Name"
      ],
      "execution_count": 33,
      "outputs": [
        {
          "output_type": "execute_result",
          "data": {
            "text/plain": [
              "0            AARON,  ELVIA J\n",
              "1          AARON,  JEFFERY M\n",
              "2             AARON,  KARINA\n",
              "3        AARON,  KIMBERLEI R\n",
              "4        ABAD JR,  VICENTE M\n",
              "                ...         \n",
              "32177     ZYGOWICZ,  PETER J\n",
              "32178      ZYMANTAS,  MARK E\n",
              "32179    ZYRKOWSKI,  CARLO E\n",
              "32180    ZYSKOWSKI,  DARIUSZ\n",
              "32181                    NaN\n",
              "Name: Name, Length: 32182, dtype: object"
            ]
          },
          "metadata": {
            "tags": []
          },
          "execution_count": 33
        }
      ]
    },
    {
      "cell_type": "code",
      "metadata": {
        "id": "3-ZqfgJdyjWx",
        "colab_type": "code",
        "colab": {
          "base_uri": "https://localhost:8080/",
          "height": 221
        },
        "outputId": "514d7f24-9177-4622-add6-fc718d2cf004"
      },
      "source": [
        "df['Name']"
      ],
      "execution_count": 36,
      "outputs": [
        {
          "output_type": "execute_result",
          "data": {
            "text/plain": [
              "0            AARON,  ELVIA J\n",
              "1          AARON,  JEFFERY M\n",
              "2             AARON,  KARINA\n",
              "3        AARON,  KIMBERLEI R\n",
              "4        ABAD JR,  VICENTE M\n",
              "                ...         \n",
              "32177     ZYGOWICZ,  PETER J\n",
              "32178      ZYMANTAS,  MARK E\n",
              "32179    ZYRKOWSKI,  CARLO E\n",
              "32180    ZYSKOWSKI,  DARIUSZ\n",
              "32181                    NaN\n",
              "Name: Name, Length: 32182, dtype: object"
            ]
          },
          "metadata": {
            "tags": []
          },
          "execution_count": 36
        }
      ]
    },
    {
      "cell_type": "code",
      "metadata": {
        "id": "0KP4OCkhyw4n",
        "colab_type": "code",
        "colab": {
          "base_uri": "https://localhost:8080/",
          "height": 221
        },
        "outputId": "9f28aff2-3a5d-48aa-e66a-88e4456f23ff"
      },
      "source": [
        "df['Position Title']"
      ],
      "execution_count": 37,
      "outputs": [
        {
          "output_type": "execute_result",
          "data": {
            "text/plain": [
              "0                WATER RATE TAKER\n",
              "1                  POLICE OFFICER\n",
              "2                  POLICE OFFICER\n",
              "3        CHIEF CONTRACT EXPEDITER\n",
              "4               CIVIL ENGINEER IV\n",
              "                   ...           \n",
              "32177              POLICE OFFICER\n",
              "32178              POLICE OFFICER\n",
              "32179              POLICE OFFICER\n",
              "32180     CHIEF DATA BASE ANALYST\n",
              "32181                         NaN\n",
              "Name: Position Title, Length: 32182, dtype: object"
            ]
          },
          "metadata": {
            "tags": []
          },
          "execution_count": 37
        }
      ]
    },
    {
      "cell_type": "markdown",
      "metadata": {
        "id": "t29ed9TO0BLy",
        "colab_type": "text"
      },
      "source": [
        "### **Filtrando colunas**"
      ]
    },
    {
      "cell_type": "code",
      "metadata": {
        "id": "IGPZj2Mtz7xC",
        "colab_type": "code",
        "colab": {
          "base_uri": "https://localhost:8080/",
          "height": 419
        },
        "outputId": "8c9a8b90-0a42-4e1d-e535-494f26d519cb"
      },
      "source": [
        "df[df.Department == 'POLICE']"
      ],
      "execution_count": 41,
      "outputs": [
        {
          "output_type": "execute_result",
          "data": {
            "text/html": [
              "<div>\n",
              "<style scoped>\n",
              "    .dataframe tbody tr th:only-of-type {\n",
              "        vertical-align: middle;\n",
              "    }\n",
              "\n",
              "    .dataframe tbody tr th {\n",
              "        vertical-align: top;\n",
              "    }\n",
              "\n",
              "    .dataframe thead th {\n",
              "        text-align: right;\n",
              "    }\n",
              "</style>\n",
              "<table border=\"1\" class=\"dataframe\">\n",
              "  <thead>\n",
              "    <tr style=\"text-align: right;\">\n",
              "      <th></th>\n",
              "      <th>Name</th>\n",
              "      <th>Position Title</th>\n",
              "      <th>Department</th>\n",
              "      <th>Employee Annual Salary</th>\n",
              "    </tr>\n",
              "  </thead>\n",
              "  <tbody>\n",
              "    <tr>\n",
              "      <th>1</th>\n",
              "      <td>AARON,  JEFFERY M</td>\n",
              "      <td>POLICE OFFICER</td>\n",
              "      <td>POLICE</td>\n",
              "      <td>$80778.00</td>\n",
              "    </tr>\n",
              "    <tr>\n",
              "      <th>2</th>\n",
              "      <td>AARON,  KARINA</td>\n",
              "      <td>POLICE OFFICER</td>\n",
              "      <td>POLICE</td>\n",
              "      <td>$80778.00</td>\n",
              "    </tr>\n",
              "    <tr>\n",
              "      <th>9</th>\n",
              "      <td>ABBATE,  TERRY M</td>\n",
              "      <td>POLICE OFFICER</td>\n",
              "      <td>POLICE</td>\n",
              "      <td>$86520.00</td>\n",
              "    </tr>\n",
              "    <tr>\n",
              "      <th>11</th>\n",
              "      <td>ABBOTT,  LYNISE M</td>\n",
              "      <td>CLERK III</td>\n",
              "      <td>POLICE</td>\n",
              "      <td>$43920.00</td>\n",
              "    </tr>\n",
              "    <tr>\n",
              "      <th>13</th>\n",
              "      <td>ABDALLAH,  ZAID</td>\n",
              "      <td>POLICE OFFICER</td>\n",
              "      <td>POLICE</td>\n",
              "      <td>$69684.00</td>\n",
              "    </tr>\n",
              "    <tr>\n",
              "      <th>...</th>\n",
              "      <td>...</td>\n",
              "      <td>...</td>\n",
              "      <td>...</td>\n",
              "      <td>...</td>\n",
              "    </tr>\n",
              "    <tr>\n",
              "      <th>32172</th>\n",
              "      <td>ZWIT,  JEFFREY J</td>\n",
              "      <td>POLICE OFFICER</td>\n",
              "      <td>POLICE</td>\n",
              "      <td>$83616.00</td>\n",
              "    </tr>\n",
              "    <tr>\n",
              "      <th>32174</th>\n",
              "      <td>ZYDEK,  BRYAN</td>\n",
              "      <td>POLICE OFFICER</td>\n",
              "      <td>POLICE</td>\n",
              "      <td>$80778.00</td>\n",
              "    </tr>\n",
              "    <tr>\n",
              "      <th>32177</th>\n",
              "      <td>ZYGOWICZ,  PETER J</td>\n",
              "      <td>POLICE OFFICER</td>\n",
              "      <td>POLICE</td>\n",
              "      <td>$86520.00</td>\n",
              "    </tr>\n",
              "    <tr>\n",
              "      <th>32178</th>\n",
              "      <td>ZYMANTAS,  MARK E</td>\n",
              "      <td>POLICE OFFICER</td>\n",
              "      <td>POLICE</td>\n",
              "      <td>$83616.00</td>\n",
              "    </tr>\n",
              "    <tr>\n",
              "      <th>32179</th>\n",
              "      <td>ZYRKOWSKI,  CARLO E</td>\n",
              "      <td>POLICE OFFICER</td>\n",
              "      <td>POLICE</td>\n",
              "      <td>$86520.00</td>\n",
              "    </tr>\n",
              "  </tbody>\n",
              "</table>\n",
              "<p>13570 rows × 4 columns</p>\n",
              "</div>"
            ],
            "text/plain": [
              "                      Name  Position Title Department Employee Annual Salary\n",
              "1        AARON,  JEFFERY M  POLICE OFFICER     POLICE              $80778.00\n",
              "2           AARON,  KARINA  POLICE OFFICER     POLICE              $80778.00\n",
              "9         ABBATE,  TERRY M  POLICE OFFICER     POLICE              $86520.00\n",
              "11       ABBOTT,  LYNISE M       CLERK III     POLICE              $43920.00\n",
              "13         ABDALLAH,  ZAID  POLICE OFFICER     POLICE              $69684.00\n",
              "...                    ...             ...        ...                    ...\n",
              "32172     ZWIT,  JEFFREY J  POLICE OFFICER     POLICE              $83616.00\n",
              "32174        ZYDEK,  BRYAN  POLICE OFFICER     POLICE              $80778.00\n",
              "32177   ZYGOWICZ,  PETER J  POLICE OFFICER     POLICE              $86520.00\n",
              "32178    ZYMANTAS,  MARK E  POLICE OFFICER     POLICE              $83616.00\n",
              "32179  ZYRKOWSKI,  CARLO E  POLICE OFFICER     POLICE              $86520.00\n",
              "\n",
              "[13570 rows x 4 columns]"
            ]
          },
          "metadata": {
            "tags": []
          },
          "execution_count": 41
        }
      ]
    },
    {
      "cell_type": "code",
      "metadata": {
        "id": "o_HVZJwv0gba",
        "colab_type": "code",
        "colab": {
          "base_uri": "https://localhost:8080/",
          "height": 419
        },
        "outputId": "7cf07873-9fc9-4ce5-e7f6-104d81e70cee"
      },
      "source": [
        "df[df['Position Title'] == 'POLICE OFFICER']"
      ],
      "execution_count": 43,
      "outputs": [
        {
          "output_type": "execute_result",
          "data": {
            "text/html": [
              "<div>\n",
              "<style scoped>\n",
              "    .dataframe tbody tr th:only-of-type {\n",
              "        vertical-align: middle;\n",
              "    }\n",
              "\n",
              "    .dataframe tbody tr th {\n",
              "        vertical-align: top;\n",
              "    }\n",
              "\n",
              "    .dataframe thead th {\n",
              "        text-align: right;\n",
              "    }\n",
              "</style>\n",
              "<table border=\"1\" class=\"dataframe\">\n",
              "  <thead>\n",
              "    <tr style=\"text-align: right;\">\n",
              "      <th></th>\n",
              "      <th>Name</th>\n",
              "      <th>Position Title</th>\n",
              "      <th>Department</th>\n",
              "      <th>Employee Annual Salary</th>\n",
              "    </tr>\n",
              "  </thead>\n",
              "  <tbody>\n",
              "    <tr>\n",
              "      <th>1</th>\n",
              "      <td>AARON,  JEFFERY M</td>\n",
              "      <td>POLICE OFFICER</td>\n",
              "      <td>POLICE</td>\n",
              "      <td>$80778.00</td>\n",
              "    </tr>\n",
              "    <tr>\n",
              "      <th>2</th>\n",
              "      <td>AARON,  KARINA</td>\n",
              "      <td>POLICE OFFICER</td>\n",
              "      <td>POLICE</td>\n",
              "      <td>$80778.00</td>\n",
              "    </tr>\n",
              "    <tr>\n",
              "      <th>9</th>\n",
              "      <td>ABBATE,  TERRY M</td>\n",
              "      <td>POLICE OFFICER</td>\n",
              "      <td>POLICE</td>\n",
              "      <td>$86520.00</td>\n",
              "    </tr>\n",
              "    <tr>\n",
              "      <th>13</th>\n",
              "      <td>ABDALLAH,  ZAID</td>\n",
              "      <td>POLICE OFFICER</td>\n",
              "      <td>POLICE</td>\n",
              "      <td>$69684.00</td>\n",
              "    </tr>\n",
              "    <tr>\n",
              "      <th>14</th>\n",
              "      <td>ABDELHADI,  ABDALMAHD</td>\n",
              "      <td>POLICE OFFICER</td>\n",
              "      <td>POLICE</td>\n",
              "      <td>$80778.00</td>\n",
              "    </tr>\n",
              "    <tr>\n",
              "      <th>...</th>\n",
              "      <td>...</td>\n",
              "      <td>...</td>\n",
              "      <td>...</td>\n",
              "      <td>...</td>\n",
              "    </tr>\n",
              "    <tr>\n",
              "      <th>32172</th>\n",
              "      <td>ZWIT,  JEFFREY J</td>\n",
              "      <td>POLICE OFFICER</td>\n",
              "      <td>POLICE</td>\n",
              "      <td>$83616.00</td>\n",
              "    </tr>\n",
              "    <tr>\n",
              "      <th>32174</th>\n",
              "      <td>ZYDEK,  BRYAN</td>\n",
              "      <td>POLICE OFFICER</td>\n",
              "      <td>POLICE</td>\n",
              "      <td>$80778.00</td>\n",
              "    </tr>\n",
              "    <tr>\n",
              "      <th>32177</th>\n",
              "      <td>ZYGOWICZ,  PETER J</td>\n",
              "      <td>POLICE OFFICER</td>\n",
              "      <td>POLICE</td>\n",
              "      <td>$86520.00</td>\n",
              "    </tr>\n",
              "    <tr>\n",
              "      <th>32178</th>\n",
              "      <td>ZYMANTAS,  MARK E</td>\n",
              "      <td>POLICE OFFICER</td>\n",
              "      <td>POLICE</td>\n",
              "      <td>$83616.00</td>\n",
              "    </tr>\n",
              "    <tr>\n",
              "      <th>32179</th>\n",
              "      <td>ZYRKOWSKI,  CARLO E</td>\n",
              "      <td>POLICE OFFICER</td>\n",
              "      <td>POLICE</td>\n",
              "      <td>$86520.00</td>\n",
              "    </tr>\n",
              "  </tbody>\n",
              "</table>\n",
              "<p>9489 rows × 4 columns</p>\n",
              "</div>"
            ],
            "text/plain": [
              "                        Name  Position Title Department Employee Annual Salary\n",
              "1          AARON,  JEFFERY M  POLICE OFFICER     POLICE              $80778.00\n",
              "2             AARON,  KARINA  POLICE OFFICER     POLICE              $80778.00\n",
              "9           ABBATE,  TERRY M  POLICE OFFICER     POLICE              $86520.00\n",
              "13           ABDALLAH,  ZAID  POLICE OFFICER     POLICE              $69684.00\n",
              "14     ABDELHADI,  ABDALMAHD  POLICE OFFICER     POLICE              $80778.00\n",
              "...                      ...             ...        ...                    ...\n",
              "32172       ZWIT,  JEFFREY J  POLICE OFFICER     POLICE              $83616.00\n",
              "32174          ZYDEK,  BRYAN  POLICE OFFICER     POLICE              $80778.00\n",
              "32177     ZYGOWICZ,  PETER J  POLICE OFFICER     POLICE              $86520.00\n",
              "32178      ZYMANTAS,  MARK E  POLICE OFFICER     POLICE              $83616.00\n",
              "32179    ZYRKOWSKI,  CARLO E  POLICE OFFICER     POLICE              $86520.00\n",
              "\n",
              "[9489 rows x 4 columns]"
            ]
          },
          "metadata": {
            "tags": []
          },
          "execution_count": 43
        }
      ]
    },
    {
      "cell_type": "code",
      "metadata": {
        "id": "yDbZmKwD0jMg",
        "colab_type": "code",
        "colab": {}
      },
      "source": [
        ""
      ],
      "execution_count": 0,
      "outputs": []
    }
  ]
}