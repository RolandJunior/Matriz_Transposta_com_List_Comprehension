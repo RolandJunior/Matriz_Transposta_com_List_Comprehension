{
  "nbformat": 4,
  "nbformat_minor": 0,
  "metadata": {
    "colab": {
      "name": "Pandas_Cleaning.ipynb",
      "provenance": [],
      "collapsed_sections": []
    },
    "kernelspec": {
      "name": "python3",
      "display_name": "Python 3"
    }
  },
  "cells": [
    {
      "cell_type": "code",
      "metadata": {
        "id": "gC6G8SA1-nZf",
        "colab_type": "code",
        "colab": {}
      },
      "source": [
        "import pandas as pd"
      ],
      "execution_count": 0,
      "outputs": []
    },
    {
      "cell_type": "code",
      "metadata": {
        "id": "m3plfI-AxbD2",
        "colab_type": "code",
        "outputId": "904bdd05-d25c-4dd4-fb06-d47915ef8768",
        "colab": {
          "base_uri": "https://localhost:8080/",
          "height": 204
        }
      },
      "source": [
        "arquivo = '../content/drive/My Drive/Temp/salarios2.csv'\n",
        "df = pd.read_csv(arquivo)\n",
        "df.head()"
      ],
      "execution_count": 3,
      "outputs": [
        {
          "output_type": "execute_result",
          "data": {
            "text/html": [
              "<div>\n",
              "<style scoped>\n",
              "    .dataframe tbody tr th:only-of-type {\n",
              "        vertical-align: middle;\n",
              "    }\n",
              "\n",
              "    .dataframe tbody tr th {\n",
              "        vertical-align: top;\n",
              "    }\n",
              "\n",
              "    .dataframe thead th {\n",
              "        text-align: right;\n",
              "    }\n",
              "</style>\n",
              "<table border=\"1\" class=\"dataframe\">\n",
              "  <thead>\n",
              "    <tr style=\"text-align: right;\">\n",
              "      <th></th>\n",
              "      <th>Full Name</th>\n",
              "      <th>Position Title</th>\n",
              "      <th>Department</th>\n",
              "      <th>Annual Salary</th>\n",
              "      <th>Monthly Salary</th>\n",
              "      <th>Daily Salary</th>\n",
              "    </tr>\n",
              "  </thead>\n",
              "  <tbody>\n",
              "    <tr>\n",
              "      <th>0</th>\n",
              "      <td>AARON,  ELVIA J</td>\n",
              "      <td>WATER RATE TAKER</td>\n",
              "      <td>WATER MGMNT</td>\n",
              "      <td>88965.0</td>\n",
              "      <td>7413.75</td>\n",
              "      <td>243.74</td>\n",
              "    </tr>\n",
              "    <tr>\n",
              "      <th>1</th>\n",
              "      <td>AARON,  JEFFERY M</td>\n",
              "      <td>POLICE OFFICER</td>\n",
              "      <td>POLICE</td>\n",
              "      <td>80778.0</td>\n",
              "      <td>6731.50</td>\n",
              "      <td>221.31</td>\n",
              "    </tr>\n",
              "    <tr>\n",
              "      <th>2</th>\n",
              "      <td>AARON,  KARINA</td>\n",
              "      <td>POLICE OFFICER</td>\n",
              "      <td>POLICE</td>\n",
              "      <td>80778.0</td>\n",
              "      <td>6731.50</td>\n",
              "      <td>221.31</td>\n",
              "    </tr>\n",
              "    <tr>\n",
              "      <th>3</th>\n",
              "      <td>AARON,  KIMBERLEI R</td>\n",
              "      <td>CHIEF CONTRACT EXPEDITER</td>\n",
              "      <td>GENERAL SERVICES</td>\n",
              "      <td>84780.0</td>\n",
              "      <td>7065.00</td>\n",
              "      <td>232.27</td>\n",
              "    </tr>\n",
              "    <tr>\n",
              "      <th>4</th>\n",
              "      <td>ABAD JR,  VICENTE M</td>\n",
              "      <td>CIVIL ENGINEER IV</td>\n",
              "      <td>WATER MGMNT</td>\n",
              "      <td>104736.0</td>\n",
              "      <td>8728.00</td>\n",
              "      <td>286.95</td>\n",
              "    </tr>\n",
              "  </tbody>\n",
              "</table>\n",
              "</div>"
            ],
            "text/plain": [
              "             Full Name            Position Title  ... Monthly Salary  Daily Salary\n",
              "0      AARON,  ELVIA J          WATER RATE TAKER  ...        7413.75        243.74\n",
              "1    AARON,  JEFFERY M            POLICE OFFICER  ...        6731.50        221.31\n",
              "2       AARON,  KARINA            POLICE OFFICER  ...        6731.50        221.31\n",
              "3  AARON,  KIMBERLEI R  CHIEF CONTRACT EXPEDITER  ...        7065.00        232.27\n",
              "4  ABAD JR,  VICENTE M         CIVIL ENGINEER IV  ...        8728.00        286.95\n",
              "\n",
              "[5 rows x 6 columns]"
            ]
          },
          "metadata": {
            "tags": []
          },
          "execution_count": 3
        }
      ]
    },
    {
      "cell_type": "markdown",
      "metadata": {
        "id": "J4SKrafZxFib",
        "colab_type": "text"
      },
      "source": [
        "---\n",
        "### **Removendo duplicatas**"
      ]
    },
    {
      "cell_type": "code",
      "metadata": {
        "id": "-75c8ddvwc8Z",
        "colab_type": "code",
        "outputId": "0ffcdf73-5c49-4848-ef51-99cd18180279",
        "colab": {
          "base_uri": "https://localhost:8080/",
          "height": 173
        }
      },
      "source": [
        "df[df['Full Name']=='RIVERA,  RICARDO']"
      ],
      "execution_count": 4,
      "outputs": [
        {
          "output_type": "execute_result",
          "data": {
            "text/html": [
              "<div>\n",
              "<style scoped>\n",
              "    .dataframe tbody tr th:only-of-type {\n",
              "        vertical-align: middle;\n",
              "    }\n",
              "\n",
              "    .dataframe tbody tr th {\n",
              "        vertical-align: top;\n",
              "    }\n",
              "\n",
              "    .dataframe thead th {\n",
              "        text-align: right;\n",
              "    }\n",
              "</style>\n",
              "<table border=\"1\" class=\"dataframe\">\n",
              "  <thead>\n",
              "    <tr style=\"text-align: right;\">\n",
              "      <th></th>\n",
              "      <th>Full Name</th>\n",
              "      <th>Position Title</th>\n",
              "      <th>Department</th>\n",
              "      <th>Annual Salary</th>\n",
              "      <th>Monthly Salary</th>\n",
              "      <th>Daily Salary</th>\n",
              "    </tr>\n",
              "  </thead>\n",
              "  <tbody>\n",
              "    <tr>\n",
              "      <th>24212</th>\n",
              "      <td>RIVERA,  RICARDO</td>\n",
              "      <td>MACHINIST (AUTOMOTIVE)</td>\n",
              "      <td>GENERAL SERVICES</td>\n",
              "      <td>92248.0</td>\n",
              "      <td>7687.33</td>\n",
              "      <td>252.73</td>\n",
              "    </tr>\n",
              "    <tr>\n",
              "      <th>24213</th>\n",
              "      <td>RIVERA,  RICARDO</td>\n",
              "      <td>SERGEANT</td>\n",
              "      <td>POLICE</td>\n",
              "      <td>106920.0</td>\n",
              "      <td>8910.00</td>\n",
              "      <td>292.93</td>\n",
              "    </tr>\n",
              "    <tr>\n",
              "      <th>24214</th>\n",
              "      <td>RIVERA,  RICARDO</td>\n",
              "      <td>POLICE OFFICER</td>\n",
              "      <td>POLICE</td>\n",
              "      <td>89718.0</td>\n",
              "      <td>7476.50</td>\n",
              "      <td>245.80</td>\n",
              "    </tr>\n",
              "    <tr>\n",
              "      <th>24215</th>\n",
              "      <td>RIVERA,  RICARDO</td>\n",
              "      <td>POLICE OFFICER</td>\n",
              "      <td>POLICE</td>\n",
              "      <td>83616.0</td>\n",
              "      <td>6968.00</td>\n",
              "      <td>229.08</td>\n",
              "    </tr>\n",
              "  </tbody>\n",
              "</table>\n",
              "</div>"
            ],
            "text/plain": [
              "              Full Name          Position Title  ... Monthly Salary  Daily Salary\n",
              "24212  RIVERA,  RICARDO  MACHINIST (AUTOMOTIVE)  ...        7687.33        252.73\n",
              "24213  RIVERA,  RICARDO                SERGEANT  ...        8910.00        292.93\n",
              "24214  RIVERA,  RICARDO          POLICE OFFICER  ...        7476.50        245.80\n",
              "24215  RIVERA,  RICARDO          POLICE OFFICER  ...        6968.00        229.08\n",
              "\n",
              "[4 rows x 6 columns]"
            ]
          },
          "metadata": {
            "tags": []
          },
          "execution_count": 4
        }
      ]
    },
    {
      "cell_type": "code",
      "metadata": {
        "id": "VFS7lX_cxRq8",
        "colab_type": "code",
        "outputId": "f8898a10-ebff-44a6-f514-4c58bbb27101",
        "colab": {
          "base_uri": "https://localhost:8080/",
          "height": 80
        }
      },
      "source": [
        "df_nodup = df.drop_duplicates(subset='Full Name')\n",
        "df_nodup[df_nodup['Full Name']=='RIVERA,  RICARDO']"
      ],
      "execution_count": 5,
      "outputs": [
        {
          "output_type": "execute_result",
          "data": {
            "text/html": [
              "<div>\n",
              "<style scoped>\n",
              "    .dataframe tbody tr th:only-of-type {\n",
              "        vertical-align: middle;\n",
              "    }\n",
              "\n",
              "    .dataframe tbody tr th {\n",
              "        vertical-align: top;\n",
              "    }\n",
              "\n",
              "    .dataframe thead th {\n",
              "        text-align: right;\n",
              "    }\n",
              "</style>\n",
              "<table border=\"1\" class=\"dataframe\">\n",
              "  <thead>\n",
              "    <tr style=\"text-align: right;\">\n",
              "      <th></th>\n",
              "      <th>Full Name</th>\n",
              "      <th>Position Title</th>\n",
              "      <th>Department</th>\n",
              "      <th>Annual Salary</th>\n",
              "      <th>Monthly Salary</th>\n",
              "      <th>Daily Salary</th>\n",
              "    </tr>\n",
              "  </thead>\n",
              "  <tbody>\n",
              "    <tr>\n",
              "      <th>24212</th>\n",
              "      <td>RIVERA,  RICARDO</td>\n",
              "      <td>MACHINIST (AUTOMOTIVE)</td>\n",
              "      <td>GENERAL SERVICES</td>\n",
              "      <td>92248.0</td>\n",
              "      <td>7687.33</td>\n",
              "      <td>252.73</td>\n",
              "    </tr>\n",
              "  </tbody>\n",
              "</table>\n",
              "</div>"
            ],
            "text/plain": [
              "              Full Name          Position Title  ... Monthly Salary  Daily Salary\n",
              "24212  RIVERA,  RICARDO  MACHINIST (AUTOMOTIVE)  ...        7687.33        252.73\n",
              "\n",
              "[1 rows x 6 columns]"
            ]
          },
          "metadata": {
            "tags": []
          },
          "execution_count": 5
        }
      ]
    }
  ]
}