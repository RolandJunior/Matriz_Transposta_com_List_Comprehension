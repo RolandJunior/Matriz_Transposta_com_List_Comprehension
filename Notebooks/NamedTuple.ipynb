{
  "nbformat": 4,
  "nbformat_minor": 0,
  "metadata": {
    "colab": {
      "name": "NamedTuple.ipynb",
      "provenance": [],
      "collapsed_sections": []
    },
    "kernelspec": {
      "name": "python3",
      "display_name": "Python 3"
    }
  },
  "cells": [
    {
      "cell_type": "markdown",
      "metadata": {
        "id": "8VoL10BRfG5z",
        "colab_type": "text"
      },
      "source": [
        "Often times when working with data, you will use a dictionary just so you can use key names to make reading the code and accessing the data easier to understand. Python has another container called a `namedtuple` that is a tuple, but has names for each position of the tuple. You create one by passing a name for the tuple type and a list of field names.\n",
        "\n",
        "For example, `Cookie = namedtuple(\"Cookie\", ['name', 'quantity'])` will create a container, and you can create new ones of the type using `Cookie('chocolate chip', 1)` where you can access the name using the `name` attribute, and then get the `quantity` using the quantity attribute."
      ]
    },
    {
      "cell_type": "code",
      "metadata": {
        "id": "WlWSv4c_YJ5R",
        "colab_type": "code",
        "colab": {}
      },
      "source": [
        "from collections import namedtuple"
      ],
      "execution_count": 0,
      "outputs": []
    },
    {
      "cell_type": "code",
      "metadata": {
        "id": "I-_mTUE2fP8C",
        "colab_type": "code",
        "colab": {}
      },
      "source": [
        "nt = namedtuple('carro', ['marca', 'cor'])\n",
        "\n",
        "# Tipo: 'carro'\n",
        "# Atributos: 'marca' e 'cor'"
      ],
      "execution_count": 0,
      "outputs": []
    },
    {
      "cell_type": "code",
      "metadata": {
        "id": "hLm_Ne2TfiDx",
        "colab_type": "code",
        "colab": {
          "base_uri": "https://localhost:8080/",
          "height": 51
        },
        "outputId": "00764102-1626-42eb-cc8d-95ff20cc6eba"
      },
      "source": [
        "lista = []\n",
        "lista.append(nt('BMW','azul'))\n",
        "print(lista)\n",
        "lista.append(nt('Honda','vermelho'))\n",
        "print(lista)"
      ],
      "execution_count": 70,
      "outputs": [
        {
          "output_type": "stream",
          "text": [
            "[carro(marca='BMW', cor='azul')]\n",
            "[carro(marca='BMW', cor='azul'), carro(marca='Honda', cor='vermelho')]\n"
          ],
          "name": "stdout"
        }
      ]
    },
    {
      "cell_type": "code",
      "metadata": {
        "id": "ST39sFTUg595",
        "colab_type": "code",
        "colab": {
          "base_uri": "https://localhost:8080/",
          "height": 51
        },
        "outputId": "25718340-e660-4ed4-ea9b-632998846bfb"
      },
      "source": [
        "for i in lista:\n",
        "  print(i.marca, i.cor)"
      ],
      "execution_count": 71,
      "outputs": [
        {
          "output_type": "stream",
          "text": [
            "BMW azul\n",
            "Honda vermelho\n"
          ],
          "name": "stdout"
        }
      ]
    }
  ]
}