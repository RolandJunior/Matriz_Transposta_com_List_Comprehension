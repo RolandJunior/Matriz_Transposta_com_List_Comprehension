{
  "nbformat": 4,
  "nbformat_minor": 0,
  "metadata": {
    "colab": {
      "name": "Nested_Dictionaries.ipynb",
      "provenance": [],
      "collapsed_sections": []
    },
    "kernelspec": {
      "name": "python3",
      "display_name": "Python 3"
    }
  },
  "cells": [
    {
      "cell_type": "code",
      "metadata": {
        "id": "xXFe5jc9lsgb",
        "colab_type": "code",
        "colab": {}
      },
      "source": [
        "dict = {2012: {1:'A', 2:'B', 3:'C'},\n",
        "        2013: {1:'D', 2:'E', 3:'F'},\n",
        "        2014: {1:'G', 2:'H', 3:'I'},\n",
        "        2015: {1:'J', 2:'K', 3:'L'}}"
      ],
      "execution_count": 0,
      "outputs": []
    },
    {
      "cell_type": "markdown",
      "metadata": {
        "id": "Wgb36HfOa_O3",
        "colab_type": "text"
      },
      "source": [
        "---\n",
        "### **RAIZ**"
      ]
    },
    {
      "cell_type": "code",
      "metadata": {
        "id": "A3Z2dEVnb7al",
        "colab_type": "code",
        "outputId": "8d5f1f0b-6ca9-4850-bb7a-dd15dbc84373",
        "colab": {
          "base_uri": "https://localhost:8080/",
          "height": 85
        }
      },
      "source": [
        "dict"
      ],
      "execution_count": 189,
      "outputs": [
        {
          "output_type": "execute_result",
          "data": {
            "text/plain": [
              "{2012: {1: 'A', 2: 'B', 3: 'C'},\n",
              " 2013: {1: 'D', 2: 'E', 3: 'F'},\n",
              " 2014: {1: 'G', 2: 'H', 3: 'I'},\n",
              " 2015: {1: 'J', 2: 'K', 3: 'L'}}"
            ]
          },
          "metadata": {
            "tags": []
          },
          "execution_count": 189
        }
      ]
    },
    {
      "cell_type": "code",
      "metadata": {
        "id": "OnNpCzB9aDcj",
        "colab_type": "code",
        "outputId": "c5859134-d91d-4c22-ba12-4499b8c6eb28",
        "colab": {
          "base_uri": "https://localhost:8080/",
          "height": 85
        }
      },
      "source": [
        "for i in dict.items():\n",
        "  print(i)"
      ],
      "execution_count": 190,
      "outputs": [
        {
          "output_type": "stream",
          "text": [
            "(2012, {1: 'A', 2: 'B', 3: 'C'})\n",
            "(2013, {1: 'D', 2: 'E', 3: 'F'})\n",
            "(2014, {1: 'G', 2: 'H', 3: 'I'})\n",
            "(2015, {1: 'J', 2: 'K', 3: 'L'})\n"
          ],
          "name": "stdout"
        }
      ]
    },
    {
      "cell_type": "code",
      "metadata": {
        "id": "WsRyBnw-aYUr",
        "colab_type": "code",
        "outputId": "45589adc-6842-48bd-94d8-ac31e9709bae",
        "colab": {
          "base_uri": "https://localhost:8080/",
          "height": 85
        }
      },
      "source": [
        "for i in dict.keys():\n",
        "  print(i)"
      ],
      "execution_count": 191,
      "outputs": [
        {
          "output_type": "stream",
          "text": [
            "2012\n",
            "2013\n",
            "2014\n",
            "2015\n"
          ],
          "name": "stdout"
        }
      ]
    },
    {
      "cell_type": "code",
      "metadata": {
        "id": "T7PAEKpPa4H3",
        "colab_type": "code",
        "outputId": "03e04705-6261-42a8-9625-02584f3ff0bb",
        "colab": {
          "base_uri": "https://localhost:8080/",
          "height": 85
        }
      },
      "source": [
        "for i in dict.values():\n",
        "  print(i)"
      ],
      "execution_count": 192,
      "outputs": [
        {
          "output_type": "stream",
          "text": [
            "{1: 'A', 2: 'B', 3: 'C'}\n",
            "{1: 'D', 2: 'E', 3: 'F'}\n",
            "{1: 'G', 2: 'H', 3: 'I'}\n",
            "{1: 'J', 2: 'K', 3: 'L'}\n"
          ],
          "name": "stdout"
        }
      ]
    },
    {
      "cell_type": "markdown",
      "metadata": {
        "id": "FYGrt2iqbJSp",
        "colab_type": "text"
      },
      "source": [
        "---\n",
        "### **NESTED**"
      ]
    },
    {
      "cell_type": "code",
      "metadata": {
        "id": "J3fnGkbNcB-G",
        "colab_type": "code",
        "outputId": "f65f5543-9ee6-47c0-af11-9fbb0514a24d",
        "colab": {
          "base_uri": "https://localhost:8080/",
          "height": 34
        }
      },
      "source": [
        "dict[2013]"
      ],
      "execution_count": 193,
      "outputs": [
        {
          "output_type": "execute_result",
          "data": {
            "text/plain": [
              "{1: 'D', 2: 'E', 3: 'F'}"
            ]
          },
          "metadata": {
            "tags": []
          },
          "execution_count": 193
        }
      ]
    },
    {
      "cell_type": "code",
      "metadata": {
        "id": "KJnCRqHewiE2",
        "colab_type": "code",
        "colab": {
          "base_uri": "https://localhost:8080/",
          "height": 34
        },
        "outputId": "583cc654-0d20-4d26-9654-6e0dcff4d864"
      },
      "source": [
        "dict.get(2013)"
      ],
      "execution_count": 194,
      "outputs": [
        {
          "output_type": "execute_result",
          "data": {
            "text/plain": [
              "{1: 'D', 2: 'E', 3: 'F'}"
            ]
          },
          "metadata": {
            "tags": []
          },
          "execution_count": 194
        }
      ]
    },
    {
      "cell_type": "code",
      "metadata": {
        "id": "NqEtfzpaa7T0",
        "colab_type": "code",
        "outputId": "793560a5-3201-491d-f581-9002d12c37ad",
        "colab": {
          "base_uri": "https://localhost:8080/",
          "height": 68
        }
      },
      "source": [
        "for i in dict[2013].items():\n",
        "  print(i)"
      ],
      "execution_count": 195,
      "outputs": [
        {
          "output_type": "stream",
          "text": [
            "(1, 'D')\n",
            "(2, 'E')\n",
            "(3, 'F')\n"
          ],
          "name": "stdout"
        }
      ]
    },
    {
      "cell_type": "code",
      "metadata": {
        "id": "LuGV6l5sbU09",
        "colab_type": "code",
        "outputId": "c2ce0a06-fb8b-4534-cdeb-852caf8b1334",
        "colab": {
          "base_uri": "https://localhost:8080/",
          "height": 68
        }
      },
      "source": [
        "for i in dict[2013].keys():\n",
        "  print(i)"
      ],
      "execution_count": 196,
      "outputs": [
        {
          "output_type": "stream",
          "text": [
            "1\n",
            "2\n",
            "3\n"
          ],
          "name": "stdout"
        }
      ]
    },
    {
      "cell_type": "code",
      "metadata": {
        "id": "DVdQh0gNbjnN",
        "colab_type": "code",
        "outputId": "cf1f1619-b970-4b34-dabb-684503817196",
        "colab": {
          "base_uri": "https://localhost:8080/",
          "height": 68
        }
      },
      "source": [
        "for i in dict[2013].values():\n",
        "  print(i)"
      ],
      "execution_count": 197,
      "outputs": [
        {
          "output_type": "stream",
          "text": [
            "D\n",
            "E\n",
            "F\n"
          ],
          "name": "stdout"
        }
      ]
    },
    {
      "cell_type": "markdown",
      "metadata": {
        "id": "DOZauyQZbnDH",
        "colab_type": "text"
      },
      "source": [
        "---\n",
        "### **ESPECÍFICO**"
      ]
    },
    {
      "cell_type": "code",
      "metadata": {
        "id": "OhXPvKxAbliz",
        "colab_type": "code",
        "outputId": "e4ad406d-5360-4d5c-e963-5d4d0837ae37",
        "colab": {
          "base_uri": "https://localhost:8080/",
          "height": 85
        }
      },
      "source": [
        "for ano in dict.keys():\n",
        "  print(dict[ano][2])"
      ],
      "execution_count": 198,
      "outputs": [
        {
          "output_type": "stream",
          "text": [
            "B\n",
            "E\n",
            "H\n",
            "K\n"
          ],
          "name": "stdout"
        }
      ]
    },
    {
      "cell_type": "code",
      "metadata": {
        "id": "PNbm80uqb3cI",
        "colab_type": "code",
        "outputId": "ca26f355-adf2-49f3-88dd-2b947d3ad285",
        "colab": {
          "base_uri": "https://localhost:8080/",
          "height": 85
        }
      },
      "source": [
        "for ano in dict.keys():\n",
        "  print(dict[ano].get(2))"
      ],
      "execution_count": 199,
      "outputs": [
        {
          "output_type": "stream",
          "text": [
            "B\n",
            "E\n",
            "H\n",
            "K\n"
          ],
          "name": "stdout"
        }
      ]
    },
    {
      "cell_type": "code",
      "metadata": {
        "id": "513jmhGEc6Py",
        "colab_type": "code",
        "outputId": "253264f1-900c-4673-aa99-6496ac327a6d",
        "colab": {
          "base_uri": "https://localhost:8080/",
          "height": 85
        }
      },
      "source": [
        "for ano in dict.keys():\n",
        "  print(dict[ano].get(4))"
      ],
      "execution_count": 200,
      "outputs": [
        {
          "output_type": "stream",
          "text": [
            "None\n",
            "None\n",
            "None\n",
            "None\n"
          ],
          "name": "stdout"
        }
      ]
    },
    {
      "cell_type": "code",
      "metadata": {
        "id": "dcuIOeLBc9Ho",
        "colab_type": "code",
        "outputId": "c9035e19-7e21-4b44-a3f2-e3bdd7b98201",
        "colab": {
          "base_uri": "https://localhost:8080/",
          "height": 85
        }
      },
      "source": [
        "for ano in dict.keys():\n",
        "  print(dict[ano].get(4,'Não encontrado'))"
      ],
      "execution_count": 201,
      "outputs": [
        {
          "output_type": "stream",
          "text": [
            "Não encontrado\n",
            "Não encontrado\n",
            "Não encontrado\n",
            "Não encontrado\n"
          ],
          "name": "stdout"
        }
      ]
    },
    {
      "cell_type": "code",
      "metadata": {
        "id": "EIKFXSxCdC6g",
        "colab_type": "code",
        "outputId": "e61d0cb8-e536-4c57-af25-b0ca00fbc157",
        "colab": {
          "base_uri": "https://localhost:8080/",
          "height": 221
        }
      },
      "source": [
        "for ano in dict.keys():\n",
        "  for i in dict[ano]:\n",
        "    print(dict[ano].get(i))"
      ],
      "execution_count": 202,
      "outputs": [
        {
          "output_type": "stream",
          "text": [
            "A\n",
            "B\n",
            "C\n",
            "D\n",
            "E\n",
            "F\n",
            "G\n",
            "H\n",
            "I\n",
            "J\n",
            "K\n",
            "L\n"
          ],
          "name": "stdout"
        }
      ]
    },
    {
      "cell_type": "markdown",
      "metadata": {
        "id": "B69ns8Iemd7Q",
        "colab_type": "text"
      },
      "source": [
        "---\n",
        "### **ALTERANDO O CONTEÚDO**"
      ]
    },
    {
      "cell_type": "code",
      "metadata": {
        "id": "3OFYQ1l3lf6S",
        "colab_type": "code",
        "colab": {}
      },
      "source": [
        "dict = {2012: {1:'A', 2:'X', 3:'C'},\n",
        "        2014: {1:'G'},\n",
        "        2015: {1:'J', 2:'K', 3:'L'}}"
      ],
      "execution_count": 0,
      "outputs": []
    },
    {
      "cell_type": "code",
      "metadata": {
        "id": "o73uV3WBlvQQ",
        "colab_type": "code",
        "colab": {
          "base_uri": "https://localhost:8080/",
          "height": 68
        },
        "outputId": "dcf061a7-6436-40d0-eba1-02a7400074a2"
      },
      "source": [
        "dict[2014] = {1:'G',2:'H',3:'I'}\n",
        "dict"
      ],
      "execution_count": 211,
      "outputs": [
        {
          "output_type": "execute_result",
          "data": {
            "text/plain": [
              "{2012: {1: 'A', 2: 'X', 3: 'C'},\n",
              " 2014: {1: 'G', 2: 'H', 3: 'I'},\n",
              " 2015: {1: 'J', 2: 'K', 3: 'L'}}"
            ]
          },
          "metadata": {
            "tags": []
          },
          "execution_count": 211
        }
      ]
    },
    {
      "cell_type": "code",
      "metadata": {
        "id": "Jsf-UmrLlNXR",
        "colab_type": "code",
        "colab": {
          "base_uri": "https://localhost:8080/",
          "height": 68
        },
        "outputId": "755637e5-1365-4fe5-91be-aec42ba52b1d"
      },
      "source": [
        "dict[2012][2] = 'B'\n",
        "dict"
      ],
      "execution_count": 212,
      "outputs": [
        {
          "output_type": "execute_result",
          "data": {
            "text/plain": [
              "{2012: {1: 'A', 2: 'B', 3: 'C'},\n",
              " 2014: {1: 'G', 2: 'H', 3: 'I'},\n",
              " 2015: {1: 'J', 2: 'K', 3: 'L'}}"
            ]
          },
          "metadata": {
            "tags": []
          },
          "execution_count": 212
        }
      ]
    },
    {
      "cell_type": "code",
      "metadata": {
        "id": "Nmxiu_j4mBQv",
        "colab_type": "code",
        "colab": {
          "base_uri": "https://localhost:8080/",
          "height": 85
        },
        "outputId": "080e58d1-19bf-4adc-92e6-84241dec700f"
      },
      "source": [
        "dict[2016] = {1:'M',3:'O'}\n",
        "dict"
      ],
      "execution_count": 213,
      "outputs": [
        {
          "output_type": "execute_result",
          "data": {
            "text/plain": [
              "{2012: {1: 'A', 2: 'B', 3: 'C'},\n",
              " 2014: {1: 'G', 2: 'H', 3: 'I'},\n",
              " 2015: {1: 'J', 2: 'K', 3: 'L'},\n",
              " 2016: {1: 'M', 3: 'O'}}"
            ]
          },
          "metadata": {
            "tags": []
          },
          "execution_count": 213
        }
      ]
    },
    {
      "cell_type": "code",
      "metadata": {
        "id": "k8vSSInnpo3d",
        "colab_type": "code",
        "colab": {
          "base_uri": "https://localhost:8080/",
          "height": 85
        },
        "outputId": "cb39ecab-13f7-4222-d1c0-156f7d8c5045"
      },
      "source": [
        "dict[2016].pop(1)\n",
        "dict"
      ],
      "execution_count": 214,
      "outputs": [
        {
          "output_type": "execute_result",
          "data": {
            "text/plain": [
              "{2012: {1: 'A', 2: 'B', 3: 'C'},\n",
              " 2014: {1: 'G', 2: 'H', 3: 'I'},\n",
              " 2015: {1: 'J', 2: 'K', 3: 'L'},\n",
              " 2016: {3: 'O'}}"
            ]
          },
          "metadata": {
            "tags": []
          },
          "execution_count": 214
        }
      ]
    },
    {
      "cell_type": "code",
      "metadata": {
        "id": "VU9-wYHtodmf",
        "colab_type": "code",
        "colab": {
          "base_uri": "https://localhost:8080/",
          "height": 85
        },
        "outputId": "e3276990-1f2e-4b70-d280-fa1c2a7181b4"
      },
      "source": [
        "dict[2016].update({1:'M',2:'N'})\n",
        "dict"
      ],
      "execution_count": 215,
      "outputs": [
        {
          "output_type": "execute_result",
          "data": {
            "text/plain": [
              "{2012: {1: 'A', 2: 'B', 3: 'C'},\n",
              " 2014: {1: 'G', 2: 'H', 3: 'I'},\n",
              " 2015: {1: 'J', 2: 'K', 3: 'L'},\n",
              " 2016: {1: 'M', 2: 'N', 3: 'O'}}"
            ]
          },
          "metadata": {
            "tags": []
          },
          "execution_count": 215
        }
      ]
    },
    {
      "cell_type": "code",
      "metadata": {
        "id": "F_BuBRIOmU-4",
        "colab_type": "code",
        "colab": {
          "base_uri": "https://localhost:8080/",
          "height": 68
        },
        "outputId": "570f2e5f-60d4-48d2-996b-9a3b4a55dd64"
      },
      "source": [
        "dict.pop(2014)\n",
        "dict"
      ],
      "execution_count": 216,
      "outputs": [
        {
          "output_type": "execute_result",
          "data": {
            "text/plain": [
              "{2012: {1: 'A', 2: 'B', 3: 'C'},\n",
              " 2015: {1: 'J', 2: 'K', 3: 'L'},\n",
              " 2016: {1: 'M', 2: 'N', 3: 'O'}}"
            ]
          },
          "metadata": {
            "tags": []
          },
          "execution_count": 216
        }
      ]
    },
    {
      "cell_type": "code",
      "metadata": {
        "id": "W95KaQnDmviR",
        "colab_type": "code",
        "colab": {
          "base_uri": "https://localhost:8080/",
          "height": 102
        },
        "outputId": "026f62a0-02f9-4030-f82c-ffee7d114fa5"
      },
      "source": [
        "dict2 = {2013: {1:'D', 2:'E', 3:'F'},\n",
        "        2014: {1:'G', 2:'H', 3:'I'}}\n",
        "\n",
        "dict.update(dict2)\n",
        "dict"
      ],
      "execution_count": 217,
      "outputs": [
        {
          "output_type": "execute_result",
          "data": {
            "text/plain": [
              "{2012: {1: 'A', 2: 'B', 3: 'C'},\n",
              " 2013: {1: 'D', 2: 'E', 3: 'F'},\n",
              " 2014: {1: 'G', 2: 'H', 3: 'I'},\n",
              " 2015: {1: 'J', 2: 'K', 3: 'L'},\n",
              " 2016: {1: 'M', 2: 'N', 3: 'O'}}"
            ]
          },
          "metadata": {
            "tags": []
          },
          "execution_count": 217
        }
      ]
    }
  ]
}