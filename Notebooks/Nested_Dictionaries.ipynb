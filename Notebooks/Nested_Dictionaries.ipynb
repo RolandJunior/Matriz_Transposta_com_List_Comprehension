{
  "nbformat": 4,
  "nbformat_minor": 0,
  "metadata": {
    "colab": {
      "name": "Nested_Dictionaries.ipynb",
      "provenance": [],
      "collapsed_sections": []
    },
    "kernelspec": {
      "name": "python3",
      "display_name": "Python 3"
    }
  },
  "cells": [
    {
      "cell_type": "code",
      "metadata": {
        "id": "xXFe5jc9lsgb",
        "colab_type": "code",
        "colab": {}
      },
      "source": [
        "dict = {2012: {1:'A', 2:'B', 3:'C'},\n",
        "        2013: {1:'D', 2:'E', 3:'F'},\n",
        "        2014: {1:'G', 2:'H', 3:'I'},\n",
        "        2015: {1:'J', 2:'K', 3:'L'}}"
      ],
      "execution_count": 0,
      "outputs": []
    },
    {
      "cell_type": "markdown",
      "metadata": {
        "id": "Wgb36HfOa_O3",
        "colab_type": "text"
      },
      "source": [
        "---\n",
        "### **RAIZ**"
      ]
    },
    {
      "cell_type": "code",
      "metadata": {
        "id": "A3Z2dEVnb7al",
        "colab_type": "code",
        "outputId": "0431bba4-c0b7-4915-cdcd-48d35fe08d47",
        "colab": {
          "base_uri": "https://localhost:8080/",
          "height": 85
        }
      },
      "source": [
        "dict"
      ],
      "execution_count": 0,
      "outputs": [
        {
          "output_type": "execute_result",
          "data": {
            "text/plain": [
              "{2012: {1: 'A', 2: 'B', 3: 'C'},\n",
              " 2013: {1: 'D', 2: 'E', 3: 'F'},\n",
              " 2014: {1: 'G', 2: 'H', 3: 'I'},\n",
              " 2015: {1: 'J', 2: 'K', 3: 'L'}}"
            ]
          },
          "metadata": {
            "tags": []
          },
          "execution_count": 88
        }
      ]
    },
    {
      "cell_type": "code",
      "metadata": {
        "id": "OnNpCzB9aDcj",
        "colab_type": "code",
        "outputId": "becfc112-0baa-4eac-f486-87d3927ccd52",
        "colab": {
          "base_uri": "https://localhost:8080/",
          "height": 85
        }
      },
      "source": [
        "for i in dict.items():\n",
        "  print(i)"
      ],
      "execution_count": 0,
      "outputs": [
        {
          "output_type": "stream",
          "text": [
            "(2012, {1: 'A', 2: 'B', 3: 'C'})\n",
            "(2013, {1: 'D', 2: 'E', 3: 'F'})\n",
            "(2014, {1: 'G', 2: 'H', 3: 'I'})\n",
            "(2015, {1: 'J', 2: 'K', 3: 'L'})\n"
          ],
          "name": "stdout"
        }
      ]
    },
    {
      "cell_type": "code",
      "metadata": {
        "id": "WsRyBnw-aYUr",
        "colab_type": "code",
        "outputId": "fd6029d5-a79f-4510-9420-88ddd1b401df",
        "colab": {
          "base_uri": "https://localhost:8080/",
          "height": 85
        }
      },
      "source": [
        "for i in dict.keys():\n",
        "  print(i)"
      ],
      "execution_count": 0,
      "outputs": [
        {
          "output_type": "stream",
          "text": [
            "2012\n",
            "2013\n",
            "2014\n",
            "2015\n"
          ],
          "name": "stdout"
        }
      ]
    },
    {
      "cell_type": "code",
      "metadata": {
        "id": "T7PAEKpPa4H3",
        "colab_type": "code",
        "outputId": "ee04b7f9-211c-4bd9-b13a-c6abaddf3691",
        "colab": {
          "base_uri": "https://localhost:8080/",
          "height": 85
        }
      },
      "source": [
        "for i in dict.values():\n",
        "  print(i)"
      ],
      "execution_count": 0,
      "outputs": [
        {
          "output_type": "stream",
          "text": [
            "{1: 'A', 2: 'B', 3: 'C'}\n",
            "{1: 'D', 2: 'E', 3: 'F'}\n",
            "{1: 'G', 2: 'H', 3: 'I'}\n",
            "{1: 'J', 2: 'K', 3: 'L'}\n"
          ],
          "name": "stdout"
        }
      ]
    },
    {
      "cell_type": "markdown",
      "metadata": {
        "id": "FYGrt2iqbJSp",
        "colab_type": "text"
      },
      "source": [
        "---\n",
        "### **NESTED**"
      ]
    },
    {
      "cell_type": "code",
      "metadata": {
        "id": "J3fnGkbNcB-G",
        "colab_type": "code",
        "outputId": "14d86598-aadf-40e1-8a67-2c5026d2f644",
        "colab": {
          "base_uri": "https://localhost:8080/",
          "height": 34
        }
      },
      "source": [
        "dict[2013]"
      ],
      "execution_count": 0,
      "outputs": [
        {
          "output_type": "execute_result",
          "data": {
            "text/plain": [
              "{1: 'D', 2: 'E', 3: 'F'}"
            ]
          },
          "metadata": {
            "tags": []
          },
          "execution_count": 92
        }
      ]
    },
    {
      "cell_type": "code",
      "metadata": {
        "id": "NqEtfzpaa7T0",
        "colab_type": "code",
        "outputId": "4da228bf-9f88-4333-b0af-b7c16bdee72c",
        "colab": {
          "base_uri": "https://localhost:8080/",
          "height": 68
        }
      },
      "source": [
        "for i in dict[2013].items():\n",
        "  print(i)"
      ],
      "execution_count": 0,
      "outputs": [
        {
          "output_type": "stream",
          "text": [
            "(1, 'D')\n",
            "(2, 'E')\n",
            "(3, 'F')\n"
          ],
          "name": "stdout"
        }
      ]
    },
    {
      "cell_type": "code",
      "metadata": {
        "id": "LuGV6l5sbU09",
        "colab_type": "code",
        "outputId": "c625ba82-dfdf-4620-86b7-2a4d3e7d444a",
        "colab": {
          "base_uri": "https://localhost:8080/",
          "height": 68
        }
      },
      "source": [
        "for i in dict[2013].keys():\n",
        "  print(i)"
      ],
      "execution_count": 0,
      "outputs": [
        {
          "output_type": "stream",
          "text": [
            "1\n",
            "2\n",
            "3\n"
          ],
          "name": "stdout"
        }
      ]
    },
    {
      "cell_type": "code",
      "metadata": {
        "id": "DVdQh0gNbjnN",
        "colab_type": "code",
        "outputId": "92fe7756-a007-4a1c-cb12-d8c0102c67ba",
        "colab": {
          "base_uri": "https://localhost:8080/",
          "height": 68
        }
      },
      "source": [
        "for i in dict[2013].values():\n",
        "  print(i)"
      ],
      "execution_count": 0,
      "outputs": [
        {
          "output_type": "stream",
          "text": [
            "D\n",
            "E\n",
            "F\n"
          ],
          "name": "stdout"
        }
      ]
    },
    {
      "cell_type": "markdown",
      "metadata": {
        "id": "DOZauyQZbnDH",
        "colab_type": "text"
      },
      "source": [
        "---\n",
        "### **ESPECÍFICO**"
      ]
    },
    {
      "cell_type": "code",
      "metadata": {
        "id": "OhXPvKxAbliz",
        "colab_type": "code",
        "outputId": "852afe87-d4ec-4686-e8a8-41c2f13486f4",
        "colab": {
          "base_uri": "https://localhost:8080/",
          "height": 85
        }
      },
      "source": [
        "for ano in dict.keys():\n",
        "  print(dict[ano][2])"
      ],
      "execution_count": 0,
      "outputs": [
        {
          "output_type": "stream",
          "text": [
            "B\n",
            "E\n",
            "H\n",
            "K\n"
          ],
          "name": "stdout"
        }
      ]
    },
    {
      "cell_type": "code",
      "metadata": {
        "id": "PNbm80uqb3cI",
        "colab_type": "code",
        "outputId": "f1ec4a28-d08a-4d58-da2b-3865bc346a08",
        "colab": {
          "base_uri": "https://localhost:8080/",
          "height": 85
        }
      },
      "source": [
        "for ano in dict.keys():\n",
        "  print(dict[ano].get(2))"
      ],
      "execution_count": 0,
      "outputs": [
        {
          "output_type": "stream",
          "text": [
            "B\n",
            "E\n",
            "H\n",
            "K\n"
          ],
          "name": "stdout"
        }
      ]
    },
    {
      "cell_type": "code",
      "metadata": {
        "id": "513jmhGEc6Py",
        "colab_type": "code",
        "outputId": "50398be3-757a-4346-d092-00a21b7f7242",
        "colab": {
          "base_uri": "https://localhost:8080/",
          "height": 85
        }
      },
      "source": [
        "for ano in dict.keys():\n",
        "  print(dict[ano].get(4))"
      ],
      "execution_count": 0,
      "outputs": [
        {
          "output_type": "stream",
          "text": [
            "None\n",
            "None\n",
            "None\n",
            "None\n"
          ],
          "name": "stdout"
        }
      ]
    },
    {
      "cell_type": "code",
      "metadata": {
        "id": "dcuIOeLBc9Ho",
        "colab_type": "code",
        "outputId": "4fc7e253-e7f7-4862-c866-048098843f7d",
        "colab": {
          "base_uri": "https://localhost:8080/",
          "height": 85
        }
      },
      "source": [
        "for ano in dict.keys():\n",
        "  print(dict[ano].get(4,'Não encontrado'))"
      ],
      "execution_count": 0,
      "outputs": [
        {
          "output_type": "stream",
          "text": [
            "Não encontrado\n",
            "Não encontrado\n",
            "Não encontrado\n",
            "Não encontrado\n"
          ],
          "name": "stdout"
        }
      ]
    },
    {
      "cell_type": "code",
      "metadata": {
        "id": "EIKFXSxCdC6g",
        "colab_type": "code",
        "outputId": "451e7b3a-7f9a-41b7-a316-1d5de3f5d4da",
        "colab": {
          "base_uri": "https://localhost:8080/",
          "height": 221
        }
      },
      "source": [
        "for ano in dict.keys():\n",
        "  for i in dict[ano]:\n",
        "    print(dict[ano].get(i))"
      ],
      "execution_count": 0,
      "outputs": [
        {
          "output_type": "stream",
          "text": [
            "A\n",
            "B\n",
            "C\n",
            "D\n",
            "E\n",
            "F\n",
            "G\n",
            "H\n",
            "I\n",
            "J\n",
            "K\n",
            "L\n"
          ],
          "name": "stdout"
        }
      ]
    },
    {
      "cell_type": "markdown",
      "metadata": {
        "id": "B69ns8Iemd7Q",
        "colab_type": "text"
      },
      "source": [
        "---\n",
        "### **ALTERANDO O CONTEÚDO**"
      ]
    },
    {
      "cell_type": "code",
      "metadata": {
        "id": "3OFYQ1l3lf6S",
        "colab_type": "code",
        "colab": {}
      },
      "source": [
        "dict = {2012: {1:'A', 2:'X', 3:'C'},\n",
        "        2014: {1:'G'},\n",
        "        2015: {1:'J', 2:'K', 3:'L'}}"
      ],
      "execution_count": 0,
      "outputs": []
    },
    {
      "cell_type": "code",
      "metadata": {
        "id": "o73uV3WBlvQQ",
        "colab_type": "code",
        "colab": {
          "base_uri": "https://localhost:8080/",
          "height": 68
        },
        "outputId": "945d242f-faa2-4b59-f0c3-8997fa083eb6"
      },
      "source": [
        "dict[2014] = {1:'G',2:'H',3:'I'}\n",
        "dict"
      ],
      "execution_count": 176,
      "outputs": [
        {
          "output_type": "execute_result",
          "data": {
            "text/plain": [
              "{2012: {1: 'A', 2: 'X', 3: 'C'},\n",
              " 2014: {1: 'G', 2: 'H', 3: 'I'},\n",
              " 2015: {1: 'J', 2: 'K', 3: 'L'}}"
            ]
          },
          "metadata": {
            "tags": []
          },
          "execution_count": 176
        }
      ]
    },
    {
      "cell_type": "code",
      "metadata": {
        "id": "Jsf-UmrLlNXR",
        "colab_type": "code",
        "colab": {
          "base_uri": "https://localhost:8080/",
          "height": 68
        },
        "outputId": "d6061d22-73e3-41d0-f27b-30805610e9fe"
      },
      "source": [
        "dict[2012][2] = 'B'\n",
        "dict"
      ],
      "execution_count": 177,
      "outputs": [
        {
          "output_type": "execute_result",
          "data": {
            "text/plain": [
              "{2012: {1: 'A', 2: 'B', 3: 'C'},\n",
              " 2014: {1: 'G', 2: 'H', 3: 'I'},\n",
              " 2015: {1: 'J', 2: 'K', 3: 'L'}}"
            ]
          },
          "metadata": {
            "tags": []
          },
          "execution_count": 177
        }
      ]
    },
    {
      "cell_type": "code",
      "metadata": {
        "id": "Nmxiu_j4mBQv",
        "colab_type": "code",
        "colab": {
          "base_uri": "https://localhost:8080/",
          "height": 85
        },
        "outputId": "3f2a1276-2d27-480f-c459-81a61dbb5b93"
      },
      "source": [
        "dict[2016] = {1:'M',3:'O'}\n",
        "dict"
      ],
      "execution_count": 178,
      "outputs": [
        {
          "output_type": "execute_result",
          "data": {
            "text/plain": [
              "{2012: {1: 'A', 2: 'B', 3: 'C'},\n",
              " 2014: {1: 'G', 2: 'H', 3: 'I'},\n",
              " 2015: {1: 'J', 2: 'K', 3: 'L'},\n",
              " 2016: {1: 'M', 3: 'O'}}"
            ]
          },
          "metadata": {
            "tags": []
          },
          "execution_count": 178
        }
      ]
    },
    {
      "cell_type": "code",
      "metadata": {
        "id": "k8vSSInnpo3d",
        "colab_type": "code",
        "colab": {
          "base_uri": "https://localhost:8080/",
          "height": 85
        },
        "outputId": "cee850c5-f640-497d-d7af-6c05e3cf8471"
      },
      "source": [
        "dict[2016].pop(1)\n",
        "dict"
      ],
      "execution_count": 179,
      "outputs": [
        {
          "output_type": "execute_result",
          "data": {
            "text/plain": [
              "{2012: {1: 'A', 2: 'B', 3: 'C'},\n",
              " 2014: {1: 'G', 2: 'H', 3: 'I'},\n",
              " 2015: {1: 'J', 2: 'K', 3: 'L'},\n",
              " 2016: {3: 'O'}}"
            ]
          },
          "metadata": {
            "tags": []
          },
          "execution_count": 179
        }
      ]
    },
    {
      "cell_type": "code",
      "metadata": {
        "id": "VU9-wYHtodmf",
        "colab_type": "code",
        "colab": {
          "base_uri": "https://localhost:8080/",
          "height": 85
        },
        "outputId": "f3b0a4a4-a67b-446c-8f28-62a5f836e7fb"
      },
      "source": [
        "dict[2016].update({1:'M',2:'N'})\n",
        "dict"
      ],
      "execution_count": 180,
      "outputs": [
        {
          "output_type": "execute_result",
          "data": {
            "text/plain": [
              "{2012: {1: 'A', 2: 'B', 3: 'C'},\n",
              " 2014: {1: 'G', 2: 'H', 3: 'I'},\n",
              " 2015: {1: 'J', 2: 'K', 3: 'L'},\n",
              " 2016: {1: 'M', 2: 'N', 3: 'O'}}"
            ]
          },
          "metadata": {
            "tags": []
          },
          "execution_count": 180
        }
      ]
    },
    {
      "cell_type": "code",
      "metadata": {
        "id": "F_BuBRIOmU-4",
        "colab_type": "code",
        "colab": {
          "base_uri": "https://localhost:8080/",
          "height": 68
        },
        "outputId": "eee6f7e5-3b21-47a5-838e-bbd321b685b3"
      },
      "source": [
        "dict.pop(2014)\n",
        "dict"
      ],
      "execution_count": 181,
      "outputs": [
        {
          "output_type": "execute_result",
          "data": {
            "text/plain": [
              "{2012: {1: 'A', 2: 'B', 3: 'C'},\n",
              " 2015: {1: 'J', 2: 'K', 3: 'L'},\n",
              " 2016: {1: 'M', 2: 'N', 3: 'O'}}"
            ]
          },
          "metadata": {
            "tags": []
          },
          "execution_count": 181
        }
      ]
    },
    {
      "cell_type": "code",
      "metadata": {
        "id": "W95KaQnDmviR",
        "colab_type": "code",
        "colab": {
          "base_uri": "https://localhost:8080/",
          "height": 102
        },
        "outputId": "375e4190-694e-477b-e69d-1b9361c13800"
      },
      "source": [
        "dict2 = {2013: {1:'D', 2:'E', 3:'F'},\n",
        "        2014: {1:'G', 2:'H', 3:'I'}}\n",
        "\n",
        "dict.update(dict2)\n",
        "dict"
      ],
      "execution_count": 182,
      "outputs": [
        {
          "output_type": "execute_result",
          "data": {
            "text/plain": [
              "{2012: {1: 'A', 2: 'B', 3: 'C'},\n",
              " 2013: {1: 'D', 2: 'E', 3: 'F'},\n",
              " 2014: {1: 'G', 2: 'H', 3: 'I'},\n",
              " 2015: {1: 'J', 2: 'K', 3: 'L'},\n",
              " 2016: {1: 'M', 2: 'N', 3: 'O'}}"
            ]
          },
          "metadata": {
            "tags": []
          },
          "execution_count": 182
        }
      ]
    }
  ]
}