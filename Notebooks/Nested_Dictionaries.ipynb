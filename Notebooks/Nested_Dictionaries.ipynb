{
  "nbformat": 4,
  "nbformat_minor": 0,
  "metadata": {
    "colab": {
      "name": "Nested_Dictionaries.ipynb",
      "provenance": [],
      "collapsed_sections": []
    },
    "kernelspec": {
      "name": "python3",
      "display_name": "Python 3"
    }
  },
  "cells": [
    {
      "cell_type": "code",
      "metadata": {
        "id": "xXFe5jc9lsgb",
        "colab_type": "code",
        "colab": {}
      },
      "source": [
        "dict = {2012: {1:'A', 2:'B', 3:'C'},\n",
        "        2013: {1:'D', 2:'E', 3:'F'},\n",
        "        2014: {1:'G', 2:'H', 3:'I'},\n",
        "        2015: {1:'J', 2:'K', 3:'L'}}"
      ],
      "execution_count": 0,
      "outputs": []
    },
    {
      "cell_type": "markdown",
      "metadata": {
        "id": "Wgb36HfOa_O3",
        "colab_type": "text"
      },
      "source": [
        "---\n",
        "### **RAIZ**"
      ]
    },
    {
      "cell_type": "code",
      "metadata": {
        "id": "A3Z2dEVnb7al",
        "colab_type": "code",
        "colab": {
          "base_uri": "https://localhost:8080/",
          "height": 85
        },
        "outputId": "0431bba4-c0b7-4915-cdcd-48d35fe08d47"
      },
      "source": [
        "dict"
      ],
      "execution_count": 88,
      "outputs": [
        {
          "output_type": "execute_result",
          "data": {
            "text/plain": [
              "{2012: {1: 'A', 2: 'B', 3: 'C'},\n",
              " 2013: {1: 'D', 2: 'E', 3: 'F'},\n",
              " 2014: {1: 'G', 2: 'H', 3: 'I'},\n",
              " 2015: {1: 'J', 2: 'K', 3: 'L'}}"
            ]
          },
          "metadata": {
            "tags": []
          },
          "execution_count": 88
        }
      ]
    },
    {
      "cell_type": "code",
      "metadata": {
        "id": "OnNpCzB9aDcj",
        "colab_type": "code",
        "colab": {
          "base_uri": "https://localhost:8080/",
          "height": 85
        },
        "outputId": "becfc112-0baa-4eac-f486-87d3927ccd52"
      },
      "source": [
        "for i in dict.items():\n",
        "  print(i)"
      ],
      "execution_count": 89,
      "outputs": [
        {
          "output_type": "stream",
          "text": [
            "(2012, {1: 'A', 2: 'B', 3: 'C'})\n",
            "(2013, {1: 'D', 2: 'E', 3: 'F'})\n",
            "(2014, {1: 'G', 2: 'H', 3: 'I'})\n",
            "(2015, {1: 'J', 2: 'K', 3: 'L'})\n"
          ],
          "name": "stdout"
        }
      ]
    },
    {
      "cell_type": "code",
      "metadata": {
        "id": "WsRyBnw-aYUr",
        "colab_type": "code",
        "colab": {
          "base_uri": "https://localhost:8080/",
          "height": 85
        },
        "outputId": "fd6029d5-a79f-4510-9420-88ddd1b401df"
      },
      "source": [
        "for i in dict.keys():\n",
        "  print(i)"
      ],
      "execution_count": 90,
      "outputs": [
        {
          "output_type": "stream",
          "text": [
            "2012\n",
            "2013\n",
            "2014\n",
            "2015\n"
          ],
          "name": "stdout"
        }
      ]
    },
    {
      "cell_type": "code",
      "metadata": {
        "id": "T7PAEKpPa4H3",
        "colab_type": "code",
        "colab": {
          "base_uri": "https://localhost:8080/",
          "height": 85
        },
        "outputId": "ee04b7f9-211c-4bd9-b13a-c6abaddf3691"
      },
      "source": [
        "for i in dict.values():\n",
        "  print(i)"
      ],
      "execution_count": 91,
      "outputs": [
        {
          "output_type": "stream",
          "text": [
            "{1: 'A', 2: 'B', 3: 'C'}\n",
            "{1: 'D', 2: 'E', 3: 'F'}\n",
            "{1: 'G', 2: 'H', 3: 'I'}\n",
            "{1: 'J', 2: 'K', 3: 'L'}\n"
          ],
          "name": "stdout"
        }
      ]
    },
    {
      "cell_type": "markdown",
      "metadata": {
        "id": "FYGrt2iqbJSp",
        "colab_type": "text"
      },
      "source": [
        "---\n",
        "### **NESTED**"
      ]
    },
    {
      "cell_type": "code",
      "metadata": {
        "id": "J3fnGkbNcB-G",
        "colab_type": "code",
        "colab": {
          "base_uri": "https://localhost:8080/",
          "height": 34
        },
        "outputId": "14d86598-aadf-40e1-8a67-2c5026d2f644"
      },
      "source": [
        "dict[2013]"
      ],
      "execution_count": 92,
      "outputs": [
        {
          "output_type": "execute_result",
          "data": {
            "text/plain": [
              "{1: 'D', 2: 'E', 3: 'F'}"
            ]
          },
          "metadata": {
            "tags": []
          },
          "execution_count": 92
        }
      ]
    },
    {
      "cell_type": "code",
      "metadata": {
        "id": "NqEtfzpaa7T0",
        "colab_type": "code",
        "colab": {
          "base_uri": "https://localhost:8080/",
          "height": 68
        },
        "outputId": "4da228bf-9f88-4333-b0af-b7c16bdee72c"
      },
      "source": [
        "for i in dict[2013].items():\n",
        "  print(i)"
      ],
      "execution_count": 93,
      "outputs": [
        {
          "output_type": "stream",
          "text": [
            "(1, 'D')\n",
            "(2, 'E')\n",
            "(3, 'F')\n"
          ],
          "name": "stdout"
        }
      ]
    },
    {
      "cell_type": "code",
      "metadata": {
        "id": "LuGV6l5sbU09",
        "colab_type": "code",
        "colab": {
          "base_uri": "https://localhost:8080/",
          "height": 68
        },
        "outputId": "c625ba82-dfdf-4620-86b7-2a4d3e7d444a"
      },
      "source": [
        "for i in dict[2013].keys():\n",
        "  print(i)"
      ],
      "execution_count": 94,
      "outputs": [
        {
          "output_type": "stream",
          "text": [
            "1\n",
            "2\n",
            "3\n"
          ],
          "name": "stdout"
        }
      ]
    },
    {
      "cell_type": "code",
      "metadata": {
        "id": "DVdQh0gNbjnN",
        "colab_type": "code",
        "colab": {
          "base_uri": "https://localhost:8080/",
          "height": 68
        },
        "outputId": "92fe7756-a007-4a1c-cb12-d8c0102c67ba"
      },
      "source": [
        "for i in dict[2013].values():\n",
        "  print(i)"
      ],
      "execution_count": 95,
      "outputs": [
        {
          "output_type": "stream",
          "text": [
            "D\n",
            "E\n",
            "F\n"
          ],
          "name": "stdout"
        }
      ]
    },
    {
      "cell_type": "markdown",
      "metadata": {
        "id": "DOZauyQZbnDH",
        "colab_type": "text"
      },
      "source": [
        "---\n",
        "### **ESPECÍFICO**"
      ]
    },
    {
      "cell_type": "code",
      "metadata": {
        "id": "OhXPvKxAbliz",
        "colab_type": "code",
        "colab": {
          "base_uri": "https://localhost:8080/",
          "height": 85
        },
        "outputId": "852afe87-d4ec-4686-e8a8-41c2f13486f4"
      },
      "source": [
        "for ano in dict.keys():\n",
        "  print(dict[ano][2])"
      ],
      "execution_count": 103,
      "outputs": [
        {
          "output_type": "stream",
          "text": [
            "B\n",
            "E\n",
            "H\n",
            "K\n"
          ],
          "name": "stdout"
        }
      ]
    },
    {
      "cell_type": "code",
      "metadata": {
        "id": "PNbm80uqb3cI",
        "colab_type": "code",
        "colab": {
          "base_uri": "https://localhost:8080/",
          "height": 85
        },
        "outputId": "f1ec4a28-d08a-4d58-da2b-3865bc346a08"
      },
      "source": [
        "for ano in dict.keys():\n",
        "  print(dict[ano].get(2))"
      ],
      "execution_count": 104,
      "outputs": [
        {
          "output_type": "stream",
          "text": [
            "B\n",
            "E\n",
            "H\n",
            "K\n"
          ],
          "name": "stdout"
        }
      ]
    },
    {
      "cell_type": "code",
      "metadata": {
        "id": "513jmhGEc6Py",
        "colab_type": "code",
        "colab": {
          "base_uri": "https://localhost:8080/",
          "height": 85
        },
        "outputId": "50398be3-757a-4346-d092-00a21b7f7242"
      },
      "source": [
        "for ano in dict.keys():\n",
        "  print(dict[ano].get(4))"
      ],
      "execution_count": 105,
      "outputs": [
        {
          "output_type": "stream",
          "text": [
            "None\n",
            "None\n",
            "None\n",
            "None\n"
          ],
          "name": "stdout"
        }
      ]
    },
    {
      "cell_type": "code",
      "metadata": {
        "id": "dcuIOeLBc9Ho",
        "colab_type": "code",
        "colab": {
          "base_uri": "https://localhost:8080/",
          "height": 85
        },
        "outputId": "4fc7e253-e7f7-4862-c866-048098843f7d"
      },
      "source": [
        "for ano in dict.keys():\n",
        "  print(dict[ano].get(4,'Não encontrado'))"
      ],
      "execution_count": 107,
      "outputs": [
        {
          "output_type": "stream",
          "text": [
            "Não encontrado\n",
            "Não encontrado\n",
            "Não encontrado\n",
            "Não encontrado\n"
          ],
          "name": "stdout"
        }
      ]
    },
    {
      "cell_type": "code",
      "metadata": {
        "id": "EIKFXSxCdC6g",
        "colab_type": "code",
        "colab": {
          "base_uri": "https://localhost:8080/",
          "height": 221
        },
        "outputId": "451e7b3a-7f9a-41b7-a316-1d5de3f5d4da"
      },
      "source": [
        "for ano in dict.keys():\n",
        "  for i in dict[ano]:\n",
        "    print(dict[ano].get(i))"
      ],
      "execution_count": 110,
      "outputs": [
        {
          "output_type": "stream",
          "text": [
            "A\n",
            "B\n",
            "C\n",
            "D\n",
            "E\n",
            "F\n",
            "G\n",
            "H\n",
            "I\n",
            "J\n",
            "K\n",
            "L\n"
          ],
          "name": "stdout"
        }
      ]
    }
  ]
}