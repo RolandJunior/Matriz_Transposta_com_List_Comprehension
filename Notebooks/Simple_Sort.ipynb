{
 "cells": [
  {
   "cell_type": "code",
   "execution_count": 1,
   "metadata": {
    "colab": {},
    "colab_type": "code",
    "id": "K7nuWxcvS9ri"
   },
   "outputs": [],
   "source": [
    "def ordena(seq,sentido):\n",
    "    for i in range(len(seq)):\n",
    "        if sentido:\n",
    "            m = seq[i:].index(min(seq[i:])) + i \n",
    "        else:\n",
    "            m = seq[i:].index(max(seq[i:])) + i\n",
    "        seq[i],seq[m] = seq[m],seq[i]"
   ]
  },
  {
   "cell_type": "code",
   "execution_count": 4,
   "metadata": {
    "colab": {
     "base_uri": "https://localhost:8080/",
     "height": 68
    },
    "colab_type": "code",
    "id": "_cHXDUdsA-Lg",
    "outputId": "ac757f37-2988-4847-fcf7-cba2c0d1a623"
   },
   "outputs": [
    {
     "name": "stdout",
     "output_type": "stream",
     "text": [
      "Original: [3, 0, 2, -3, 1, 4, -2, 5, -4, -1, -5, 2, 0, -3, 2, 4]\n",
      "Direto: [-5, -4, -3, -3, -2, -1, 0, 0, 1, 2, 2, 2, 3, 4, 4, 5]\n",
      "Reverso: [5, 4, 4, 3, 2, 2, 2, 1, 0, 0, -1, -2, -3, -3, -4, -5]\n"
     ]
    }
   ],
   "source": [
    "sequencia = [3,0,2,-3,1,4,-2,5,-4,-1,-5,2,0,-3,2,4]\n",
    "print('Original:',sequencia)\n",
    "\n",
    "ordena(sequencia,1)\n",
    "print('Direto:',sequencia)\n",
    "\n",
    "ordena(sequencia,0)\n",
    "print('Reverso:',sequencia)"
   ]
  },
  {
   "cell_type": "code",
   "execution_count": 5,
   "metadata": {
    "colab": {
     "base_uri": "https://localhost:8080/",
     "height": 68
    },
    "colab_type": "code",
    "id": "LXZvDC9mQrcF",
    "outputId": "7c44fc47-b59f-4f65-f70f-dc64bb59ee74"
   },
   "outputs": [
    {
     "name": "stdout",
     "output_type": "stream",
     "text": [
      "Original: ['C', 'a', 'c', 'b', 'A', 'a', 'a', 'd', 'b', 'A']\n",
      "Direto: ['A', 'A', 'C', 'a', 'a', 'a', 'b', 'b', 'c', 'd']\n",
      "Reverso: ['d', 'c', 'b', 'b', 'a', 'a', 'a', 'C', 'A', 'A']\n"
     ]
    }
   ],
   "source": [
    "sequencia = ['C','a','c','b','A','a','a','d','b','A']\n",
    "print('Original:',sequencia)\n",
    "\n",
    "ordena(sequencia,1)\n",
    "print('Direto:',sequencia)\n",
    "\n",
    "ordena(sequencia,0)\n",
    "print('Reverso:',sequencia)"
   ]
  }
 ],
 "metadata": {
  "colab": {
   "name": "teste.ipynb",
   "provenance": []
  },
  "kernelspec": {
   "display_name": "Python 3",
   "language": "python",
   "name": "python3"
  },
  "language_info": {
   "codemirror_mode": {
    "name": "ipython",
    "version": 3
   },
   "file_extension": ".py",
   "mimetype": "text/x-python",
   "name": "python",
   "nbconvert_exporter": "python",
   "pygments_lexer": "ipython3",
   "version": "3.7.7"
  }
 },
 "nbformat": 4,
 "nbformat_minor": 1
}
