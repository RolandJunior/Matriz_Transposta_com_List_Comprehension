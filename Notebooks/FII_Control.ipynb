{
  "nbformat": 4,
  "nbformat_minor": 0,
  "metadata": {
    "colab": {
      "name": "FII_Control.ipynb",
      "provenance": [],
      "collapsed_sections": []
    },
    "kernelspec": {
      "name": "python3",
      "display_name": "Python 3"
    }
  },
  "cells": [
    {
      "cell_type": "code",
      "metadata": {
        "id": "vkcG7nTx251R",
        "colab_type": "code",
        "colab": {}
      },
      "source": [
        "import numpy as np\n",
        "import pandas as pd\n",
        "import matplotlib.pyplot as plt\n",
        "from datetime import datetime"
      ],
      "execution_count": 0,
      "outputs": []
    },
    {
      "cell_type": "code",
      "metadata": {
        "id": "UYAGTXwtW5Dw",
        "colab_type": "code",
        "colab": {}
      },
      "source": [
        "def mostra_graf(fii, data, op):\n",
        "\n",
        "  # Filtra DataFrame original\n",
        "  filtro = (df['Ativo']==fii) & (df['Data']>=data) & (df['Operação']==op)\n",
        "  df_filtrado = df[filtro]\n",
        "\n",
        "  # Cria lista de valores por faixa\n",
        "  df_val = list(map(lambda i: int(i), df_filtrado['Valor']))\n",
        "\n",
        "  # Define range dos ticks e número de bins\n",
        "  mi = min(df_val)\n",
        "  ma = max(df_val)\n",
        "  b = ma - mi\n",
        "\n",
        "  # Define tamanho da figura\n",
        "  plt.rcParams[\"figure.figsize\"] = [12,6]\n",
        "\n",
        "  # Configura gráfico\n",
        "  plt.hist(df_val, rwidth=0.7, bins=b)\n",
        "  plt.title(fii, fontsize=18)\n",
        "  plt.ylabel('Cotas', fontsize=14)\n",
        "  plt.xlabel('Valor', fontsize=14)\n",
        "\n",
        "  # Configura ticks do eixo X\n",
        "  xtik = np.arange(mi, ma+1, 1)\n",
        "  plt.xticks(xtik)\n",
        "\n",
        "  # Configura ticks do eixo Y\n",
        "  tiks,labels = plt.yticks() #Lê a faixa de valores configurados originalmente\n",
        "  ytik = np.arange(0, int(max(tiks))+1) #Configura a faixa em inteiros\n",
        "  plt.yticks(ytik)\n",
        "\n",
        "  # Mostra gráfico\n",
        "  plt.show()"
      ],
      "execution_count": 0,
      "outputs": []
    },
    {
      "cell_type": "code",
      "metadata": {
        "id": "Vp10XArLrHYi",
        "colab_type": "code",
        "colab": {}
      },
      "source": [
        "# Importa CSV\n",
        "df = pd.read_csv('/content/drive/My Drive/Temp/FII_export.csv', encoding=\"ISO-8859-1\")\n",
        "\n",
        "# Converte coluna 'Data' para formato \"datetime\"\n",
        "df['Data'] = pd.to_datetime(df['Data'], format='%d/%m/%Y')"
      ],
      "execution_count": 0,
      "outputs": []
    },
    {
      "cell_type": "code",
      "metadata": {
        "id": "RlHoEU4vbLK1",
        "colab_type": "code",
        "colab": {
          "base_uri": "https://localhost:8080/",
          "height": 412
        },
        "cellView": "form",
        "outputId": "af7d15ee-8207-47d4-99db-c76bf876bd20"
      },
      "source": [
        "# Define parâmetros\n",
        "FII = 'XPLG11'  #@param {type: \"string\"}\n",
        "FII = FII.upper()\n",
        "Data = '2020-03-27'  #@param {type: \"date\"}\n",
        "#data = datetime.strptime('27/03/2020', '%d/%m/%Y')\n",
        "oper = 'C'\n",
        "\n",
        "# Mpstra gráfico\n",
        "mostra_graf(FII, Data, oper)"
      ],
      "execution_count": 127,
      "outputs": [
        {
          "output_type": "display_data",
          "data": {
            "image/png": "[encoded data removed]",
            "text/plain": [
              "<Figure size 864x432 with 1 Axes>"
            ]
          },
          "metadata": {
            "tags": [],
            "needs_background": "light"
          }
        }
      ]
    }
  ]
}