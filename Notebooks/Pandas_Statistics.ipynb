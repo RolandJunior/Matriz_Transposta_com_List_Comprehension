{
  "nbformat": 4,
  "nbformat_minor": 0,
  "metadata": {
    "colab": {
      "name": "Pandas_Statistics.ipynb",
      "provenance": [],
      "collapsed_sections": []
    },
    "kernelspec": {
      "name": "python3",
      "display_name": "Python 3"
    }
  },
  "cells": [
    {
      "cell_type": "code",
      "metadata": {
        "id": "gC6G8SA1-nZf",
        "colab_type": "code",
        "colab": {}
      },
      "source": [
        "import pandas as pd"
      ],
      "execution_count": 0,
      "outputs": []
    },
    {
      "cell_type": "code",
      "metadata": {
        "id": "m3plfI-AxbD2",
        "colab_type": "code",
        "colab": {
          "base_uri": "https://localhost:8080/",
          "height": 204
        },
        "outputId": "4fea0999-ad9d-4f2d-9c32-dc29e0efc0c4"
      },
      "source": [
        "arquivo = '../content/drive/My Drive/Temp/salarios2.csv'\n",
        "df = pd.read_csv(arquivo)\n",
        "df.head()"
      ],
      "execution_count": 7,
      "outputs": [
        {
          "output_type": "execute_result",
          "data": {
            "text/html": [
              "<div>\n",
              "<style scoped>\n",
              "    .dataframe tbody tr th:only-of-type {\n",
              "        vertical-align: middle;\n",
              "    }\n",
              "\n",
              "    .dataframe tbody tr th {\n",
              "        vertical-align: top;\n",
              "    }\n",
              "\n",
              "    .dataframe thead th {\n",
              "        text-align: right;\n",
              "    }\n",
              "</style>\n",
              "<table border=\"1\" class=\"dataframe\">\n",
              "  <thead>\n",
              "    <tr style=\"text-align: right;\">\n",
              "      <th></th>\n",
              "      <th>Full Name</th>\n",
              "      <th>Position Title</th>\n",
              "      <th>Department</th>\n",
              "      <th>Annual Salary</th>\n",
              "      <th>Monthly Salary</th>\n",
              "      <th>Daily Salary</th>\n",
              "    </tr>\n",
              "  </thead>\n",
              "  <tbody>\n",
              "    <tr>\n",
              "      <th>0</th>\n",
              "      <td>AARON,  ELVIA J</td>\n",
              "      <td>WATER RATE TAKER</td>\n",
              "      <td>WATER MGMNT</td>\n",
              "      <td>88965.0</td>\n",
              "      <td>7413.75</td>\n",
              "      <td>243.74</td>\n",
              "    </tr>\n",
              "    <tr>\n",
              "      <th>1</th>\n",
              "      <td>AARON,  JEFFERY M</td>\n",
              "      <td>POLICE OFFICER</td>\n",
              "      <td>POLICE</td>\n",
              "      <td>80778.0</td>\n",
              "      <td>6731.50</td>\n",
              "      <td>221.31</td>\n",
              "    </tr>\n",
              "    <tr>\n",
              "      <th>2</th>\n",
              "      <td>AARON,  KARINA</td>\n",
              "      <td>POLICE OFFICER</td>\n",
              "      <td>POLICE</td>\n",
              "      <td>80778.0</td>\n",
              "      <td>6731.50</td>\n",
              "      <td>221.31</td>\n",
              "    </tr>\n",
              "    <tr>\n",
              "      <th>3</th>\n",
              "      <td>AARON,  KIMBERLEI R</td>\n",
              "      <td>CHIEF CONTRACT EXPEDITER</td>\n",
              "      <td>GENERAL SERVICES</td>\n",
              "      <td>84780.0</td>\n",
              "      <td>7065.00</td>\n",
              "      <td>232.27</td>\n",
              "    </tr>\n",
              "    <tr>\n",
              "      <th>4</th>\n",
              "      <td>ABAD JR,  VICENTE M</td>\n",
              "      <td>CIVIL ENGINEER IV</td>\n",
              "      <td>WATER MGMNT</td>\n",
              "      <td>104736.0</td>\n",
              "      <td>8728.00</td>\n",
              "      <td>286.95</td>\n",
              "    </tr>\n",
              "  </tbody>\n",
              "</table>\n",
              "</div>"
            ],
            "text/plain": [
              "             Full Name            Position Title  ... Monthly Salary  Daily Salary\n",
              "0      AARON,  ELVIA J          WATER RATE TAKER  ...        7413.75        243.74\n",
              "1    AARON,  JEFFERY M            POLICE OFFICER  ...        6731.50        221.31\n",
              "2       AARON,  KARINA            POLICE OFFICER  ...        6731.50        221.31\n",
              "3  AARON,  KIMBERLEI R  CHIEF CONTRACT EXPEDITER  ...        7065.00        232.27\n",
              "4  ABAD JR,  VICENTE M         CIVIL ENGINEER IV  ...        8728.00        286.95\n",
              "\n",
              "[5 rows x 6 columns]"
            ]
          },
          "metadata": {
            "tags": []
          },
          "execution_count": 7
        }
      ]
    },
    {
      "cell_type": "markdown",
      "metadata": {
        "id": "6rQFmoSMNlQ3",
        "colab_type": "text"
      },
      "source": [
        "---\n",
        "### **Resumo**"
      ]
    },
    {
      "cell_type": "code",
      "metadata": {
        "id": "Ae6RlDnuUinj",
        "colab_type": "code",
        "outputId": "489733de-167a-4b75-ba3f-ce9c3f66695d",
        "colab": {
          "base_uri": "https://localhost:8080/",
          "height": 297
        }
      },
      "source": [
        "df.describe()"
      ],
      "execution_count": 8,
      "outputs": [
        {
          "output_type": "execute_result",
          "data": {
            "text/html": [
              "<div>\n",
              "<style scoped>\n",
              "    .dataframe tbody tr th:only-of-type {\n",
              "        vertical-align: middle;\n",
              "    }\n",
              "\n",
              "    .dataframe tbody tr th {\n",
              "        vertical-align: top;\n",
              "    }\n",
              "\n",
              "    .dataframe thead th {\n",
              "        text-align: right;\n",
              "    }\n",
              "</style>\n",
              "<table border=\"1\" class=\"dataframe\">\n",
              "  <thead>\n",
              "    <tr style=\"text-align: right;\">\n",
              "      <th></th>\n",
              "      <th>Annual Salary</th>\n",
              "      <th>Monthly Salary</th>\n",
              "      <th>Daily Salary</th>\n",
              "    </tr>\n",
              "  </thead>\n",
              "  <tbody>\n",
              "    <tr>\n",
              "      <th>count</th>\n",
              "      <td>32181.000000</td>\n",
              "      <td>32181.000000</td>\n",
              "      <td>32181.000000</td>\n",
              "    </tr>\n",
              "    <tr>\n",
              "      <th>mean</th>\n",
              "      <td>79167.525846</td>\n",
              "      <td>6597.293754</td>\n",
              "      <td>216.896701</td>\n",
              "    </tr>\n",
              "    <tr>\n",
              "      <th>std</th>\n",
              "      <td>24462.356640</td>\n",
              "      <td>2038.529689</td>\n",
              "      <td>67.020052</td>\n",
              "    </tr>\n",
              "    <tr>\n",
              "      <th>min</th>\n",
              "      <td>0.960000</td>\n",
              "      <td>0.080000</td>\n",
              "      <td>0.000000</td>\n",
              "    </tr>\n",
              "    <tr>\n",
              "      <th>25%</th>\n",
              "      <td>69888.000000</td>\n",
              "      <td>5824.000000</td>\n",
              "      <td>191.470000</td>\n",
              "    </tr>\n",
              "    <tr>\n",
              "      <th>50%</th>\n",
              "      <td>83616.000000</td>\n",
              "      <td>6968.000000</td>\n",
              "      <td>229.080000</td>\n",
              "    </tr>\n",
              "    <tr>\n",
              "      <th>75%</th>\n",
              "      <td>91764.000000</td>\n",
              "      <td>7647.000000</td>\n",
              "      <td>251.410000</td>\n",
              "    </tr>\n",
              "    <tr>\n",
              "      <th>max</th>\n",
              "      <td>260004.000000</td>\n",
              "      <td>21667.000000</td>\n",
              "      <td>712.340000</td>\n",
              "    </tr>\n",
              "  </tbody>\n",
              "</table>\n",
              "</div>"
            ],
            "text/plain": [
              "       Annual Salary  Monthly Salary  Daily Salary\n",
              "count   32181.000000    32181.000000  32181.000000\n",
              "mean    79167.525846     6597.293754    216.896701\n",
              "std     24462.356640     2038.529689     67.020052\n",
              "min         0.960000        0.080000      0.000000\n",
              "25%     69888.000000     5824.000000    191.470000\n",
              "50%     83616.000000     6968.000000    229.080000\n",
              "75%     91764.000000     7647.000000    251.410000\n",
              "max    260004.000000    21667.000000    712.340000"
            ]
          },
          "metadata": {
            "tags": []
          },
          "execution_count": 8
        }
      ]
    },
    {
      "cell_type": "code",
      "metadata": {
        "id": "8r2twygAXM3Z",
        "colab_type": "code",
        "outputId": "31b220bc-f5fe-456b-ceb8-6603e5275cde",
        "colab": {
          "base_uri": "https://localhost:8080/",
          "height": 359
        }
      },
      "source": [
        "df.describe(percentiles=[.20,.40,.60,.80])"
      ],
      "execution_count": 9,
      "outputs": [
        {
          "output_type": "execute_result",
          "data": {
            "text/html": [
              "<div>\n",
              "<style scoped>\n",
              "    .dataframe tbody tr th:only-of-type {\n",
              "        vertical-align: middle;\n",
              "    }\n",
              "\n",
              "    .dataframe tbody tr th {\n",
              "        vertical-align: top;\n",
              "    }\n",
              "\n",
              "    .dataframe thead th {\n",
              "        text-align: right;\n",
              "    }\n",
              "</style>\n",
              "<table border=\"1\" class=\"dataframe\">\n",
              "  <thead>\n",
              "    <tr style=\"text-align: right;\">\n",
              "      <th></th>\n",
              "      <th>Annual Salary</th>\n",
              "      <th>Monthly Salary</th>\n",
              "      <th>Daily Salary</th>\n",
              "    </tr>\n",
              "  </thead>\n",
              "  <tbody>\n",
              "    <tr>\n",
              "      <th>count</th>\n",
              "      <td>32181.000000</td>\n",
              "      <td>32181.000000</td>\n",
              "      <td>32181.000000</td>\n",
              "    </tr>\n",
              "    <tr>\n",
              "      <th>mean</th>\n",
              "      <td>79167.525846</td>\n",
              "      <td>6597.293754</td>\n",
              "      <td>216.896701</td>\n",
              "    </tr>\n",
              "    <tr>\n",
              "      <th>std</th>\n",
              "      <td>24462.356640</td>\n",
              "      <td>2038.529689</td>\n",
              "      <td>67.020052</td>\n",
              "    </tr>\n",
              "    <tr>\n",
              "      <th>min</th>\n",
              "      <td>0.960000</td>\n",
              "      <td>0.080000</td>\n",
              "      <td>0.000000</td>\n",
              "    </tr>\n",
              "    <tr>\n",
              "      <th>20%</th>\n",
              "      <td>65946.000000</td>\n",
              "      <td>5495.500000</td>\n",
              "      <td>180.670000</td>\n",
              "    </tr>\n",
              "    <tr>\n",
              "      <th>40%</th>\n",
              "      <td>80778.000000</td>\n",
              "      <td>6731.500000</td>\n",
              "      <td>221.310000</td>\n",
              "    </tr>\n",
              "    <tr>\n",
              "      <th>50%</th>\n",
              "      <td>83616.000000</td>\n",
              "      <td>6968.000000</td>\n",
              "      <td>229.080000</td>\n",
              "    </tr>\n",
              "    <tr>\n",
              "      <th>60%</th>\n",
              "      <td>86520.000000</td>\n",
              "      <td>7210.000000</td>\n",
              "      <td>237.040000</td>\n",
              "    </tr>\n",
              "    <tr>\n",
              "      <th>80%</th>\n",
              "      <td>93745.600000</td>\n",
              "      <td>7812.130000</td>\n",
              "      <td>256.840000</td>\n",
              "    </tr>\n",
              "    <tr>\n",
              "      <th>max</th>\n",
              "      <td>260004.000000</td>\n",
              "      <td>21667.000000</td>\n",
              "      <td>712.340000</td>\n",
              "    </tr>\n",
              "  </tbody>\n",
              "</table>\n",
              "</div>"
            ],
            "text/plain": [
              "       Annual Salary  Monthly Salary  Daily Salary\n",
              "count   32181.000000    32181.000000  32181.000000\n",
              "mean    79167.525846     6597.293754    216.896701\n",
              "std     24462.356640     2038.529689     67.020052\n",
              "min         0.960000        0.080000      0.000000\n",
              "20%     65946.000000     5495.500000    180.670000\n",
              "40%     80778.000000     6731.500000    221.310000\n",
              "50%     83616.000000     6968.000000    229.080000\n",
              "60%     86520.000000     7210.000000    237.040000\n",
              "80%     93745.600000     7812.130000    256.840000\n",
              "max    260004.000000    21667.000000    712.340000"
            ]
          },
          "metadata": {
            "tags": []
          },
          "execution_count": 9
        }
      ]
    },
    {
      "cell_type": "code",
      "metadata": {
        "id": "f9jSzH_aYDJN",
        "colab_type": "code",
        "outputId": "ed75ff98-56a2-4f67-a29d-6f60da97f4b3",
        "colab": {
          "base_uri": "https://localhost:8080/",
          "height": 102
        }
      },
      "source": [
        "df['Full Name'].describe()"
      ],
      "execution_count": 10,
      "outputs": [
        {
          "output_type": "execute_result",
          "data": {
            "text/plain": [
              "count                32181\n",
              "unique               31893\n",
              "top       RIVERA,  RICARDO\n",
              "freq                     4\n",
              "Name: Full Name, dtype: object"
            ]
          },
          "metadata": {
            "tags": []
          },
          "execution_count": 10
        }
      ]
    },
    {
      "cell_type": "markdown",
      "metadata": {
        "id": "y_wNRUOP1uiV",
        "colab_type": "text"
      },
      "source": [
        "---\n",
        "### **Funções básicas**"
      ]
    },
    {
      "cell_type": "code",
      "metadata": {
        "id": "Nx1cr5J8UmvG",
        "colab_type": "code",
        "outputId": "c6b0e3ec-656e-4b08-e449-51faf41b8140",
        "colab": {
          "base_uri": "https://localhost:8080/",
          "height": 85
        }
      },
      "source": [
        "df.mean()"
      ],
      "execution_count": 11,
      "outputs": [
        {
          "output_type": "execute_result",
          "data": {
            "text/plain": [
              "Annual Salary     79167.525846\n",
              "Monthly Salary     6597.293754\n",
              "Daily Salary        216.896701\n",
              "dtype: float64"
            ]
          },
          "metadata": {
            "tags": []
          },
          "execution_count": 11
        }
      ]
    },
    {
      "cell_type": "code",
      "metadata": {
        "id": "yFvlWTLbXIfq",
        "colab_type": "code",
        "outputId": "efffe65a-bcd9-4cc5-a7d3-e24457902401",
        "colab": {
          "base_uri": "https://localhost:8080/",
          "height": 34
        }
      },
      "source": [
        "df['Annual Salary'].quantile(.50) #percentile"
      ],
      "execution_count": 12,
      "outputs": [
        {
          "output_type": "execute_result",
          "data": {
            "text/plain": [
              "83616.0"
            ]
          },
          "metadata": {
            "tags": []
          },
          "execution_count": 12
        }
      ]
    },
    {
      "cell_type": "code",
      "metadata": {
        "id": "HP-tqDS5Vsbt",
        "colab_type": "code",
        "outputId": "aff00b11-064c-430f-f810-c1c93f19bf05",
        "colab": {
          "base_uri": "https://localhost:8080/",
          "height": 68
        }
      },
      "source": [
        "df[['Monthly Salary','Annual Salary']].median()"
      ],
      "execution_count": 13,
      "outputs": [
        {
          "output_type": "execute_result",
          "data": {
            "text/plain": [
              "Monthly Salary     6968.0\n",
              "Annual Salary     83616.0\n",
              "dtype: float64"
            ]
          },
          "metadata": {
            "tags": []
          },
          "execution_count": 13
        }
      ]
    },
    {
      "cell_type": "code",
      "metadata": {
        "id": "0nmmPDUxZITu",
        "colab_type": "code",
        "outputId": "c284461b-8870-4ab4-e095-9d9eaef88821",
        "colab": {
          "base_uri": "https://localhost:8080/",
          "height": 221
        }
      },
      "source": [
        "df['Daily Salary'].cumsum() #soma cumulativa"
      ],
      "execution_count": 15,
      "outputs": [
        {
          "output_type": "execute_result",
          "data": {
            "text/plain": [
              "0            243.74\n",
              "1            465.05\n",
              "2            686.36\n",
              "3            918.63\n",
              "4           1205.58\n",
              "            ...    \n",
              "32177    6979184.29\n",
              "32178    6979413.37\n",
              "32179    6979650.41\n",
              "32180    6979952.74\n",
              "32181           NaN\n",
              "Name: Daily Salary, Length: 32182, dtype: float64"
            ]
          },
          "metadata": {
            "tags": []
          },
          "execution_count": 15
        }
      ]
    },
    {
      "cell_type": "markdown",
      "metadata": {
        "id": "J7ITuDyU2BMl",
        "colab_type": "text"
      },
      "source": [
        "---\n",
        "### **Agregando funções**"
      ]
    },
    {
      "cell_type": "code",
      "metadata": {
        "id": "5tUsvy1nnGHo",
        "colab_type": "code",
        "outputId": "5209b06d-100b-4193-fb7a-fc05df2aa226",
        "colab": {
          "base_uri": "https://localhost:8080/",
          "height": 173
        }
      },
      "source": [
        "# .agg monta um .describe customizado\n",
        "# Inclusive com funções customizadas e importadas de outros módulos\n",
        "def cust(column):\n",
        "    return column.quantile(0.75)\n",
        "\n",
        "df[['Monthly Salary','Annual Salary']].agg(['min','mean','max',cust])"
      ],
      "execution_count": 14,
      "outputs": [
        {
          "output_type": "execute_result",
          "data": {
            "text/html": [
              "<div>\n",
              "<style scoped>\n",
              "    .dataframe tbody tr th:only-of-type {\n",
              "        vertical-align: middle;\n",
              "    }\n",
              "\n",
              "    .dataframe tbody tr th {\n",
              "        vertical-align: top;\n",
              "    }\n",
              "\n",
              "    .dataframe thead th {\n",
              "        text-align: right;\n",
              "    }\n",
              "</style>\n",
              "<table border=\"1\" class=\"dataframe\">\n",
              "  <thead>\n",
              "    <tr style=\"text-align: right;\">\n",
              "      <th></th>\n",
              "      <th>Monthly Salary</th>\n",
              "      <th>Annual Salary</th>\n",
              "    </tr>\n",
              "  </thead>\n",
              "  <tbody>\n",
              "    <tr>\n",
              "      <th>min</th>\n",
              "      <td>0.080000</td>\n",
              "      <td>0.960000</td>\n",
              "    </tr>\n",
              "    <tr>\n",
              "      <th>mean</th>\n",
              "      <td>6597.293754</td>\n",
              "      <td>79167.525846</td>\n",
              "    </tr>\n",
              "    <tr>\n",
              "      <th>max</th>\n",
              "      <td>21667.000000</td>\n",
              "      <td>260004.000000</td>\n",
              "    </tr>\n",
              "    <tr>\n",
              "      <th>cust</th>\n",
              "      <td>7647.000000</td>\n",
              "      <td>91764.000000</td>\n",
              "    </tr>\n",
              "  </tbody>\n",
              "</table>\n",
              "</div>"
            ],
            "text/plain": [
              "      Monthly Salary  Annual Salary\n",
              "min         0.080000       0.960000\n",
              "mean     6597.293754   79167.525846\n",
              "max     21667.000000  260004.000000\n",
              "cust     7647.000000   91764.000000"
            ]
          },
          "metadata": {
            "tags": []
          },
          "execution_count": 14
        }
      ]
    },
    {
      "cell_type": "markdown",
      "metadata": {
        "id": "Urqm8o_e2D6s",
        "colab_type": "text"
      },
      "source": [
        "---\n",
        "### **Contando itens**"
      ]
    },
    {
      "cell_type": "code",
      "metadata": {
        "id": "8TFGpziy0us9",
        "colab_type": "code",
        "colab": {
          "base_uri": "https://localhost:8080/",
          "height": 119
        },
        "outputId": "848328cd-dd38-4d30-90a6-19d792c41c86"
      },
      "source": [
        "df['Department'].value_counts().head()"
      ],
      "execution_count": 41,
      "outputs": [
        {
          "output_type": "execute_result",
          "data": {
            "text/plain": [
              "POLICE           13570\n",
              "FIRE              4875\n",
              "STREETS & SAN     2090\n",
              "WATER MGMNT       1848\n",
              "AVIATION          1344\n",
              "Name: Department, dtype: int64"
            ]
          },
          "metadata": {
            "tags": []
          },
          "execution_count": 41
        }
      ]
    },
    {
      "cell_type": "code",
      "metadata": {
        "id": "EQksC4v41Vk3",
        "colab_type": "code",
        "colab": {
          "base_uri": "https://localhost:8080/",
          "height": 119
        },
        "outputId": "e3e340c9-e861-41ed-9446-2d0ede5ae921"
      },
      "source": [
        "# Em % do total\n",
        "df['Department'].value_counts(normalize=True).head() "
      ],
      "execution_count": 45,
      "outputs": [
        {
          "output_type": "execute_result",
          "data": {
            "text/plain": [
              "POLICE           0.421677\n",
              "FIRE             0.151487\n",
              "STREETS & SAN    0.064945\n",
              "WATER MGMNT      0.057425\n",
              "AVIATION         0.041764\n",
              "Name: Department, dtype: float64"
            ]
          },
          "metadata": {
            "tags": []
          },
          "execution_count": 45
        }
      ]
    },
    {
      "cell_type": "code",
      "metadata": {
        "id": "0KuEwZUc1jeU",
        "colab_type": "code",
        "colab": {
          "base_uri": "https://localhost:8080/",
          "height": 1000
        },
        "outputId": "d9e145fc-716f-4aa2-fafc-15b3f85c1a0a"
      },
      "source": [
        "cont = df['Department'].value_counts()\n",
        "cont_cum = df['Department'].value_counts().cumsum()\n",
        "cont_perc = df['Department'].value_counts(normalize=True) * 100\n",
        "cont_perc_cum = df['Department'].value_counts(normalize=True).cumsum() * 100\n",
        "df_conta = pd.DataFrame({'#':cont, '# cum':cont_cum, '%':cont_perc, '% cum':cont_perc_cum})\n",
        "df_conta"
      ],
      "execution_count": 54,
      "outputs": [
        {
          "output_type": "execute_result",
          "data": {
            "text/html": [
              "<div>\n",
              "<style scoped>\n",
              "    .dataframe tbody tr th:only-of-type {\n",
              "        vertical-align: middle;\n",
              "    }\n",
              "\n",
              "    .dataframe tbody tr th {\n",
              "        vertical-align: top;\n",
              "    }\n",
              "\n",
              "    .dataframe thead th {\n",
              "        text-align: right;\n",
              "    }\n",
              "</style>\n",
              "<table border=\"1\" class=\"dataframe\">\n",
              "  <thead>\n",
              "    <tr style=\"text-align: right;\">\n",
              "      <th></th>\n",
              "      <th>#</th>\n",
              "      <th># cum</th>\n",
              "      <th>%</th>\n",
              "      <th>% cum</th>\n",
              "    </tr>\n",
              "  </thead>\n",
              "  <tbody>\n",
              "    <tr>\n",
              "      <th>POLICE</th>\n",
              "      <td>13570</td>\n",
              "      <td>13570</td>\n",
              "      <td>42.167739</td>\n",
              "      <td>42.167739</td>\n",
              "    </tr>\n",
              "    <tr>\n",
              "      <th>FIRE</th>\n",
              "      <td>4875</td>\n",
              "      <td>18445</td>\n",
              "      <td>15.148690</td>\n",
              "      <td>57.316429</td>\n",
              "    </tr>\n",
              "    <tr>\n",
              "      <th>STREETS &amp; SAN</th>\n",
              "      <td>2090</td>\n",
              "      <td>20535</td>\n",
              "      <td>6.494515</td>\n",
              "      <td>63.810944</td>\n",
              "    </tr>\n",
              "    <tr>\n",
              "      <th>WATER MGMNT</th>\n",
              "      <td>1848</td>\n",
              "      <td>22383</td>\n",
              "      <td>5.742519</td>\n",
              "      <td>69.553463</td>\n",
              "    </tr>\n",
              "    <tr>\n",
              "      <th>AVIATION</th>\n",
              "      <td>1344</td>\n",
              "      <td>23727</td>\n",
              "      <td>4.176377</td>\n",
              "      <td>73.729841</td>\n",
              "    </tr>\n",
              "    <tr>\n",
              "      <th>TRANSPORTN</th>\n",
              "      <td>1200</td>\n",
              "      <td>24927</td>\n",
              "      <td>3.728908</td>\n",
              "      <td>77.458749</td>\n",
              "    </tr>\n",
              "    <tr>\n",
              "      <th>OEMC</th>\n",
              "      <td>1135</td>\n",
              "      <td>26062</td>\n",
              "      <td>3.526926</td>\n",
              "      <td>80.985675</td>\n",
              "    </tr>\n",
              "    <tr>\n",
              "      <th>PUBLIC LIBRARY</th>\n",
              "      <td>951</td>\n",
              "      <td>27013</td>\n",
              "      <td>2.955160</td>\n",
              "      <td>83.940835</td>\n",
              "    </tr>\n",
              "    <tr>\n",
              "      <th>GENERAL SERVICES</th>\n",
              "      <td>924</td>\n",
              "      <td>27937</td>\n",
              "      <td>2.871259</td>\n",
              "      <td>86.812094</td>\n",
              "    </tr>\n",
              "    <tr>\n",
              "      <th>FAMILY &amp; SUPPORT</th>\n",
              "      <td>679</td>\n",
              "      <td>28616</td>\n",
              "      <td>2.109941</td>\n",
              "      <td>88.922035</td>\n",
              "    </tr>\n",
              "    <tr>\n",
              "      <th>FINANCE</th>\n",
              "      <td>560</td>\n",
              "      <td>29176</td>\n",
              "      <td>1.740157</td>\n",
              "      <td>90.662192</td>\n",
              "    </tr>\n",
              "    <tr>\n",
              "      <th>HEALTH</th>\n",
              "      <td>555</td>\n",
              "      <td>29731</td>\n",
              "      <td>1.724620</td>\n",
              "      <td>92.386812</td>\n",
              "    </tr>\n",
              "    <tr>\n",
              "      <th>LAW</th>\n",
              "      <td>425</td>\n",
              "      <td>30156</td>\n",
              "      <td>1.320655</td>\n",
              "      <td>93.707467</td>\n",
              "    </tr>\n",
              "    <tr>\n",
              "      <th>CITY COUNCIL</th>\n",
              "      <td>397</td>\n",
              "      <td>30553</td>\n",
              "      <td>1.233647</td>\n",
              "      <td>94.941114</td>\n",
              "    </tr>\n",
              "    <tr>\n",
              "      <th>BUILDINGS</th>\n",
              "      <td>257</td>\n",
              "      <td>30810</td>\n",
              "      <td>0.798608</td>\n",
              "      <td>95.739722</td>\n",
              "    </tr>\n",
              "    <tr>\n",
              "      <th>COMMUNITY DEVELOPMENT</th>\n",
              "      <td>212</td>\n",
              "      <td>31022</td>\n",
              "      <td>0.658774</td>\n",
              "      <td>96.398496</td>\n",
              "    </tr>\n",
              "    <tr>\n",
              "      <th>BUSINESS AFFAIRS</th>\n",
              "      <td>173</td>\n",
              "      <td>31195</td>\n",
              "      <td>0.537584</td>\n",
              "      <td>96.936080</td>\n",
              "    </tr>\n",
              "    <tr>\n",
              "      <th>BOARD OF ELECTION</th>\n",
              "      <td>111</td>\n",
              "      <td>31306</td>\n",
              "      <td>0.344924</td>\n",
              "      <td>97.281004</td>\n",
              "    </tr>\n",
              "    <tr>\n",
              "      <th>DoIT</th>\n",
              "      <td>106</td>\n",
              "      <td>31412</td>\n",
              "      <td>0.329387</td>\n",
              "      <td>97.610391</td>\n",
              "    </tr>\n",
              "    <tr>\n",
              "      <th>MAYOR'S OFFICE</th>\n",
              "      <td>93</td>\n",
              "      <td>31505</td>\n",
              "      <td>0.288990</td>\n",
              "      <td>97.899382</td>\n",
              "    </tr>\n",
              "    <tr>\n",
              "      <th>IPRA</th>\n",
              "      <td>83</td>\n",
              "      <td>31588</td>\n",
              "      <td>0.257916</td>\n",
              "      <td>98.157298</td>\n",
              "    </tr>\n",
              "    <tr>\n",
              "      <th>CITY CLERK</th>\n",
              "      <td>82</td>\n",
              "      <td>31670</td>\n",
              "      <td>0.254809</td>\n",
              "      <td>98.412107</td>\n",
              "    </tr>\n",
              "    <tr>\n",
              "      <th>PROCUREMENT</th>\n",
              "      <td>81</td>\n",
              "      <td>31751</td>\n",
              "      <td>0.251701</td>\n",
              "      <td>98.663808</td>\n",
              "    </tr>\n",
              "    <tr>\n",
              "      <th>CULTURAL AFFAIRS</th>\n",
              "      <td>79</td>\n",
              "      <td>31830</td>\n",
              "      <td>0.245486</td>\n",
              "      <td>98.909294</td>\n",
              "    </tr>\n",
              "    <tr>\n",
              "      <th>HUMAN RESOURCES</th>\n",
              "      <td>68</td>\n",
              "      <td>31898</td>\n",
              "      <td>0.211305</td>\n",
              "      <td>99.120599</td>\n",
              "    </tr>\n",
              "    <tr>\n",
              "      <th>ANIMAL CONTRL</th>\n",
              "      <td>67</td>\n",
              "      <td>31965</td>\n",
              "      <td>0.208197</td>\n",
              "      <td>99.328796</td>\n",
              "    </tr>\n",
              "    <tr>\n",
              "      <th>INSPECTOR GEN</th>\n",
              "      <td>54</td>\n",
              "      <td>32019</td>\n",
              "      <td>0.167801</td>\n",
              "      <td>99.496597</td>\n",
              "    </tr>\n",
              "    <tr>\n",
              "      <th>BUDGET &amp; MGMT</th>\n",
              "      <td>43</td>\n",
              "      <td>32062</td>\n",
              "      <td>0.133619</td>\n",
              "      <td>99.630217</td>\n",
              "    </tr>\n",
              "    <tr>\n",
              "      <th>ADMIN HEARNG</th>\n",
              "      <td>39</td>\n",
              "      <td>32101</td>\n",
              "      <td>0.121190</td>\n",
              "      <td>99.751406</td>\n",
              "    </tr>\n",
              "    <tr>\n",
              "      <th>DISABILITIES</th>\n",
              "      <td>27</td>\n",
              "      <td>32128</td>\n",
              "      <td>0.083900</td>\n",
              "      <td>99.835307</td>\n",
              "    </tr>\n",
              "    <tr>\n",
              "      <th>TREASURER</th>\n",
              "      <td>24</td>\n",
              "      <td>32152</td>\n",
              "      <td>0.074578</td>\n",
              "      <td>99.909885</td>\n",
              "    </tr>\n",
              "    <tr>\n",
              "      <th>HUMAN RELATIONS</th>\n",
              "      <td>17</td>\n",
              "      <td>32169</td>\n",
              "      <td>0.052826</td>\n",
              "      <td>99.962711</td>\n",
              "    </tr>\n",
              "    <tr>\n",
              "      <th>BOARD OF ETHICS</th>\n",
              "      <td>9</td>\n",
              "      <td>32178</td>\n",
              "      <td>0.027967</td>\n",
              "      <td>99.990678</td>\n",
              "    </tr>\n",
              "    <tr>\n",
              "      <th>POLICE BOARD</th>\n",
              "      <td>2</td>\n",
              "      <td>32180</td>\n",
              "      <td>0.006215</td>\n",
              "      <td>99.996893</td>\n",
              "    </tr>\n",
              "    <tr>\n",
              "      <th>LICENSE APPL COMM</th>\n",
              "      <td>1</td>\n",
              "      <td>32181</td>\n",
              "      <td>0.003107</td>\n",
              "      <td>100.000000</td>\n",
              "    </tr>\n",
              "  </tbody>\n",
              "</table>\n",
              "</div>"
            ],
            "text/plain": [
              "                           #  # cum          %       % cum\n",
              "POLICE                 13570  13570  42.167739   42.167739\n",
              "FIRE                    4875  18445  15.148690   57.316429\n",
              "STREETS & SAN           2090  20535   6.494515   63.810944\n",
              "WATER MGMNT             1848  22383   5.742519   69.553463\n",
              "AVIATION                1344  23727   4.176377   73.729841\n",
              "TRANSPORTN              1200  24927   3.728908   77.458749\n",
              "OEMC                    1135  26062   3.526926   80.985675\n",
              "PUBLIC LIBRARY           951  27013   2.955160   83.940835\n",
              "GENERAL SERVICES         924  27937   2.871259   86.812094\n",
              "FAMILY & SUPPORT         679  28616   2.109941   88.922035\n",
              "FINANCE                  560  29176   1.740157   90.662192\n",
              "HEALTH                   555  29731   1.724620   92.386812\n",
              "LAW                      425  30156   1.320655   93.707467\n",
              "CITY COUNCIL             397  30553   1.233647   94.941114\n",
              "BUILDINGS                257  30810   0.798608   95.739722\n",
              "COMMUNITY DEVELOPMENT    212  31022   0.658774   96.398496\n",
              "BUSINESS AFFAIRS         173  31195   0.537584   96.936080\n",
              "BOARD OF ELECTION        111  31306   0.344924   97.281004\n",
              "DoIT                     106  31412   0.329387   97.610391\n",
              "MAYOR'S OFFICE            93  31505   0.288990   97.899382\n",
              "IPRA                      83  31588   0.257916   98.157298\n",
              "CITY CLERK                82  31670   0.254809   98.412107\n",
              "PROCUREMENT               81  31751   0.251701   98.663808\n",
              "CULTURAL AFFAIRS          79  31830   0.245486   98.909294\n",
              "HUMAN RESOURCES           68  31898   0.211305   99.120599\n",
              "ANIMAL CONTRL             67  31965   0.208197   99.328796\n",
              "INSPECTOR GEN             54  32019   0.167801   99.496597\n",
              "BUDGET & MGMT             43  32062   0.133619   99.630217\n",
              "ADMIN HEARNG              39  32101   0.121190   99.751406\n",
              "DISABILITIES              27  32128   0.083900   99.835307\n",
              "TREASURER                 24  32152   0.074578   99.909885\n",
              "HUMAN RELATIONS           17  32169   0.052826   99.962711\n",
              "BOARD OF ETHICS            9  32178   0.027967   99.990678\n",
              "POLICE BOARD               2  32180   0.006215   99.996893\n",
              "LICENSE APPL COMM          1  32181   0.003107  100.000000"
            ]
          },
          "metadata": {
            "tags": []
          },
          "execution_count": 54
        }
      ]
    },
    {
      "cell_type": "code",
      "metadata": {
        "id": "4fwfz13s21JH",
        "colab_type": "code",
        "colab": {}
      },
      "source": [
        ""
      ],
      "execution_count": 0,
      "outputs": []
    }
  ]
}