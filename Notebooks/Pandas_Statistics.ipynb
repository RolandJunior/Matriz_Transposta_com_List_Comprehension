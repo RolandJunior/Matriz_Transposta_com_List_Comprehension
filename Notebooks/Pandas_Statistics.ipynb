{
  "nbformat": 4,
  "nbformat_minor": 0,
  "metadata": {
    "colab": {
      "name": "Pandas_Statistics.ipynb",
      "provenance": [],
      "collapsed_sections": []
    },
    "kernelspec": {
      "name": "python3",
      "display_name": "Python 3"
    }
  },
  "cells": [
    {
      "cell_type": "code",
      "metadata": {
        "id": "gC6G8SA1-nZf",
        "colab_type": "code",
        "colab": {}
      },
      "source": [
        "import pandas as pd"
      ],
      "execution_count": 0,
      "outputs": []
    },
    {
      "cell_type": "code",
      "metadata": {
        "id": "m3plfI-AxbD2",
        "colab_type": "code",
        "colab": {
          "base_uri": "https://localhost:8080/",
          "height": 204
        },
        "outputId": "4fea0999-ad9d-4f2d-9c32-dc29e0efc0c4"
      },
      "source": [
        "arquivo = '../content/drive/My Drive/Temp/salarios2.csv'\n",
        "df = pd.read_csv(arquivo)\n",
        "df.head()"
      ],
      "execution_count": 7,
      "outputs": [
        {
          "output_type": "execute_result",
          "data": {
            "text/html": [
              "<div>\n",
              "<style scoped>\n",
              "    .dataframe tbody tr th:only-of-type {\n",
              "        vertical-align: middle;\n",
              "    }\n",
              "\n",
              "    .dataframe tbody tr th {\n",
              "        vertical-align: top;\n",
              "    }\n",
              "\n",
              "    .dataframe thead th {\n",
              "        text-align: right;\n",
              "    }\n",
              "</style>\n",
              "<table border=\"1\" class=\"dataframe\">\n",
              "  <thead>\n",
              "    <tr style=\"text-align: right;\">\n",
              "      <th></th>\n",
              "      <th>Full Name</th>\n",
              "      <th>Position Title</th>\n",
              "      <th>Department</th>\n",
              "      <th>Annual Salary</th>\n",
              "      <th>Monthly Salary</th>\n",
              "      <th>Daily Salary</th>\n",
              "    </tr>\n",
              "  </thead>\n",
              "  <tbody>\n",
              "    <tr>\n",
              "      <th>0</th>\n",
              "      <td>AARON,  ELVIA J</td>\n",
              "      <td>WATER RATE TAKER</td>\n",
              "      <td>WATER MGMNT</td>\n",
              "      <td>88965.0</td>\n",
              "      <td>7413.75</td>\n",
              "      <td>243.74</td>\n",
              "    </tr>\n",
              "    <tr>\n",
              "      <th>1</th>\n",
              "      <td>AARON,  JEFFERY M</td>\n",
              "      <td>POLICE OFFICER</td>\n",
              "      <td>POLICE</td>\n",
              "      <td>80778.0</td>\n",
              "      <td>6731.50</td>\n",
              "      <td>221.31</td>\n",
              "    </tr>\n",
              "    <tr>\n",
              "      <th>2</th>\n",
              "      <td>AARON,  KARINA</td>\n",
              "      <td>POLICE OFFICER</td>\n",
              "      <td>POLICE</td>\n",
              "      <td>80778.0</td>\n",
              "      <td>6731.50</td>\n",
              "      <td>221.31</td>\n",
              "    </tr>\n",
              "    <tr>\n",
              "      <th>3</th>\n",
              "      <td>AARON,  KIMBERLEI R</td>\n",
              "      <td>CHIEF CONTRACT EXPEDITER</td>\n",
              "      <td>GENERAL SERVICES</td>\n",
              "      <td>84780.0</td>\n",
              "      <td>7065.00</td>\n",
              "      <td>232.27</td>\n",
              "    </tr>\n",
              "    <tr>\n",
              "      <th>4</th>\n",
              "      <td>ABAD JR,  VICENTE M</td>\n",
              "      <td>CIVIL ENGINEER IV</td>\n",
              "      <td>WATER MGMNT</td>\n",
              "      <td>104736.0</td>\n",
              "      <td>8728.00</td>\n",
              "      <td>286.95</td>\n",
              "    </tr>\n",
              "  </tbody>\n",
              "</table>\n",
              "</div>"
            ],
            "text/plain": [
              "             Full Name            Position Title  ... Monthly Salary  Daily Salary\n",
              "0      AARON,  ELVIA J          WATER RATE TAKER  ...        7413.75        243.74\n",
              "1    AARON,  JEFFERY M            POLICE OFFICER  ...        6731.50        221.31\n",
              "2       AARON,  KARINA            POLICE OFFICER  ...        6731.50        221.31\n",
              "3  AARON,  KIMBERLEI R  CHIEF CONTRACT EXPEDITER  ...        7065.00        232.27\n",
              "4  ABAD JR,  VICENTE M         CIVIL ENGINEER IV  ...        8728.00        286.95\n",
              "\n",
              "[5 rows x 6 columns]"
            ]
          },
          "metadata": {
            "tags": []
          },
          "execution_count": 7
        }
      ]
    },
    {
      "cell_type": "markdown",
      "metadata": {
        "id": "6rQFmoSMNlQ3",
        "colab_type": "text"
      },
      "source": [
        "---\n",
        "### **Estatísticas**"
      ]
    },
    {
      "cell_type": "code",
      "metadata": {
        "id": "Ae6RlDnuUinj",
        "colab_type": "code",
        "outputId": "489733de-167a-4b75-ba3f-ce9c3f66695d",
        "colab": {
          "base_uri": "https://localhost:8080/",
          "height": 297
        }
      },
      "source": [
        "df.describe()"
      ],
      "execution_count": 8,
      "outputs": [
        {
          "output_type": "execute_result",
          "data": {
            "text/html": [
              "<div>\n",
              "<style scoped>\n",
              "    .dataframe tbody tr th:only-of-type {\n",
              "        vertical-align: middle;\n",
              "    }\n",
              "\n",
              "    .dataframe tbody tr th {\n",
              "        vertical-align: top;\n",
              "    }\n",
              "\n",
              "    .dataframe thead th {\n",
              "        text-align: right;\n",
              "    }\n",
              "</style>\n",
              "<table border=\"1\" class=\"dataframe\">\n",
              "  <thead>\n",
              "    <tr style=\"text-align: right;\">\n",
              "      <th></th>\n",
              "      <th>Annual Salary</th>\n",
              "      <th>Monthly Salary</th>\n",
              "      <th>Daily Salary</th>\n",
              "    </tr>\n",
              "  </thead>\n",
              "  <tbody>\n",
              "    <tr>\n",
              "      <th>count</th>\n",
              "      <td>32181.000000</td>\n",
              "      <td>32181.000000</td>\n",
              "      <td>32181.000000</td>\n",
              "    </tr>\n",
              "    <tr>\n",
              "      <th>mean</th>\n",
              "      <td>79167.525846</td>\n",
              "      <td>6597.293754</td>\n",
              "      <td>216.896701</td>\n",
              "    </tr>\n",
              "    <tr>\n",
              "      <th>std</th>\n",
              "      <td>24462.356640</td>\n",
              "      <td>2038.529689</td>\n",
              "      <td>67.020052</td>\n",
              "    </tr>\n",
              "    <tr>\n",
              "      <th>min</th>\n",
              "      <td>0.960000</td>\n",
              "      <td>0.080000</td>\n",
              "      <td>0.000000</td>\n",
              "    </tr>\n",
              "    <tr>\n",
              "      <th>25%</th>\n",
              "      <td>69888.000000</td>\n",
              "      <td>5824.000000</td>\n",
              "      <td>191.470000</td>\n",
              "    </tr>\n",
              "    <tr>\n",
              "      <th>50%</th>\n",
              "      <td>83616.000000</td>\n",
              "      <td>6968.000000</td>\n",
              "      <td>229.080000</td>\n",
              "    </tr>\n",
              "    <tr>\n",
              "      <th>75%</th>\n",
              "      <td>91764.000000</td>\n",
              "      <td>7647.000000</td>\n",
              "      <td>251.410000</td>\n",
              "    </tr>\n",
              "    <tr>\n",
              "      <th>max</th>\n",
              "      <td>260004.000000</td>\n",
              "      <td>21667.000000</td>\n",
              "      <td>712.340000</td>\n",
              "    </tr>\n",
              "  </tbody>\n",
              "</table>\n",
              "</div>"
            ],
            "text/plain": [
              "       Annual Salary  Monthly Salary  Daily Salary\n",
              "count   32181.000000    32181.000000  32181.000000\n",
              "mean    79167.525846     6597.293754    216.896701\n",
              "std     24462.356640     2038.529689     67.020052\n",
              "min         0.960000        0.080000      0.000000\n",
              "25%     69888.000000     5824.000000    191.470000\n",
              "50%     83616.000000     6968.000000    229.080000\n",
              "75%     91764.000000     7647.000000    251.410000\n",
              "max    260004.000000    21667.000000    712.340000"
            ]
          },
          "metadata": {
            "tags": []
          },
          "execution_count": 8
        }
      ]
    },
    {
      "cell_type": "code",
      "metadata": {
        "id": "8r2twygAXM3Z",
        "colab_type": "code",
        "outputId": "31b220bc-f5fe-456b-ceb8-6603e5275cde",
        "colab": {
          "base_uri": "https://localhost:8080/",
          "height": 359
        }
      },
      "source": [
        "df.describe(percentiles=[.20,.40,.60,.80])"
      ],
      "execution_count": 9,
      "outputs": [
        {
          "output_type": "execute_result",
          "data": {
            "text/html": [
              "<div>\n",
              "<style scoped>\n",
              "    .dataframe tbody tr th:only-of-type {\n",
              "        vertical-align: middle;\n",
              "    }\n",
              "\n",
              "    .dataframe tbody tr th {\n",
              "        vertical-align: top;\n",
              "    }\n",
              "\n",
              "    .dataframe thead th {\n",
              "        text-align: right;\n",
              "    }\n",
              "</style>\n",
              "<table border=\"1\" class=\"dataframe\">\n",
              "  <thead>\n",
              "    <tr style=\"text-align: right;\">\n",
              "      <th></th>\n",
              "      <th>Annual Salary</th>\n",
              "      <th>Monthly Salary</th>\n",
              "      <th>Daily Salary</th>\n",
              "    </tr>\n",
              "  </thead>\n",
              "  <tbody>\n",
              "    <tr>\n",
              "      <th>count</th>\n",
              "      <td>32181.000000</td>\n",
              "      <td>32181.000000</td>\n",
              "      <td>32181.000000</td>\n",
              "    </tr>\n",
              "    <tr>\n",
              "      <th>mean</th>\n",
              "      <td>79167.525846</td>\n",
              "      <td>6597.293754</td>\n",
              "      <td>216.896701</td>\n",
              "    </tr>\n",
              "    <tr>\n",
              "      <th>std</th>\n",
              "      <td>24462.356640</td>\n",
              "      <td>2038.529689</td>\n",
              "      <td>67.020052</td>\n",
              "    </tr>\n",
              "    <tr>\n",
              "      <th>min</th>\n",
              "      <td>0.960000</td>\n",
              "      <td>0.080000</td>\n",
              "      <td>0.000000</td>\n",
              "    </tr>\n",
              "    <tr>\n",
              "      <th>20%</th>\n",
              "      <td>65946.000000</td>\n",
              "      <td>5495.500000</td>\n",
              "      <td>180.670000</td>\n",
              "    </tr>\n",
              "    <tr>\n",
              "      <th>40%</th>\n",
              "      <td>80778.000000</td>\n",
              "      <td>6731.500000</td>\n",
              "      <td>221.310000</td>\n",
              "    </tr>\n",
              "    <tr>\n",
              "      <th>50%</th>\n",
              "      <td>83616.000000</td>\n",
              "      <td>6968.000000</td>\n",
              "      <td>229.080000</td>\n",
              "    </tr>\n",
              "    <tr>\n",
              "      <th>60%</th>\n",
              "      <td>86520.000000</td>\n",
              "      <td>7210.000000</td>\n",
              "      <td>237.040000</td>\n",
              "    </tr>\n",
              "    <tr>\n",
              "      <th>80%</th>\n",
              "      <td>93745.600000</td>\n",
              "      <td>7812.130000</td>\n",
              "      <td>256.840000</td>\n",
              "    </tr>\n",
              "    <tr>\n",
              "      <th>max</th>\n",
              "      <td>260004.000000</td>\n",
              "      <td>21667.000000</td>\n",
              "      <td>712.340000</td>\n",
              "    </tr>\n",
              "  </tbody>\n",
              "</table>\n",
              "</div>"
            ],
            "text/plain": [
              "       Annual Salary  Monthly Salary  Daily Salary\n",
              "count   32181.000000    32181.000000  32181.000000\n",
              "mean    79167.525846     6597.293754    216.896701\n",
              "std     24462.356640     2038.529689     67.020052\n",
              "min         0.960000        0.080000      0.000000\n",
              "20%     65946.000000     5495.500000    180.670000\n",
              "40%     80778.000000     6731.500000    221.310000\n",
              "50%     83616.000000     6968.000000    229.080000\n",
              "60%     86520.000000     7210.000000    237.040000\n",
              "80%     93745.600000     7812.130000    256.840000\n",
              "max    260004.000000    21667.000000    712.340000"
            ]
          },
          "metadata": {
            "tags": []
          },
          "execution_count": 9
        }
      ]
    },
    {
      "cell_type": "code",
      "metadata": {
        "id": "f9jSzH_aYDJN",
        "colab_type": "code",
        "outputId": "ed75ff98-56a2-4f67-a29d-6f60da97f4b3",
        "colab": {
          "base_uri": "https://localhost:8080/",
          "height": 102
        }
      },
      "source": [
        "df['Full Name'].describe()"
      ],
      "execution_count": 10,
      "outputs": [
        {
          "output_type": "execute_result",
          "data": {
            "text/plain": [
              "count                32181\n",
              "unique               31893\n",
              "top       RIVERA,  RICARDO\n",
              "freq                     4\n",
              "Name: Full Name, dtype: object"
            ]
          },
          "metadata": {
            "tags": []
          },
          "execution_count": 10
        }
      ]
    },
    {
      "cell_type": "code",
      "metadata": {
        "id": "Nx1cr5J8UmvG",
        "colab_type": "code",
        "outputId": "c6b0e3ec-656e-4b08-e449-51faf41b8140",
        "colab": {
          "base_uri": "https://localhost:8080/",
          "height": 85
        }
      },
      "source": [
        "df.mean()"
      ],
      "execution_count": 11,
      "outputs": [
        {
          "output_type": "execute_result",
          "data": {
            "text/plain": [
              "Annual Salary     79167.525846\n",
              "Monthly Salary     6597.293754\n",
              "Daily Salary        216.896701\n",
              "dtype: float64"
            ]
          },
          "metadata": {
            "tags": []
          },
          "execution_count": 11
        }
      ]
    },
    {
      "cell_type": "code",
      "metadata": {
        "id": "yFvlWTLbXIfq",
        "colab_type": "code",
        "outputId": "efffe65a-bcd9-4cc5-a7d3-e24457902401",
        "colab": {
          "base_uri": "https://localhost:8080/",
          "height": 34
        }
      },
      "source": [
        "df['Annual Salary'].quantile(.50) #percentile"
      ],
      "execution_count": 12,
      "outputs": [
        {
          "output_type": "execute_result",
          "data": {
            "text/plain": [
              "83616.0"
            ]
          },
          "metadata": {
            "tags": []
          },
          "execution_count": 12
        }
      ]
    },
    {
      "cell_type": "code",
      "metadata": {
        "id": "HP-tqDS5Vsbt",
        "colab_type": "code",
        "outputId": "aff00b11-064c-430f-f810-c1c93f19bf05",
        "colab": {
          "base_uri": "https://localhost:8080/",
          "height": 68
        }
      },
      "source": [
        "df[['Monthly Salary','Annual Salary']].median()"
      ],
      "execution_count": 13,
      "outputs": [
        {
          "output_type": "execute_result",
          "data": {
            "text/plain": [
              "Monthly Salary     6968.0\n",
              "Annual Salary     83616.0\n",
              "dtype: float64"
            ]
          },
          "metadata": {
            "tags": []
          },
          "execution_count": 13
        }
      ]
    },
    {
      "cell_type": "code",
      "metadata": {
        "id": "5tUsvy1nnGHo",
        "colab_type": "code",
        "outputId": "5209b06d-100b-4193-fb7a-fc05df2aa226",
        "colab": {
          "base_uri": "https://localhost:8080/",
          "height": 173
        }
      },
      "source": [
        "# .agg monta um .describe customizado\n",
        "# Inclusive com funções customizadas e importadas de outros módulos\n",
        "def cust(column):\n",
        "    return column.quantile(0.75)\n",
        "\n",
        "df[['Monthly Salary','Annual Salary']].agg(['min','mean','max',cust])"
      ],
      "execution_count": 14,
      "outputs": [
        {
          "output_type": "execute_result",
          "data": {
            "text/html": [
              "<div>\n",
              "<style scoped>\n",
              "    .dataframe tbody tr th:only-of-type {\n",
              "        vertical-align: middle;\n",
              "    }\n",
              "\n",
              "    .dataframe tbody tr th {\n",
              "        vertical-align: top;\n",
              "    }\n",
              "\n",
              "    .dataframe thead th {\n",
              "        text-align: right;\n",
              "    }\n",
              "</style>\n",
              "<table border=\"1\" class=\"dataframe\">\n",
              "  <thead>\n",
              "    <tr style=\"text-align: right;\">\n",
              "      <th></th>\n",
              "      <th>Monthly Salary</th>\n",
              "      <th>Annual Salary</th>\n",
              "    </tr>\n",
              "  </thead>\n",
              "  <tbody>\n",
              "    <tr>\n",
              "      <th>min</th>\n",
              "      <td>0.080000</td>\n",
              "      <td>0.960000</td>\n",
              "    </tr>\n",
              "    <tr>\n",
              "      <th>mean</th>\n",
              "      <td>6597.293754</td>\n",
              "      <td>79167.525846</td>\n",
              "    </tr>\n",
              "    <tr>\n",
              "      <th>max</th>\n",
              "      <td>21667.000000</td>\n",
              "      <td>260004.000000</td>\n",
              "    </tr>\n",
              "    <tr>\n",
              "      <th>cust</th>\n",
              "      <td>7647.000000</td>\n",
              "      <td>91764.000000</td>\n",
              "    </tr>\n",
              "  </tbody>\n",
              "</table>\n",
              "</div>"
            ],
            "text/plain": [
              "      Monthly Salary  Annual Salary\n",
              "min         0.080000       0.960000\n",
              "mean     6597.293754   79167.525846\n",
              "max     21667.000000  260004.000000\n",
              "cust     7647.000000   91764.000000"
            ]
          },
          "metadata": {
            "tags": []
          },
          "execution_count": 14
        }
      ]
    },
    {
      "cell_type": "code",
      "metadata": {
        "id": "0nmmPDUxZITu",
        "colab_type": "code",
        "outputId": "c284461b-8870-4ab4-e095-9d9eaef88821",
        "colab": {
          "base_uri": "https://localhost:8080/",
          "height": 221
        }
      },
      "source": [
        "df['Daily Salary'].cumsum() #soma cumulativa"
      ],
      "execution_count": 15,
      "outputs": [
        {
          "output_type": "execute_result",
          "data": {
            "text/plain": [
              "0            243.74\n",
              "1            465.05\n",
              "2            686.36\n",
              "3            918.63\n",
              "4           1205.58\n",
              "            ...    \n",
              "32177    6979184.29\n",
              "32178    6979413.37\n",
              "32179    6979650.41\n",
              "32180    6979952.74\n",
              "32181           NaN\n",
              "Name: Daily Salary, Length: 32182, dtype: float64"
            ]
          },
          "metadata": {
            "tags": []
          },
          "execution_count": 15
        }
      ]
    }
  ]
}