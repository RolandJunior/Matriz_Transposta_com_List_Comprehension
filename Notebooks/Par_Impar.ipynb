{
  "nbformat": 4,
  "nbformat_minor": 0,
  "metadata": {
    "colab": {
      "name": "teste.ipynb",
      "provenance": []
    },
    "kernelspec": {
      "name": "python3",
      "display_name": "Python 3"
    }
  },
  "cells": [
    {
      "cell_type": "code",
      "metadata": {
        "id": "kOiIlrE_CUw2",
        "colab_type": "code",
        "outputId": "19bd8abb-b7fd-47c6-ff17-54fa65164808",
        "colab": {
          "base_uri": "https://localhost:8080/",
          "height": 51
        }
      },
      "source": [
        "def par_impar(num):\n",
        "  if num % 2 == 0:\n",
        "    return 'par'\n",
        "  else:\n",
        "    return 'ímpar'  \n",
        "\n",
        "x = 126\n",
        "y = 357\n",
        "\n",
        "print(f'O número {x} é {par_impar(x)}.')\n",
        "print(f'O número {y} é {par_impar(y)}.')"
      ],
      "execution_count": 7,
      "outputs": [
        {
          "output_type": "stream",
          "text": [
            "O número 126 é par.\n",
            "O número 357 é ímpar.\n"
          ],
          "name": "stdout"
        }
      ]
    }
  ]
}