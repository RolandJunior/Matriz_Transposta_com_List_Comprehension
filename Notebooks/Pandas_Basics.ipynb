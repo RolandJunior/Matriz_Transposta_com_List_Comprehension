{
  "nbformat": 4,
  "nbformat_minor": 0,
  "metadata": {
    "colab": {
      "name": "Pandas_Basics.ipynb",
      "provenance": [],
      "collapsed_sections": []
    },
    "kernelspec": {
      "name": "python3",
      "display_name": "Python 3"
    }
  },
  "cells": [
    {
      "cell_type": "code",
      "metadata": {
        "id": "gC6G8SA1-nZf",
        "colab_type": "code",
        "colab": {}
      },
      "source": [
        "import pandas as pd"
      ],
      "execution_count": 0,
      "outputs": []
    },
    {
      "cell_type": "markdown",
      "metadata": {
        "id": "R01QbuEku5PT",
        "colab_type": "text"
      },
      "source": [
        "---\n",
        "### **Lendo um DataFrame (CSV)**"
      ]
    },
    {
      "cell_type": "code",
      "metadata": {
        "id": "m3plfI-AxbD2",
        "colab_type": "code",
        "colab": {}
      },
      "source": [
        "arquivo = '../content/drive/My Drive/Temp/salarios.csv'\n",
        "df = pd.read_csv(arquivo)"
      ],
      "execution_count": 0,
      "outputs": []
    },
    {
      "cell_type": "markdown",
      "metadata": {
        "id": "6jWDJqe4xj73",
        "colab_type": "text"
      },
      "source": [
        "---\n",
        "### **Tamanho do DataFrame**"
      ]
    },
    {
      "cell_type": "code",
      "metadata": {
        "id": "6EZ4gaMNvruy",
        "colab_type": "code",
        "outputId": "31b6f919-4185-4666-ba2c-5050ad4247bc",
        "colab": {
          "base_uri": "https://localhost:8080/",
          "height": 68
        }
      },
      "source": [
        "print(df.shape)\n",
        "print('Linhas:', df.shape[0])\n",
        "print('Colunas:', df.shape[1])"
      ],
      "execution_count": 5,
      "outputs": [
        {
          "output_type": "stream",
          "text": [
            "(32182, 4)\n",
            "Linhas: 32182\n",
            "Colunas: 4\n"
          ],
          "name": "stdout"
        }
      ]
    },
    {
      "cell_type": "markdown",
      "metadata": {
        "id": "ZfBa1xAQyK_g",
        "colab_type": "text"
      },
      "source": [
        "### **Estrutura do DataFrame**"
      ]
    },
    {
      "cell_type": "code",
      "metadata": {
        "id": "Y8W1O1KxxWH6",
        "colab_type": "code",
        "outputId": "4374c926-edfa-4f67-83d8-ae937d1a9a4d",
        "colab": {
          "base_uri": "https://localhost:8080/",
          "height": 204
        }
      },
      "source": [
        "df.info()"
      ],
      "execution_count": 6,
      "outputs": [
        {
          "output_type": "stream",
          "text": [
            "<class 'pandas.core.frame.DataFrame'>\n",
            "RangeIndex: 32182 entries, 0 to 32181\n",
            "Data columns (total 4 columns):\n",
            " #   Column                  Non-Null Count  Dtype \n",
            "---  ------                  --------------  ----- \n",
            " 0   Name                    32181 non-null  object\n",
            " 1   Position Title          32181 non-null  object\n",
            " 2   Department              32181 non-null  object\n",
            " 3   Employee Annual Salary  32181 non-null  object\n",
            "dtypes: object(4)\n",
            "memory usage: 1005.8+ KB\n"
          ],
          "name": "stdout"
        }
      ]
    },
    {
      "cell_type": "markdown",
      "metadata": {
        "id": "guG8UpWRLQZi",
        "colab_type": "text"
      },
      "source": [
        "### **Componentes do DataFrame**"
      ]
    },
    {
      "cell_type": "code",
      "metadata": {
        "id": "GzMUVgipLZ1P",
        "colab_type": "code",
        "outputId": "40b5449b-9f00-4498-e4fe-808119b96e50",
        "colab": {
          "base_uri": "https://localhost:8080/",
          "height": 34
        }
      },
      "source": [
        "df.columns"
      ],
      "execution_count": 7,
      "outputs": [
        {
          "output_type": "execute_result",
          "data": {
            "text/plain": [
              "Index(['Name', 'Position Title', 'Department', 'Employee Annual Salary'], dtype='object')"
            ]
          },
          "metadata": {
            "tags": []
          },
          "execution_count": 7
        }
      ]
    },
    {
      "cell_type": "code",
      "metadata": {
        "id": "p9dFf4CoLtdn",
        "colab_type": "code",
        "outputId": "8aa64805-fdbc-4a87-eec0-d5467f11004a",
        "colab": {
          "base_uri": "https://localhost:8080/",
          "height": 34
        }
      },
      "source": [
        "df.index #Linhas"
      ],
      "execution_count": 8,
      "outputs": [
        {
          "output_type": "execute_result",
          "data": {
            "text/plain": [
              "RangeIndex(start=0, stop=32182, step=1)"
            ]
          },
          "metadata": {
            "tags": []
          },
          "execution_count": 8
        }
      ]
    },
    {
      "cell_type": "code",
      "metadata": {
        "id": "pSsOjhqJLR3n",
        "colab_type": "code",
        "outputId": "83606925-976e-4c23-c177-923a5892cb44",
        "colab": {
          "base_uri": "https://localhost:8080/",
          "height": 170
        }
      },
      "source": [
        "df.values"
      ],
      "execution_count": 9,
      "outputs": [
        {
          "output_type": "execute_result",
          "data": {
            "text/plain": [
              "array([['AARON,  ELVIA J', 'WATER RATE TAKER', 'WATER MGMNT',\n",
              "        '$88965.00'],\n",
              "       ['AARON,  JEFFERY M', 'POLICE OFFICER', 'POLICE', '$80778.00'],\n",
              "       ['AARON,  KARINA', 'POLICE OFFICER', 'POLICE', '$80778.00'],\n",
              "       ...,\n",
              "       ['ZYRKOWSKI,  CARLO E', 'POLICE OFFICER', 'POLICE', '$86520.00'],\n",
              "       ['ZYSKOWSKI,  DARIUSZ', 'CHIEF DATA BASE ANALYST', 'DoIT',\n",
              "        '$110352.00'],\n",
              "       [nan, nan, nan, nan]], dtype=object)"
            ]
          },
          "metadata": {
            "tags": []
          },
          "execution_count": 9
        }
      ]
    },
    {
      "cell_type": "markdown",
      "metadata": {
        "id": "7yQC2G4UyXk0",
        "colab_type": "text"
      },
      "source": [
        "### **Resumo do conteúdo**"
      ]
    },
    {
      "cell_type": "code",
      "metadata": {
        "id": "2fG6xc3OxzRf",
        "colab_type": "code",
        "outputId": "426a8ef4-e594-42bb-c633-2f63a5ad0a1e",
        "colab": {
          "base_uri": "https://localhost:8080/",
          "height": 204
        }
      },
      "source": [
        "df.head() #5 primeiros registros (.tail() para os 5 últimos)"
      ],
      "execution_count": 10,
      "outputs": [
        {
          "output_type": "execute_result",
          "data": {
            "text/html": [
              "<div>\n",
              "<style scoped>\n",
              "    .dataframe tbody tr th:only-of-type {\n",
              "        vertical-align: middle;\n",
              "    }\n",
              "\n",
              "    .dataframe tbody tr th {\n",
              "        vertical-align: top;\n",
              "    }\n",
              "\n",
              "    .dataframe thead th {\n",
              "        text-align: right;\n",
              "    }\n",
              "</style>\n",
              "<table border=\"1\" class=\"dataframe\">\n",
              "  <thead>\n",
              "    <tr style=\"text-align: right;\">\n",
              "      <th></th>\n",
              "      <th>Name</th>\n",
              "      <th>Position Title</th>\n",
              "      <th>Department</th>\n",
              "      <th>Employee Annual Salary</th>\n",
              "    </tr>\n",
              "  </thead>\n",
              "  <tbody>\n",
              "    <tr>\n",
              "      <th>0</th>\n",
              "      <td>AARON,  ELVIA J</td>\n",
              "      <td>WATER RATE TAKER</td>\n",
              "      <td>WATER MGMNT</td>\n",
              "      <td>$88965.00</td>\n",
              "    </tr>\n",
              "    <tr>\n",
              "      <th>1</th>\n",
              "      <td>AARON,  JEFFERY M</td>\n",
              "      <td>POLICE OFFICER</td>\n",
              "      <td>POLICE</td>\n",
              "      <td>$80778.00</td>\n",
              "    </tr>\n",
              "    <tr>\n",
              "      <th>2</th>\n",
              "      <td>AARON,  KARINA</td>\n",
              "      <td>POLICE OFFICER</td>\n",
              "      <td>POLICE</td>\n",
              "      <td>$80778.00</td>\n",
              "    </tr>\n",
              "    <tr>\n",
              "      <th>3</th>\n",
              "      <td>AARON,  KIMBERLEI R</td>\n",
              "      <td>CHIEF CONTRACT EXPEDITER</td>\n",
              "      <td>GENERAL SERVICES</td>\n",
              "      <td>$84780.00</td>\n",
              "    </tr>\n",
              "    <tr>\n",
              "      <th>4</th>\n",
              "      <td>ABAD JR,  VICENTE M</td>\n",
              "      <td>CIVIL ENGINEER IV</td>\n",
              "      <td>WATER MGMNT</td>\n",
              "      <td>$104736.00</td>\n",
              "    </tr>\n",
              "  </tbody>\n",
              "</table>\n",
              "</div>"
            ],
            "text/plain": [
              "                  Name  ... Employee Annual Salary\n",
              "0      AARON,  ELVIA J  ...              $88965.00\n",
              "1    AARON,  JEFFERY M  ...              $80778.00\n",
              "2       AARON,  KARINA  ...              $80778.00\n",
              "3  AARON,  KIMBERLEI R  ...              $84780.00\n",
              "4  ABAD JR,  VICENTE M  ...             $104736.00\n",
              "\n",
              "[5 rows x 4 columns]"
            ]
          },
          "metadata": {
            "tags": []
          },
          "execution_count": 10
        }
      ]
    },
    {
      "cell_type": "markdown",
      "metadata": {
        "id": "6Kqo6oogyfVx",
        "colab_type": "text"
      },
      "source": [
        "---\n",
        "### **Selecionando colunas**\n",
        "Colunas sem espaços ou caracteres especiais podem ser selecionadas diretamente com a notação de \"ponto\".\n",
        "\n",
        "Caso contrário, devem ser passadas como String dentro de [ ].\n"
      ]
    },
    {
      "cell_type": "code",
      "metadata": {
        "id": "1e84KPYByUy5",
        "colab_type": "code",
        "outputId": "d48a6707-430c-4665-8424-8edca0c9ff4a",
        "colab": {
          "base_uri": "https://localhost:8080/",
          "height": 221
        }
      },
      "source": [
        "df.Name"
      ],
      "execution_count": 11,
      "outputs": [
        {
          "output_type": "execute_result",
          "data": {
            "text/plain": [
              "0            AARON,  ELVIA J\n",
              "1          AARON,  JEFFERY M\n",
              "2             AARON,  KARINA\n",
              "3        AARON,  KIMBERLEI R\n",
              "4        ABAD JR,  VICENTE M\n",
              "                ...         \n",
              "32177     ZYGOWICZ,  PETER J\n",
              "32178      ZYMANTAS,  MARK E\n",
              "32179    ZYRKOWSKI,  CARLO E\n",
              "32180    ZYSKOWSKI,  DARIUSZ\n",
              "32181                    NaN\n",
              "Name: Name, Length: 32182, dtype: object"
            ]
          },
          "metadata": {
            "tags": []
          },
          "execution_count": 11
        }
      ]
    },
    {
      "cell_type": "code",
      "metadata": {
        "id": "3-ZqfgJdyjWx",
        "colab_type": "code",
        "outputId": "8c43eb57-35a3-488a-933e-0979639ec4fd",
        "colab": {
          "base_uri": "https://localhost:8080/",
          "height": 221
        }
      },
      "source": [
        "df['Name']"
      ],
      "execution_count": 12,
      "outputs": [
        {
          "output_type": "execute_result",
          "data": {
            "text/plain": [
              "0            AARON,  ELVIA J\n",
              "1          AARON,  JEFFERY M\n",
              "2             AARON,  KARINA\n",
              "3        AARON,  KIMBERLEI R\n",
              "4        ABAD JR,  VICENTE M\n",
              "                ...         \n",
              "32177     ZYGOWICZ,  PETER J\n",
              "32178      ZYMANTAS,  MARK E\n",
              "32179    ZYRKOWSKI,  CARLO E\n",
              "32180    ZYSKOWSKI,  DARIUSZ\n",
              "32181                    NaN\n",
              "Name: Name, Length: 32182, dtype: object"
            ]
          },
          "metadata": {
            "tags": []
          },
          "execution_count": 12
        }
      ]
    },
    {
      "cell_type": "code",
      "metadata": {
        "id": "0KP4OCkhyw4n",
        "colab_type": "code",
        "outputId": "c5e88e57-d323-48c3-b3cb-3b9a11279876",
        "colab": {
          "base_uri": "https://localhost:8080/",
          "height": 221
        }
      },
      "source": [
        "df['Position Title']"
      ],
      "execution_count": 13,
      "outputs": [
        {
          "output_type": "execute_result",
          "data": {
            "text/plain": [
              "0                WATER RATE TAKER\n",
              "1                  POLICE OFFICER\n",
              "2                  POLICE OFFICER\n",
              "3        CHIEF CONTRACT EXPEDITER\n",
              "4               CIVIL ENGINEER IV\n",
              "                   ...           \n",
              "32177              POLICE OFFICER\n",
              "32178              POLICE OFFICER\n",
              "32179              POLICE OFFICER\n",
              "32180     CHIEF DATA BASE ANALYST\n",
              "32181                         NaN\n",
              "Name: Position Title, Length: 32182, dtype: object"
            ]
          },
          "metadata": {
            "tags": []
          },
          "execution_count": 13
        }
      ]
    },
    {
      "cell_type": "code",
      "metadata": {
        "id": "PCE2_K-kP2yt",
        "colab_type": "code",
        "outputId": "dc62d82a-693d-4273-d52b-1c78be62af0b",
        "colab": {
          "base_uri": "https://localhost:8080/",
          "height": 419
        }
      },
      "source": [
        "# Múltiplas colunas devem ser passadas como uma Lista\n",
        "df[['Department','Position Title']]"
      ],
      "execution_count": 14,
      "outputs": [
        {
          "output_type": "execute_result",
          "data": {
            "text/html": [
              "<div>\n",
              "<style scoped>\n",
              "    .dataframe tbody tr th:only-of-type {\n",
              "        vertical-align: middle;\n",
              "    }\n",
              "\n",
              "    .dataframe tbody tr th {\n",
              "        vertical-align: top;\n",
              "    }\n",
              "\n",
              "    .dataframe thead th {\n",
              "        text-align: right;\n",
              "    }\n",
              "</style>\n",
              "<table border=\"1\" class=\"dataframe\">\n",
              "  <thead>\n",
              "    <tr style=\"text-align: right;\">\n",
              "      <th></th>\n",
              "      <th>Department</th>\n",
              "      <th>Position Title</th>\n",
              "    </tr>\n",
              "  </thead>\n",
              "  <tbody>\n",
              "    <tr>\n",
              "      <th>0</th>\n",
              "      <td>WATER MGMNT</td>\n",
              "      <td>WATER RATE TAKER</td>\n",
              "    </tr>\n",
              "    <tr>\n",
              "      <th>1</th>\n",
              "      <td>POLICE</td>\n",
              "      <td>POLICE OFFICER</td>\n",
              "    </tr>\n",
              "    <tr>\n",
              "      <th>2</th>\n",
              "      <td>POLICE</td>\n",
              "      <td>POLICE OFFICER</td>\n",
              "    </tr>\n",
              "    <tr>\n",
              "      <th>3</th>\n",
              "      <td>GENERAL SERVICES</td>\n",
              "      <td>CHIEF CONTRACT EXPEDITER</td>\n",
              "    </tr>\n",
              "    <tr>\n",
              "      <th>4</th>\n",
              "      <td>WATER MGMNT</td>\n",
              "      <td>CIVIL ENGINEER IV</td>\n",
              "    </tr>\n",
              "    <tr>\n",
              "      <th>...</th>\n",
              "      <td>...</td>\n",
              "      <td>...</td>\n",
              "    </tr>\n",
              "    <tr>\n",
              "      <th>32177</th>\n",
              "      <td>POLICE</td>\n",
              "      <td>POLICE OFFICER</td>\n",
              "    </tr>\n",
              "    <tr>\n",
              "      <th>32178</th>\n",
              "      <td>POLICE</td>\n",
              "      <td>POLICE OFFICER</td>\n",
              "    </tr>\n",
              "    <tr>\n",
              "      <th>32179</th>\n",
              "      <td>POLICE</td>\n",
              "      <td>POLICE OFFICER</td>\n",
              "    </tr>\n",
              "    <tr>\n",
              "      <th>32180</th>\n",
              "      <td>DoIT</td>\n",
              "      <td>CHIEF DATA BASE ANALYST</td>\n",
              "    </tr>\n",
              "    <tr>\n",
              "      <th>32181</th>\n",
              "      <td>NaN</td>\n",
              "      <td>NaN</td>\n",
              "    </tr>\n",
              "  </tbody>\n",
              "</table>\n",
              "<p>32182 rows × 2 columns</p>\n",
              "</div>"
            ],
            "text/plain": [
              "             Department            Position Title\n",
              "0           WATER MGMNT          WATER RATE TAKER\n",
              "1                POLICE            POLICE OFFICER\n",
              "2                POLICE            POLICE OFFICER\n",
              "3      GENERAL SERVICES  CHIEF CONTRACT EXPEDITER\n",
              "4           WATER MGMNT         CIVIL ENGINEER IV\n",
              "...                 ...                       ...\n",
              "32177            POLICE            POLICE OFFICER\n",
              "32178            POLICE            POLICE OFFICER\n",
              "32179            POLICE            POLICE OFFICER\n",
              "32180              DoIT   CHIEF DATA BASE ANALYST\n",
              "32181               NaN                       NaN\n",
              "\n",
              "[32182 rows x 2 columns]"
            ]
          },
          "metadata": {
            "tags": []
          },
          "execution_count": 14
        }
      ]
    },
    {
      "cell_type": "markdown",
      "metadata": {
        "id": "6IPKevNLNoM4",
        "colab_type": "text"
      },
      "source": [
        "---\n",
        "### **Ordenando**"
      ]
    },
    {
      "cell_type": "code",
      "metadata": {
        "id": "yDbZmKwD0jMg",
        "colab_type": "code",
        "outputId": "ad66f527-0a2a-47d2-aa21-1452742b8f4c",
        "colab": {
          "base_uri": "https://localhost:8080/",
          "height": 419
        }
      },
      "source": [
        "df.sort_values('Department')"
      ],
      "execution_count": 15,
      "outputs": [
        {
          "output_type": "execute_result",
          "data": {
            "text/html": [
              "<div>\n",
              "<style scoped>\n",
              "    .dataframe tbody tr th:only-of-type {\n",
              "        vertical-align: middle;\n",
              "    }\n",
              "\n",
              "    .dataframe tbody tr th {\n",
              "        vertical-align: top;\n",
              "    }\n",
              "\n",
              "    .dataframe thead th {\n",
              "        text-align: right;\n",
              "    }\n",
              "</style>\n",
              "<table border=\"1\" class=\"dataframe\">\n",
              "  <thead>\n",
              "    <tr style=\"text-align: right;\">\n",
              "      <th></th>\n",
              "      <th>Name</th>\n",
              "      <th>Position Title</th>\n",
              "      <th>Department</th>\n",
              "      <th>Employee Annual Salary</th>\n",
              "    </tr>\n",
              "  </thead>\n",
              "  <tbody>\n",
              "    <tr>\n",
              "      <th>26145</th>\n",
              "      <td>SEPULVEDA CORY,  LORI J</td>\n",
              "      <td>ADMINISTRATIVE ASST II</td>\n",
              "      <td>ADMIN HEARNG</td>\n",
              "      <td>$60780.00</td>\n",
              "    </tr>\n",
              "    <tr>\n",
              "      <th>30552</th>\n",
              "      <td>WEINERT,  DARCI N</td>\n",
              "      <td>SENIOR HEARING OFFICER</td>\n",
              "      <td>ADMIN HEARNG</td>\n",
              "      <td>$66696.00</td>\n",
              "    </tr>\n",
              "    <tr>\n",
              "      <th>26429</th>\n",
              "      <td>SHORTER,  TERESSA J</td>\n",
              "      <td>STAFF ASST</td>\n",
              "      <td>ADMIN HEARNG</td>\n",
              "      <td>$69888.00</td>\n",
              "    </tr>\n",
              "    <tr>\n",
              "      <th>18641</th>\n",
              "      <td>MC SWAIN,  MICHELE A</td>\n",
              "      <td>SENIOR ADMINISTRATIVE LAW OFFICER</td>\n",
              "      <td>ADMIN HEARNG</td>\n",
              "      <td>$91980.00</td>\n",
              "    </tr>\n",
              "    <tr>\n",
              "      <th>9805</th>\n",
              "      <td>GAVIN,  MARGARET H</td>\n",
              "      <td>ASST TO THE EXEC DIR</td>\n",
              "      <td>ADMIN HEARNG</td>\n",
              "      <td>$77280.00</td>\n",
              "    </tr>\n",
              "    <tr>\n",
              "      <th>...</th>\n",
              "      <td>...</td>\n",
              "      <td>...</td>\n",
              "      <td>...</td>\n",
              "      <td>...</td>\n",
              "    </tr>\n",
              "    <tr>\n",
              "      <th>26445</th>\n",
              "      <td>SHRADER,  TIMOTHY</td>\n",
              "      <td>HOISTING ENGINEER</td>\n",
              "      <td>WATER MGMNT</td>\n",
              "      <td>$97968.00</td>\n",
              "    </tr>\n",
              "    <tr>\n",
              "      <th>26468</th>\n",
              "      <td>SIDDIQUI,  ABDURRAZZAQ</td>\n",
              "      <td>WATER CHEMIST III</td>\n",
              "      <td>WATER MGMNT</td>\n",
              "      <td>$87912.00</td>\n",
              "    </tr>\n",
              "    <tr>\n",
              "      <th>7444</th>\n",
              "      <td>DREGER,  THOMAS J</td>\n",
              "      <td>OPERATING ENGINEER-GROUP C</td>\n",
              "      <td>WATER MGMNT</td>\n",
              "      <td>$93745.60</td>\n",
              "    </tr>\n",
              "    <tr>\n",
              "      <th>0</th>\n",
              "      <td>AARON,  ELVIA J</td>\n",
              "      <td>WATER RATE TAKER</td>\n",
              "      <td>WATER MGMNT</td>\n",
              "      <td>$88965.00</td>\n",
              "    </tr>\n",
              "    <tr>\n",
              "      <th>32181</th>\n",
              "      <td>NaN</td>\n",
              "      <td>NaN</td>\n",
              "      <td>NaN</td>\n",
              "      <td>NaN</td>\n",
              "    </tr>\n",
              "  </tbody>\n",
              "</table>\n",
              "<p>32182 rows × 4 columns</p>\n",
              "</div>"
            ],
            "text/plain": [
              "                          Name  ... Employee Annual Salary\n",
              "26145  SEPULVEDA CORY,  LORI J  ...              $60780.00\n",
              "30552        WEINERT,  DARCI N  ...              $66696.00\n",
              "26429      SHORTER,  TERESSA J  ...              $69888.00\n",
              "18641     MC SWAIN,  MICHELE A  ...              $91980.00\n",
              "9805        GAVIN,  MARGARET H  ...              $77280.00\n",
              "...                        ...  ...                    ...\n",
              "26445        SHRADER,  TIMOTHY  ...              $97968.00\n",
              "26468   SIDDIQUI,  ABDURRAZZAQ  ...              $87912.00\n",
              "7444         DREGER,  THOMAS J  ...              $93745.60\n",
              "0              AARON,  ELVIA J  ...              $88965.00\n",
              "32181                      NaN  ...                    NaN\n",
              "\n",
              "[32182 rows x 4 columns]"
            ]
          },
          "metadata": {
            "tags": []
          },
          "execution_count": 15
        }
      ]
    },
    {
      "cell_type": "code",
      "metadata": {
        "id": "XNIkKV2pNxiv",
        "colab_type": "code",
        "outputId": "39b1f874-3aed-41b8-877f-0b60470b59ef",
        "colab": {
          "base_uri": "https://localhost:8080/",
          "height": 419
        }
      },
      "source": [
        "df.sort_values('Department', ascending=False)"
      ],
      "execution_count": 16,
      "outputs": [
        {
          "output_type": "execute_result",
          "data": {
            "text/html": [
              "<div>\n",
              "<style scoped>\n",
              "    .dataframe tbody tr th:only-of-type {\n",
              "        vertical-align: middle;\n",
              "    }\n",
              "\n",
              "    .dataframe tbody tr th {\n",
              "        vertical-align: top;\n",
              "    }\n",
              "\n",
              "    .dataframe thead th {\n",
              "        text-align: right;\n",
              "    }\n",
              "</style>\n",
              "<table border=\"1\" class=\"dataframe\">\n",
              "  <thead>\n",
              "    <tr style=\"text-align: right;\">\n",
              "      <th></th>\n",
              "      <th>Name</th>\n",
              "      <th>Position Title</th>\n",
              "      <th>Department</th>\n",
              "      <th>Employee Annual Salary</th>\n",
              "    </tr>\n",
              "  </thead>\n",
              "  <tbody>\n",
              "    <tr>\n",
              "      <th>0</th>\n",
              "      <td>AARON,  ELVIA J</td>\n",
              "      <td>WATER RATE TAKER</td>\n",
              "      <td>WATER MGMNT</td>\n",
              "      <td>$88965.00</td>\n",
              "    </tr>\n",
              "    <tr>\n",
              "      <th>7273</th>\n",
              "      <td>DONOVAN,  TIMOTHY E</td>\n",
              "      <td>ELECTRICAL MECHANIC</td>\n",
              "      <td>WATER MGMNT</td>\n",
              "      <td>$91520.00</td>\n",
              "    </tr>\n",
              "    <tr>\n",
              "      <th>10966</th>\n",
              "      <td>GUERRERO,  CYNTHIA</td>\n",
              "      <td>PROCUREMENT CONTROL OFFICER</td>\n",
              "      <td>WATER MGMNT</td>\n",
              "      <td>$60408.00</td>\n",
              "    </tr>\n",
              "    <tr>\n",
              "      <th>7272</th>\n",
              "      <td>DONOVAN,  THOMAS</td>\n",
              "      <td>ELECTRICAL MECHANIC</td>\n",
              "      <td>WATER MGMNT</td>\n",
              "      <td>$91520.00</td>\n",
              "    </tr>\n",
              "    <tr>\n",
              "      <th>2092</th>\n",
              "      <td>BIGECK,  RONALD T</td>\n",
              "      <td>CONSTRUCTION LABORER</td>\n",
              "      <td>WATER MGMNT</td>\n",
              "      <td>$79040.00</td>\n",
              "    </tr>\n",
              "    <tr>\n",
              "      <th>...</th>\n",
              "      <td>...</td>\n",
              "      <td>...</td>\n",
              "      <td>...</td>\n",
              "      <td>...</td>\n",
              "    </tr>\n",
              "    <tr>\n",
              "      <th>11895</th>\n",
              "      <td>HEIDT,  SANDRA E</td>\n",
              "      <td>ASST MANAGER OF ADMINISTRATIVE ADJUDICATION</td>\n",
              "      <td>ADMIN HEARNG</td>\n",
              "      <td>$93432.00</td>\n",
              "    </tr>\n",
              "    <tr>\n",
              "      <th>14068</th>\n",
              "      <td>JONES,  LOIS M</td>\n",
              "      <td>ADMINISTRATIVE ASST II</td>\n",
              "      <td>ADMIN HEARNG</td>\n",
              "      <td>$60780.00</td>\n",
              "    </tr>\n",
              "    <tr>\n",
              "      <th>26979</th>\n",
              "      <td>SMITH,  PAMELA M</td>\n",
              "      <td>ASST TO THE EXEC DIR</td>\n",
              "      <td>ADMIN HEARNG</td>\n",
              "      <td>$88812.00</td>\n",
              "    </tr>\n",
              "    <tr>\n",
              "      <th>4236</th>\n",
              "      <td>CASSELLA,  CATHERINE</td>\n",
              "      <td>ADMINISTRATIVE ASST II</td>\n",
              "      <td>ADMIN HEARNG</td>\n",
              "      <td>$60780.00</td>\n",
              "    </tr>\n",
              "    <tr>\n",
              "      <th>32181</th>\n",
              "      <td>NaN</td>\n",
              "      <td>NaN</td>\n",
              "      <td>NaN</td>\n",
              "      <td>NaN</td>\n",
              "    </tr>\n",
              "  </tbody>\n",
              "</table>\n",
              "<p>32182 rows × 4 columns</p>\n",
              "</div>"
            ],
            "text/plain": [
              "                       Name  ... Employee Annual Salary\n",
              "0           AARON,  ELVIA J  ...              $88965.00\n",
              "7273    DONOVAN,  TIMOTHY E  ...              $91520.00\n",
              "10966    GUERRERO,  CYNTHIA  ...              $60408.00\n",
              "7272       DONOVAN,  THOMAS  ...              $91520.00\n",
              "2092      BIGECK,  RONALD T  ...              $79040.00\n",
              "...                     ...  ...                    ...\n",
              "11895      HEIDT,  SANDRA E  ...              $93432.00\n",
              "14068        JONES,  LOIS M  ...              $60780.00\n",
              "26979      SMITH,  PAMELA M  ...              $88812.00\n",
              "4236   CASSELLA,  CATHERINE  ...              $60780.00\n",
              "32181                   NaN  ...                    NaN\n",
              "\n",
              "[32182 rows x 4 columns]"
            ]
          },
          "metadata": {
            "tags": []
          },
          "execution_count": 16
        }
      ]
    },
    {
      "cell_type": "code",
      "metadata": {
        "id": "kLAcvwl2OmpL",
        "colab_type": "code",
        "outputId": "0a26c80f-5285-4acc-90fa-358373fc491e",
        "colab": {
          "base_uri": "https://localhost:8080/",
          "height": 419
        }
      },
      "source": [
        "df.sort_values(['Department','Position Title','Name'], ascending=[True, True, False])"
      ],
      "execution_count": 17,
      "outputs": [
        {
          "output_type": "execute_result",
          "data": {
            "text/html": [
              "<div>\n",
              "<style scoped>\n",
              "    .dataframe tbody tr th:only-of-type {\n",
              "        vertical-align: middle;\n",
              "    }\n",
              "\n",
              "    .dataframe tbody tr th {\n",
              "        vertical-align: top;\n",
              "    }\n",
              "\n",
              "    .dataframe thead th {\n",
              "        text-align: right;\n",
              "    }\n",
              "</style>\n",
              "<table border=\"1\" class=\"dataframe\">\n",
              "  <thead>\n",
              "    <tr style=\"text-align: right;\">\n",
              "      <th></th>\n",
              "      <th>Name</th>\n",
              "      <th>Position Title</th>\n",
              "      <th>Department</th>\n",
              "      <th>Employee Annual Salary</th>\n",
              "    </tr>\n",
              "  </thead>\n",
              "  <tbody>\n",
              "    <tr>\n",
              "      <th>31532</th>\n",
              "      <td>WOODRIDGE,  RACHENETTE</td>\n",
              "      <td>ADMINISTRATIVE ASST II</td>\n",
              "      <td>ADMIN HEARNG</td>\n",
              "      <td>$58020.00</td>\n",
              "    </tr>\n",
              "    <tr>\n",
              "      <th>28189</th>\n",
              "      <td>TADEO,  ALITA F</td>\n",
              "      <td>ADMINISTRATIVE ASST II</td>\n",
              "      <td>ADMIN HEARNG</td>\n",
              "      <td>$58020.00</td>\n",
              "    </tr>\n",
              "    <tr>\n",
              "      <th>26603</th>\n",
              "      <td>SIMPSON,  KAREN E</td>\n",
              "      <td>ADMINISTRATIVE ASST II</td>\n",
              "      <td>ADMIN HEARNG</td>\n",
              "      <td>$58020.00</td>\n",
              "    </tr>\n",
              "    <tr>\n",
              "      <th>26145</th>\n",
              "      <td>SEPULVEDA CORY,  LORI J</td>\n",
              "      <td>ADMINISTRATIVE ASST II</td>\n",
              "      <td>ADMIN HEARNG</td>\n",
              "      <td>$60780.00</td>\n",
              "    </tr>\n",
              "    <tr>\n",
              "      <th>25634</th>\n",
              "      <td>SANTIAGO,  NELIDA</td>\n",
              "      <td>ADMINISTRATIVE ASST II</td>\n",
              "      <td>ADMIN HEARNG</td>\n",
              "      <td>$55428.00</td>\n",
              "    </tr>\n",
              "    <tr>\n",
              "      <th>...</th>\n",
              "      <td>...</td>\n",
              "      <td>...</td>\n",
              "      <td>...</td>\n",
              "      <td>...</td>\n",
              "    </tr>\n",
              "    <tr>\n",
              "      <th>3454</th>\n",
              "      <td>BURT,  CARL S</td>\n",
              "      <td>WATER RATE TAKER</td>\n",
              "      <td>WATER MGMNT</td>\n",
              "      <td>$88968.00</td>\n",
              "    </tr>\n",
              "    <tr>\n",
              "      <th>3138</th>\n",
              "      <td>BROWN,  SHARON L</td>\n",
              "      <td>WATER RATE TAKER</td>\n",
              "      <td>WATER MGMNT</td>\n",
              "      <td>$81108.00</td>\n",
              "    </tr>\n",
              "    <tr>\n",
              "      <th>2401</th>\n",
              "      <td>BOLTON,  BRIAN E</td>\n",
              "      <td>WATER RATE TAKER</td>\n",
              "      <td>WATER MGMNT</td>\n",
              "      <td>$77400.00</td>\n",
              "    </tr>\n",
              "    <tr>\n",
              "      <th>0</th>\n",
              "      <td>AARON,  ELVIA J</td>\n",
              "      <td>WATER RATE TAKER</td>\n",
              "      <td>WATER MGMNT</td>\n",
              "      <td>$88965.00</td>\n",
              "    </tr>\n",
              "    <tr>\n",
              "      <th>32181</th>\n",
              "      <td>NaN</td>\n",
              "      <td>NaN</td>\n",
              "      <td>NaN</td>\n",
              "      <td>NaN</td>\n",
              "    </tr>\n",
              "  </tbody>\n",
              "</table>\n",
              "<p>32182 rows × 4 columns</p>\n",
              "</div>"
            ],
            "text/plain": [
              "                          Name  ... Employee Annual Salary\n",
              "31532   WOODRIDGE,  RACHENETTE  ...              $58020.00\n",
              "28189          TADEO,  ALITA F  ...              $58020.00\n",
              "26603        SIMPSON,  KAREN E  ...              $58020.00\n",
              "26145  SEPULVEDA CORY,  LORI J  ...              $60780.00\n",
              "25634        SANTIAGO,  NELIDA  ...              $55428.00\n",
              "...                        ...  ...                    ...\n",
              "3454             BURT,  CARL S  ...              $88968.00\n",
              "3138          BROWN,  SHARON L  ...              $81108.00\n",
              "2401          BOLTON,  BRIAN E  ...              $77400.00\n",
              "0              AARON,  ELVIA J  ...              $88965.00\n",
              "32181                      NaN  ...                    NaN\n",
              "\n",
              "[32182 rows x 4 columns]"
            ]
          },
          "metadata": {
            "tags": []
          },
          "execution_count": 17
        }
      ]
    },
    {
      "cell_type": "markdown",
      "metadata": {
        "id": "t29ed9TO0BLy",
        "colab_type": "text"
      },
      "source": [
        "---\n",
        "### **Filtrando**"
      ]
    },
    {
      "cell_type": "code",
      "metadata": {
        "id": "4E2zb42S8KCM",
        "colab_type": "code",
        "outputId": "d22f5f72-f9c2-4d58-9102-d1ef42ea97d5",
        "colab": {
          "base_uri": "https://localhost:8080/",
          "height": 221
        }
      },
      "source": [
        "# Filtrando diretamente uma coluna, obtém-se um DataFrame booleano com a resposta para cada linha\n",
        "filtro = df.Department=='POLICE'\n",
        "filtro"
      ],
      "execution_count": 18,
      "outputs": [
        {
          "output_type": "execute_result",
          "data": {
            "text/plain": [
              "0        False\n",
              "1         True\n",
              "2         True\n",
              "3        False\n",
              "4        False\n",
              "         ...  \n",
              "32177     True\n",
              "32178     True\n",
              "32179     True\n",
              "32180    False\n",
              "32181    False\n",
              "Name: Department, Length: 32182, dtype: bool"
            ]
          },
          "metadata": {
            "tags": []
          },
          "execution_count": 18
        }
      ]
    },
    {
      "cell_type": "code",
      "metadata": {
        "id": "IGPZj2Mtz7xC",
        "colab_type": "code",
        "outputId": "325e431e-2e76-47e0-ec11-14a081aa73fa",
        "colab": {
          "base_uri": "https://localhost:8080/",
          "height": 419
        }
      },
      "source": [
        "# Aplicando esse DataFrame ao original, temos o resultado filtro\n",
        "df[filtro]"
      ],
      "execution_count": 19,
      "outputs": [
        {
          "output_type": "execute_result",
          "data": {
            "text/html": [
              "<div>\n",
              "<style scoped>\n",
              "    .dataframe tbody tr th:only-of-type {\n",
              "        vertical-align: middle;\n",
              "    }\n",
              "\n",
              "    .dataframe tbody tr th {\n",
              "        vertical-align: top;\n",
              "    }\n",
              "\n",
              "    .dataframe thead th {\n",
              "        text-align: right;\n",
              "    }\n",
              "</style>\n",
              "<table border=\"1\" class=\"dataframe\">\n",
              "  <thead>\n",
              "    <tr style=\"text-align: right;\">\n",
              "      <th></th>\n",
              "      <th>Name</th>\n",
              "      <th>Position Title</th>\n",
              "      <th>Department</th>\n",
              "      <th>Employee Annual Salary</th>\n",
              "    </tr>\n",
              "  </thead>\n",
              "  <tbody>\n",
              "    <tr>\n",
              "      <th>1</th>\n",
              "      <td>AARON,  JEFFERY M</td>\n",
              "      <td>POLICE OFFICER</td>\n",
              "      <td>POLICE</td>\n",
              "      <td>$80778.00</td>\n",
              "    </tr>\n",
              "    <tr>\n",
              "      <th>2</th>\n",
              "      <td>AARON,  KARINA</td>\n",
              "      <td>POLICE OFFICER</td>\n",
              "      <td>POLICE</td>\n",
              "      <td>$80778.00</td>\n",
              "    </tr>\n",
              "    <tr>\n",
              "      <th>9</th>\n",
              "      <td>ABBATE,  TERRY M</td>\n",
              "      <td>POLICE OFFICER</td>\n",
              "      <td>POLICE</td>\n",
              "      <td>$86520.00</td>\n",
              "    </tr>\n",
              "    <tr>\n",
              "      <th>11</th>\n",
              "      <td>ABBOTT,  LYNISE M</td>\n",
              "      <td>CLERK III</td>\n",
              "      <td>POLICE</td>\n",
              "      <td>$43920.00</td>\n",
              "    </tr>\n",
              "    <tr>\n",
              "      <th>13</th>\n",
              "      <td>ABDALLAH,  ZAID</td>\n",
              "      <td>POLICE OFFICER</td>\n",
              "      <td>POLICE</td>\n",
              "      <td>$69684.00</td>\n",
              "    </tr>\n",
              "    <tr>\n",
              "      <th>...</th>\n",
              "      <td>...</td>\n",
              "      <td>...</td>\n",
              "      <td>...</td>\n",
              "      <td>...</td>\n",
              "    </tr>\n",
              "    <tr>\n",
              "      <th>32172</th>\n",
              "      <td>ZWIT,  JEFFREY J</td>\n",
              "      <td>POLICE OFFICER</td>\n",
              "      <td>POLICE</td>\n",
              "      <td>$83616.00</td>\n",
              "    </tr>\n",
              "    <tr>\n",
              "      <th>32174</th>\n",
              "      <td>ZYDEK,  BRYAN</td>\n",
              "      <td>POLICE OFFICER</td>\n",
              "      <td>POLICE</td>\n",
              "      <td>$80778.00</td>\n",
              "    </tr>\n",
              "    <tr>\n",
              "      <th>32177</th>\n",
              "      <td>ZYGOWICZ,  PETER J</td>\n",
              "      <td>POLICE OFFICER</td>\n",
              "      <td>POLICE</td>\n",
              "      <td>$86520.00</td>\n",
              "    </tr>\n",
              "    <tr>\n",
              "      <th>32178</th>\n",
              "      <td>ZYMANTAS,  MARK E</td>\n",
              "      <td>POLICE OFFICER</td>\n",
              "      <td>POLICE</td>\n",
              "      <td>$83616.00</td>\n",
              "    </tr>\n",
              "    <tr>\n",
              "      <th>32179</th>\n",
              "      <td>ZYRKOWSKI,  CARLO E</td>\n",
              "      <td>POLICE OFFICER</td>\n",
              "      <td>POLICE</td>\n",
              "      <td>$86520.00</td>\n",
              "    </tr>\n",
              "  </tbody>\n",
              "</table>\n",
              "<p>13570 rows × 4 columns</p>\n",
              "</div>"
            ],
            "text/plain": [
              "                      Name  Position Title Department Employee Annual Salary\n",
              "1        AARON,  JEFFERY M  POLICE OFFICER     POLICE              $80778.00\n",
              "2           AARON,  KARINA  POLICE OFFICER     POLICE              $80778.00\n",
              "9         ABBATE,  TERRY M  POLICE OFFICER     POLICE              $86520.00\n",
              "11       ABBOTT,  LYNISE M       CLERK III     POLICE              $43920.00\n",
              "13         ABDALLAH,  ZAID  POLICE OFFICER     POLICE              $69684.00\n",
              "...                    ...             ...        ...                    ...\n",
              "32172     ZWIT,  JEFFREY J  POLICE OFFICER     POLICE              $83616.00\n",
              "32174        ZYDEK,  BRYAN  POLICE OFFICER     POLICE              $80778.00\n",
              "32177   ZYGOWICZ,  PETER J  POLICE OFFICER     POLICE              $86520.00\n",
              "32178    ZYMANTAS,  MARK E  POLICE OFFICER     POLICE              $83616.00\n",
              "32179  ZYRKOWSKI,  CARLO E  POLICE OFFICER     POLICE              $86520.00\n",
              "\n",
              "[13570 rows x 4 columns]"
            ]
          },
          "metadata": {
            "tags": []
          },
          "execution_count": 19
        }
      ]
    },
    {
      "cell_type": "code",
      "metadata": {
        "id": "o_HVZJwv0gba",
        "colab_type": "code",
        "outputId": "e93b2a71-f7df-47f7-e964-fec5f3c4783d",
        "colab": {
          "base_uri": "https://localhost:8080/",
          "height": 419
        }
      },
      "source": [
        "# Pode-se também passar o filtro diretamente\n",
        "df[df['Position Title']=='POLICE OFFICER']"
      ],
      "execution_count": 20,
      "outputs": [
        {
          "output_type": "execute_result",
          "data": {
            "text/html": [
              "<div>\n",
              "<style scoped>\n",
              "    .dataframe tbody tr th:only-of-type {\n",
              "        vertical-align: middle;\n",
              "    }\n",
              "\n",
              "    .dataframe tbody tr th {\n",
              "        vertical-align: top;\n",
              "    }\n",
              "\n",
              "    .dataframe thead th {\n",
              "        text-align: right;\n",
              "    }\n",
              "</style>\n",
              "<table border=\"1\" class=\"dataframe\">\n",
              "  <thead>\n",
              "    <tr style=\"text-align: right;\">\n",
              "      <th></th>\n",
              "      <th>Name</th>\n",
              "      <th>Position Title</th>\n",
              "      <th>Department</th>\n",
              "      <th>Employee Annual Salary</th>\n",
              "    </tr>\n",
              "  </thead>\n",
              "  <tbody>\n",
              "    <tr>\n",
              "      <th>1</th>\n",
              "      <td>AARON,  JEFFERY M</td>\n",
              "      <td>POLICE OFFICER</td>\n",
              "      <td>POLICE</td>\n",
              "      <td>$80778.00</td>\n",
              "    </tr>\n",
              "    <tr>\n",
              "      <th>2</th>\n",
              "      <td>AARON,  KARINA</td>\n",
              "      <td>POLICE OFFICER</td>\n",
              "      <td>POLICE</td>\n",
              "      <td>$80778.00</td>\n",
              "    </tr>\n",
              "    <tr>\n",
              "      <th>9</th>\n",
              "      <td>ABBATE,  TERRY M</td>\n",
              "      <td>POLICE OFFICER</td>\n",
              "      <td>POLICE</td>\n",
              "      <td>$86520.00</td>\n",
              "    </tr>\n",
              "    <tr>\n",
              "      <th>13</th>\n",
              "      <td>ABDALLAH,  ZAID</td>\n",
              "      <td>POLICE OFFICER</td>\n",
              "      <td>POLICE</td>\n",
              "      <td>$69684.00</td>\n",
              "    </tr>\n",
              "    <tr>\n",
              "      <th>14</th>\n",
              "      <td>ABDELHADI,  ABDALMAHD</td>\n",
              "      <td>POLICE OFFICER</td>\n",
              "      <td>POLICE</td>\n",
              "      <td>$80778.00</td>\n",
              "    </tr>\n",
              "    <tr>\n",
              "      <th>...</th>\n",
              "      <td>...</td>\n",
              "      <td>...</td>\n",
              "      <td>...</td>\n",
              "      <td>...</td>\n",
              "    </tr>\n",
              "    <tr>\n",
              "      <th>32172</th>\n",
              "      <td>ZWIT,  JEFFREY J</td>\n",
              "      <td>POLICE OFFICER</td>\n",
              "      <td>POLICE</td>\n",
              "      <td>$83616.00</td>\n",
              "    </tr>\n",
              "    <tr>\n",
              "      <th>32174</th>\n",
              "      <td>ZYDEK,  BRYAN</td>\n",
              "      <td>POLICE OFFICER</td>\n",
              "      <td>POLICE</td>\n",
              "      <td>$80778.00</td>\n",
              "    </tr>\n",
              "    <tr>\n",
              "      <th>32177</th>\n",
              "      <td>ZYGOWICZ,  PETER J</td>\n",
              "      <td>POLICE OFFICER</td>\n",
              "      <td>POLICE</td>\n",
              "      <td>$86520.00</td>\n",
              "    </tr>\n",
              "    <tr>\n",
              "      <th>32178</th>\n",
              "      <td>ZYMANTAS,  MARK E</td>\n",
              "      <td>POLICE OFFICER</td>\n",
              "      <td>POLICE</td>\n",
              "      <td>$83616.00</td>\n",
              "    </tr>\n",
              "    <tr>\n",
              "      <th>32179</th>\n",
              "      <td>ZYRKOWSKI,  CARLO E</td>\n",
              "      <td>POLICE OFFICER</td>\n",
              "      <td>POLICE</td>\n",
              "      <td>$86520.00</td>\n",
              "    </tr>\n",
              "  </tbody>\n",
              "</table>\n",
              "<p>9489 rows × 4 columns</p>\n",
              "</div>"
            ],
            "text/plain": [
              "                        Name  Position Title Department Employee Annual Salary\n",
              "1          AARON,  JEFFERY M  POLICE OFFICER     POLICE              $80778.00\n",
              "2             AARON,  KARINA  POLICE OFFICER     POLICE              $80778.00\n",
              "9           ABBATE,  TERRY M  POLICE OFFICER     POLICE              $86520.00\n",
              "13           ABDALLAH,  ZAID  POLICE OFFICER     POLICE              $69684.00\n",
              "14     ABDELHADI,  ABDALMAHD  POLICE OFFICER     POLICE              $80778.00\n",
              "...                      ...             ...        ...                    ...\n",
              "32172       ZWIT,  JEFFREY J  POLICE OFFICER     POLICE              $83616.00\n",
              "32174          ZYDEK,  BRYAN  POLICE OFFICER     POLICE              $80778.00\n",
              "32177     ZYGOWICZ,  PETER J  POLICE OFFICER     POLICE              $86520.00\n",
              "32178      ZYMANTAS,  MARK E  POLICE OFFICER     POLICE              $83616.00\n",
              "32179    ZYRKOWSKI,  CARLO E  POLICE OFFICER     POLICE              $86520.00\n",
              "\n",
              "[9489 rows x 4 columns]"
            ]
          },
          "metadata": {
            "tags": []
          },
          "execution_count": 20
        }
      ]
    },
    {
      "cell_type": "code",
      "metadata": {
        "id": "jtc7Ct9Nx0cY",
        "colab_type": "code",
        "outputId": "4f451102-bd32-4361-8400-0c7f47abbd87",
        "colab": {
          "base_uri": "https://localhost:8080/",
          "height": 419
        }
      },
      "source": [
        "# Múltiplos filtros\n",
        "df[(df['Department']=='POLICE') & (df['Position Title']!='POLICE OFFICER')]"
      ],
      "execution_count": 21,
      "outputs": [
        {
          "output_type": "execute_result",
          "data": {
            "text/html": [
              "<div>\n",
              "<style scoped>\n",
              "    .dataframe tbody tr th:only-of-type {\n",
              "        vertical-align: middle;\n",
              "    }\n",
              "\n",
              "    .dataframe tbody tr th {\n",
              "        vertical-align: top;\n",
              "    }\n",
              "\n",
              "    .dataframe thead th {\n",
              "        text-align: right;\n",
              "    }\n",
              "</style>\n",
              "<table border=\"1\" class=\"dataframe\">\n",
              "  <thead>\n",
              "    <tr style=\"text-align: right;\">\n",
              "      <th></th>\n",
              "      <th>Name</th>\n",
              "      <th>Position Title</th>\n",
              "      <th>Department</th>\n",
              "      <th>Employee Annual Salary</th>\n",
              "    </tr>\n",
              "  </thead>\n",
              "  <tbody>\n",
              "    <tr>\n",
              "      <th>11</th>\n",
              "      <td>ABBOTT,  LYNISE M</td>\n",
              "      <td>CLERK III</td>\n",
              "      <td>POLICE</td>\n",
              "      <td>$43920.00</td>\n",
              "    </tr>\n",
              "    <tr>\n",
              "      <th>21</th>\n",
              "      <td>ABDULLAH,  LAKENYA N</td>\n",
              "      <td>CROSSING GUARD</td>\n",
              "      <td>POLICE</td>\n",
              "      <td>$16692.00</td>\n",
              "    </tr>\n",
              "    <tr>\n",
              "      <th>51</th>\n",
              "      <td>ABUZANAT,  ABDALLA H</td>\n",
              "      <td>POLICE OFFICER (ASSIGNED AS EVIDENCE TECHNICIAN)</td>\n",
              "      <td>POLICE</td>\n",
              "      <td>$90846.00</td>\n",
              "    </tr>\n",
              "    <tr>\n",
              "      <th>74</th>\n",
              "      <td>ACEVEDO,  MARCO A</td>\n",
              "      <td>POLICE OFFICER (ASSIGNED AS DETECTIVE)</td>\n",
              "      <td>POLICE</td>\n",
              "      <td>$93648.00</td>\n",
              "    </tr>\n",
              "    <tr>\n",
              "      <th>86</th>\n",
              "      <td>ACKLIN,  QIANA D</td>\n",
              "      <td>CROSSING GUARD</td>\n",
              "      <td>POLICE</td>\n",
              "      <td>$16692.00</td>\n",
              "    </tr>\n",
              "    <tr>\n",
              "      <th>...</th>\n",
              "      <td>...</td>\n",
              "      <td>...</td>\n",
              "      <td>...</td>\n",
              "      <td>...</td>\n",
              "    </tr>\n",
              "    <tr>\n",
              "      <th>32076</th>\n",
              "      <td>ZIELINSKI,  TECLA</td>\n",
              "      <td>CROSSING GUARD</td>\n",
              "      <td>POLICE</td>\n",
              "      <td>$22131.20</td>\n",
              "    </tr>\n",
              "    <tr>\n",
              "      <th>32115</th>\n",
              "      <td>ZODO,  NICOLA E</td>\n",
              "      <td>SERGEANT</td>\n",
              "      <td>POLICE</td>\n",
              "      <td>$103590.00</td>\n",
              "    </tr>\n",
              "    <tr>\n",
              "      <th>32134</th>\n",
              "      <td>ZUBER,  MICHAEL R</td>\n",
              "      <td>POLICE OFFICER (ASSIGNED AS DETECTIVE)</td>\n",
              "      <td>POLICE</td>\n",
              "      <td>$97044.00</td>\n",
              "    </tr>\n",
              "    <tr>\n",
              "      <th>32161</th>\n",
              "      <td>ZURAWSKI,  CAROL A</td>\n",
              "      <td>CROSSING GUARD</td>\n",
              "      <td>POLICE</td>\n",
              "      <td>$21080.80</td>\n",
              "    </tr>\n",
              "    <tr>\n",
              "      <th>32169</th>\n",
              "      <td>ZWARYCZ MANN,  IRENE A</td>\n",
              "      <td>CROSSING GUARD</td>\n",
              "      <td>POLICE</td>\n",
              "      <td>$16692.00</td>\n",
              "    </tr>\n",
              "  </tbody>\n",
              "</table>\n",
              "<p>4081 rows × 4 columns</p>\n",
              "</div>"
            ],
            "text/plain": [
              "                         Name  ... Employee Annual Salary\n",
              "11          ABBOTT,  LYNISE M  ...              $43920.00\n",
              "21       ABDULLAH,  LAKENYA N  ...              $16692.00\n",
              "51       ABUZANAT,  ABDALLA H  ...              $90846.00\n",
              "74          ACEVEDO,  MARCO A  ...              $93648.00\n",
              "86           ACKLIN,  QIANA D  ...              $16692.00\n",
              "...                       ...  ...                    ...\n",
              "32076       ZIELINSKI,  TECLA  ...              $22131.20\n",
              "32115         ZODO,  NICOLA E  ...             $103590.00\n",
              "32134       ZUBER,  MICHAEL R  ...              $97044.00\n",
              "32161      ZURAWSKI,  CAROL A  ...              $21080.80\n",
              "32169  ZWARYCZ MANN,  IRENE A  ...              $16692.00\n",
              "\n",
              "[4081 rows x 4 columns]"
            ]
          },
          "metadata": {
            "tags": []
          },
          "execution_count": 21
        }
      ]
    },
    {
      "cell_type": "code",
      "metadata": {
        "id": "afitmQil6njs",
        "colab_type": "code",
        "outputId": "0db7935f-5758-4096-fd6b-6c5a8685a9e0",
        "colab": {
          "base_uri": "https://localhost:8080/",
          "height": 419
        }
      },
      "source": [
        "# Usando filtro externo: .isin()\n",
        "filtro = ['SERGEANT','CROSSING GUARD','CLERK III']\n",
        "df[df['Position Title'].isin(filtro)]"
      ],
      "execution_count": 22,
      "outputs": [
        {
          "output_type": "execute_result",
          "data": {
            "text/html": [
              "<div>\n",
              "<style scoped>\n",
              "    .dataframe tbody tr th:only-of-type {\n",
              "        vertical-align: middle;\n",
              "    }\n",
              "\n",
              "    .dataframe tbody tr th {\n",
              "        vertical-align: top;\n",
              "    }\n",
              "\n",
              "    .dataframe thead th {\n",
              "        text-align: right;\n",
              "    }\n",
              "</style>\n",
              "<table border=\"1\" class=\"dataframe\">\n",
              "  <thead>\n",
              "    <tr style=\"text-align: right;\">\n",
              "      <th></th>\n",
              "      <th>Name</th>\n",
              "      <th>Position Title</th>\n",
              "      <th>Department</th>\n",
              "      <th>Employee Annual Salary</th>\n",
              "    </tr>\n",
              "  </thead>\n",
              "  <tbody>\n",
              "    <tr>\n",
              "      <th>11</th>\n",
              "      <td>ABBOTT,  LYNISE M</td>\n",
              "      <td>CLERK III</td>\n",
              "      <td>POLICE</td>\n",
              "      <td>$43920.00</td>\n",
              "    </tr>\n",
              "    <tr>\n",
              "      <th>21</th>\n",
              "      <td>ABDULLAH,  LAKENYA N</td>\n",
              "      <td>CROSSING GUARD</td>\n",
              "      <td>POLICE</td>\n",
              "      <td>$16692.00</td>\n",
              "    </tr>\n",
              "    <tr>\n",
              "      <th>86</th>\n",
              "      <td>ACKLIN,  QIANA D</td>\n",
              "      <td>CROSSING GUARD</td>\n",
              "      <td>POLICE</td>\n",
              "      <td>$16692.00</td>\n",
              "    </tr>\n",
              "    <tr>\n",
              "      <th>113</th>\n",
              "      <td>ADAMS EL,  WARREN</td>\n",
              "      <td>CROSSING GUARD</td>\n",
              "      <td>POLICE</td>\n",
              "      <td>$18324.80</td>\n",
              "    </tr>\n",
              "    <tr>\n",
              "      <th>156</th>\n",
              "      <td>ADE,  JAMES P</td>\n",
              "      <td>SERGEANT</td>\n",
              "      <td>POLICE</td>\n",
              "      <td>$110370.00</td>\n",
              "    </tr>\n",
              "    <tr>\n",
              "      <th>...</th>\n",
              "      <td>...</td>\n",
              "      <td>...</td>\n",
              "      <td>...</td>\n",
              "      <td>...</td>\n",
              "    </tr>\n",
              "    <tr>\n",
              "      <th>32065</th>\n",
              "      <td>ZIC SCHLOMAS,  VIRGINIA M</td>\n",
              "      <td>SERGEANT</td>\n",
              "      <td>POLICE</td>\n",
              "      <td>$110370.00</td>\n",
              "    </tr>\n",
              "    <tr>\n",
              "      <th>32076</th>\n",
              "      <td>ZIELINSKI,  TECLA</td>\n",
              "      <td>CROSSING GUARD</td>\n",
              "      <td>POLICE</td>\n",
              "      <td>$22131.20</td>\n",
              "    </tr>\n",
              "    <tr>\n",
              "      <th>32115</th>\n",
              "      <td>ZODO,  NICOLA E</td>\n",
              "      <td>SERGEANT</td>\n",
              "      <td>POLICE</td>\n",
              "      <td>$103590.00</td>\n",
              "    </tr>\n",
              "    <tr>\n",
              "      <th>32161</th>\n",
              "      <td>ZURAWSKI,  CAROL A</td>\n",
              "      <td>CROSSING GUARD</td>\n",
              "      <td>POLICE</td>\n",
              "      <td>$21080.80</td>\n",
              "    </tr>\n",
              "    <tr>\n",
              "      <th>32169</th>\n",
              "      <td>ZWARYCZ MANN,  IRENE A</td>\n",
              "      <td>CROSSING GUARD</td>\n",
              "      <td>POLICE</td>\n",
              "      <td>$16692.00</td>\n",
              "    </tr>\n",
              "  </tbody>\n",
              "</table>\n",
              "<p>1832 rows × 4 columns</p>\n",
              "</div>"
            ],
            "text/plain": [
              "                            Name  ... Employee Annual Salary\n",
              "11             ABBOTT,  LYNISE M  ...              $43920.00\n",
              "21          ABDULLAH,  LAKENYA N  ...              $16692.00\n",
              "86              ACKLIN,  QIANA D  ...              $16692.00\n",
              "113            ADAMS EL,  WARREN  ...              $18324.80\n",
              "156                ADE,  JAMES P  ...             $110370.00\n",
              "...                          ...  ...                    ...\n",
              "32065  ZIC SCHLOMAS,  VIRGINIA M  ...             $110370.00\n",
              "32076          ZIELINSKI,  TECLA  ...              $22131.20\n",
              "32115            ZODO,  NICOLA E  ...             $103590.00\n",
              "32161         ZURAWSKI,  CAROL A  ...              $21080.80\n",
              "32169     ZWARYCZ MANN,  IRENE A  ...              $16692.00\n",
              "\n",
              "[1832 rows x 4 columns]"
            ]
          },
          "metadata": {
            "tags": []
          },
          "execution_count": 22
        }
      ]
    },
    {
      "cell_type": "markdown",
      "metadata": {
        "id": "6FFB6uCBAWbv",
        "colab_type": "text"
      },
      "source": [
        "---\n",
        "### **Adicionando colunas**"
      ]
    },
    {
      "cell_type": "code",
      "metadata": {
        "id": "BnP7cKpZ7KBz",
        "colab_type": "code",
        "outputId": "bf961c72-372b-4afe-b8dc-ab7aef1230ca",
        "colab": {
          "base_uri": "https://localhost:8080/",
          "height": 204
        }
      },
      "source": [
        "col = df['Employee Annual Salary'].str.replace('$','').astype(float) #converte em número\n",
        "df['Annual Salary'] = col\n",
        "df.head()"
      ],
      "execution_count": 23,
      "outputs": [
        {
          "output_type": "execute_result",
          "data": {
            "text/html": [
              "<div>\n",
              "<style scoped>\n",
              "    .dataframe tbody tr th:only-of-type {\n",
              "        vertical-align: middle;\n",
              "    }\n",
              "\n",
              "    .dataframe tbody tr th {\n",
              "        vertical-align: top;\n",
              "    }\n",
              "\n",
              "    .dataframe thead th {\n",
              "        text-align: right;\n",
              "    }\n",
              "</style>\n",
              "<table border=\"1\" class=\"dataframe\">\n",
              "  <thead>\n",
              "    <tr style=\"text-align: right;\">\n",
              "      <th></th>\n",
              "      <th>Name</th>\n",
              "      <th>Position Title</th>\n",
              "      <th>Department</th>\n",
              "      <th>Employee Annual Salary</th>\n",
              "      <th>Annual Salary</th>\n",
              "    </tr>\n",
              "  </thead>\n",
              "  <tbody>\n",
              "    <tr>\n",
              "      <th>0</th>\n",
              "      <td>AARON,  ELVIA J</td>\n",
              "      <td>WATER RATE TAKER</td>\n",
              "      <td>WATER MGMNT</td>\n",
              "      <td>$88965.00</td>\n",
              "      <td>88965.0</td>\n",
              "    </tr>\n",
              "    <tr>\n",
              "      <th>1</th>\n",
              "      <td>AARON,  JEFFERY M</td>\n",
              "      <td>POLICE OFFICER</td>\n",
              "      <td>POLICE</td>\n",
              "      <td>$80778.00</td>\n",
              "      <td>80778.0</td>\n",
              "    </tr>\n",
              "    <tr>\n",
              "      <th>2</th>\n",
              "      <td>AARON,  KARINA</td>\n",
              "      <td>POLICE OFFICER</td>\n",
              "      <td>POLICE</td>\n",
              "      <td>$80778.00</td>\n",
              "      <td>80778.0</td>\n",
              "    </tr>\n",
              "    <tr>\n",
              "      <th>3</th>\n",
              "      <td>AARON,  KIMBERLEI R</td>\n",
              "      <td>CHIEF CONTRACT EXPEDITER</td>\n",
              "      <td>GENERAL SERVICES</td>\n",
              "      <td>$84780.00</td>\n",
              "      <td>84780.0</td>\n",
              "    </tr>\n",
              "    <tr>\n",
              "      <th>4</th>\n",
              "      <td>ABAD JR,  VICENTE M</td>\n",
              "      <td>CIVIL ENGINEER IV</td>\n",
              "      <td>WATER MGMNT</td>\n",
              "      <td>$104736.00</td>\n",
              "      <td>104736.0</td>\n",
              "    </tr>\n",
              "  </tbody>\n",
              "</table>\n",
              "</div>"
            ],
            "text/plain": [
              "                  Name  ... Annual Salary\n",
              "0      AARON,  ELVIA J  ...       88965.0\n",
              "1    AARON,  JEFFERY M  ...       80778.0\n",
              "2       AARON,  KARINA  ...       80778.0\n",
              "3  AARON,  KIMBERLEI R  ...       84780.0\n",
              "4  ABAD JR,  VICENTE M  ...      104736.0\n",
              "\n",
              "[5 rows x 5 columns]"
            ]
          },
          "metadata": {
            "tags": []
          },
          "execution_count": 23
        }
      ]
    },
    {
      "cell_type": "code",
      "metadata": {
        "id": "E65KSVMZDhtz",
        "colab_type": "code",
        "outputId": "d1b0aec4-6bcd-41c8-a29b-1d64da49dfed",
        "colab": {
          "base_uri": "https://localhost:8080/",
          "height": 204
        }
      },
      "source": [
        "df['Monthly Salary'] = round(df['Annual Salary']/12, 2)\n",
        "df['Daily Salary'] = round(df['Annual Salary']/365, 2)\n",
        "df['test'] = 12345\n",
        "df.head()"
      ],
      "execution_count": 24,
      "outputs": [
        {
          "output_type": "execute_result",
          "data": {
            "text/html": [
              "<div>\n",
              "<style scoped>\n",
              "    .dataframe tbody tr th:only-of-type {\n",
              "        vertical-align: middle;\n",
              "    }\n",
              "\n",
              "    .dataframe tbody tr th {\n",
              "        vertical-align: top;\n",
              "    }\n",
              "\n",
              "    .dataframe thead th {\n",
              "        text-align: right;\n",
              "    }\n",
              "</style>\n",
              "<table border=\"1\" class=\"dataframe\">\n",
              "  <thead>\n",
              "    <tr style=\"text-align: right;\">\n",
              "      <th></th>\n",
              "      <th>Name</th>\n",
              "      <th>Position Title</th>\n",
              "      <th>Department</th>\n",
              "      <th>Employee Annual Salary</th>\n",
              "      <th>Annual Salary</th>\n",
              "      <th>Monthly Salary</th>\n",
              "      <th>Daily Salary</th>\n",
              "      <th>test</th>\n",
              "    </tr>\n",
              "  </thead>\n",
              "  <tbody>\n",
              "    <tr>\n",
              "      <th>0</th>\n",
              "      <td>AARON,  ELVIA J</td>\n",
              "      <td>WATER RATE TAKER</td>\n",
              "      <td>WATER MGMNT</td>\n",
              "      <td>$88965.00</td>\n",
              "      <td>88965.0</td>\n",
              "      <td>7413.75</td>\n",
              "      <td>243.74</td>\n",
              "      <td>12345</td>\n",
              "    </tr>\n",
              "    <tr>\n",
              "      <th>1</th>\n",
              "      <td>AARON,  JEFFERY M</td>\n",
              "      <td>POLICE OFFICER</td>\n",
              "      <td>POLICE</td>\n",
              "      <td>$80778.00</td>\n",
              "      <td>80778.0</td>\n",
              "      <td>6731.50</td>\n",
              "      <td>221.31</td>\n",
              "      <td>12345</td>\n",
              "    </tr>\n",
              "    <tr>\n",
              "      <th>2</th>\n",
              "      <td>AARON,  KARINA</td>\n",
              "      <td>POLICE OFFICER</td>\n",
              "      <td>POLICE</td>\n",
              "      <td>$80778.00</td>\n",
              "      <td>80778.0</td>\n",
              "      <td>6731.50</td>\n",
              "      <td>221.31</td>\n",
              "      <td>12345</td>\n",
              "    </tr>\n",
              "    <tr>\n",
              "      <th>3</th>\n",
              "      <td>AARON,  KIMBERLEI R</td>\n",
              "      <td>CHIEF CONTRACT EXPEDITER</td>\n",
              "      <td>GENERAL SERVICES</td>\n",
              "      <td>$84780.00</td>\n",
              "      <td>84780.0</td>\n",
              "      <td>7065.00</td>\n",
              "      <td>232.27</td>\n",
              "      <td>12345</td>\n",
              "    </tr>\n",
              "    <tr>\n",
              "      <th>4</th>\n",
              "      <td>ABAD JR,  VICENTE M</td>\n",
              "      <td>CIVIL ENGINEER IV</td>\n",
              "      <td>WATER MGMNT</td>\n",
              "      <td>$104736.00</td>\n",
              "      <td>104736.0</td>\n",
              "      <td>8728.00</td>\n",
              "      <td>286.95</td>\n",
              "      <td>12345</td>\n",
              "    </tr>\n",
              "  </tbody>\n",
              "</table>\n",
              "</div>"
            ],
            "text/plain": [
              "                  Name            Position Title  ... Daily Salary   test\n",
              "0      AARON,  ELVIA J          WATER RATE TAKER  ...       243.74  12345\n",
              "1    AARON,  JEFFERY M            POLICE OFFICER  ...       221.31  12345\n",
              "2       AARON,  KARINA            POLICE OFFICER  ...       221.31  12345\n",
              "3  AARON,  KIMBERLEI R  CHIEF CONTRACT EXPEDITER  ...       232.27  12345\n",
              "4  ABAD JR,  VICENTE M         CIVIL ENGINEER IV  ...       286.95  12345\n",
              "\n",
              "[5 rows x 8 columns]"
            ]
          },
          "metadata": {
            "tags": []
          },
          "execution_count": 24
        }
      ]
    },
    {
      "cell_type": "markdown",
      "metadata": {
        "id": "1PuE3wMSHKQL",
        "colab_type": "text"
      },
      "source": [
        "### **Removendo colunas**"
      ]
    },
    {
      "cell_type": "code",
      "metadata": {
        "id": "7mAVVp9eGY9g",
        "colab_type": "code",
        "outputId": "9e90fa3f-fa02-4969-e341-7ed2b83e7611",
        "colab": {
          "base_uri": "https://localhost:8080/",
          "height": 204
        }
      },
      "source": [
        "# axis=0 (linhas)\n",
        "# axis=1 (colunas)\n",
        "# inplace=True (aplica mudança no DataFrame original)\n",
        "df.drop(['Employee Annual Salary','test'], axis=1, inplace=True)\n",
        "df.head()"
      ],
      "execution_count": 25,
      "outputs": [
        {
          "output_type": "execute_result",
          "data": {
            "text/html": [
              "<div>\n",
              "<style scoped>\n",
              "    .dataframe tbody tr th:only-of-type {\n",
              "        vertical-align: middle;\n",
              "    }\n",
              "\n",
              "    .dataframe tbody tr th {\n",
              "        vertical-align: top;\n",
              "    }\n",
              "\n",
              "    .dataframe thead th {\n",
              "        text-align: right;\n",
              "    }\n",
              "</style>\n",
              "<table border=\"1\" class=\"dataframe\">\n",
              "  <thead>\n",
              "    <tr style=\"text-align: right;\">\n",
              "      <th></th>\n",
              "      <th>Name</th>\n",
              "      <th>Position Title</th>\n",
              "      <th>Department</th>\n",
              "      <th>Annual Salary</th>\n",
              "      <th>Monthly Salary</th>\n",
              "      <th>Daily Salary</th>\n",
              "    </tr>\n",
              "  </thead>\n",
              "  <tbody>\n",
              "    <tr>\n",
              "      <th>0</th>\n",
              "      <td>AARON,  ELVIA J</td>\n",
              "      <td>WATER RATE TAKER</td>\n",
              "      <td>WATER MGMNT</td>\n",
              "      <td>88965.0</td>\n",
              "      <td>7413.75</td>\n",
              "      <td>243.74</td>\n",
              "    </tr>\n",
              "    <tr>\n",
              "      <th>1</th>\n",
              "      <td>AARON,  JEFFERY M</td>\n",
              "      <td>POLICE OFFICER</td>\n",
              "      <td>POLICE</td>\n",
              "      <td>80778.0</td>\n",
              "      <td>6731.50</td>\n",
              "      <td>221.31</td>\n",
              "    </tr>\n",
              "    <tr>\n",
              "      <th>2</th>\n",
              "      <td>AARON,  KARINA</td>\n",
              "      <td>POLICE OFFICER</td>\n",
              "      <td>POLICE</td>\n",
              "      <td>80778.0</td>\n",
              "      <td>6731.50</td>\n",
              "      <td>221.31</td>\n",
              "    </tr>\n",
              "    <tr>\n",
              "      <th>3</th>\n",
              "      <td>AARON,  KIMBERLEI R</td>\n",
              "      <td>CHIEF CONTRACT EXPEDITER</td>\n",
              "      <td>GENERAL SERVICES</td>\n",
              "      <td>84780.0</td>\n",
              "      <td>7065.00</td>\n",
              "      <td>232.27</td>\n",
              "    </tr>\n",
              "    <tr>\n",
              "      <th>4</th>\n",
              "      <td>ABAD JR,  VICENTE M</td>\n",
              "      <td>CIVIL ENGINEER IV</td>\n",
              "      <td>WATER MGMNT</td>\n",
              "      <td>104736.0</td>\n",
              "      <td>8728.00</td>\n",
              "      <td>286.95</td>\n",
              "    </tr>\n",
              "  </tbody>\n",
              "</table>\n",
              "</div>"
            ],
            "text/plain": [
              "                  Name            Position Title  ... Monthly Salary  Daily Salary\n",
              "0      AARON,  ELVIA J          WATER RATE TAKER  ...        7413.75        243.74\n",
              "1    AARON,  JEFFERY M            POLICE OFFICER  ...        6731.50        221.31\n",
              "2       AARON,  KARINA            POLICE OFFICER  ...        6731.50        221.31\n",
              "3  AARON,  KIMBERLEI R  CHIEF CONTRACT EXPEDITER  ...        7065.00        232.27\n",
              "4  ABAD JR,  VICENTE M         CIVIL ENGINEER IV  ...        8728.00        286.95\n",
              "\n",
              "[5 rows x 6 columns]"
            ]
          },
          "metadata": {
            "tags": []
          },
          "execution_count": 25
        }
      ]
    },
    {
      "cell_type": "markdown",
      "metadata": {
        "id": "WVZpQc--IlMf",
        "colab_type": "text"
      },
      "source": [
        "### **Renomeando colunas**"
      ]
    },
    {
      "cell_type": "code",
      "metadata": {
        "id": "kC5snXXfHlTH",
        "colab_type": "code",
        "outputId": "cfa55b55-babe-4c8d-cb51-ea4b2aa3ac61",
        "colab": {
          "base_uri": "https://localhost:8080/",
          "height": 204
        }
      },
      "source": [
        "df.rename(columns={\"Name\": \"Full Name\"}, inplace=True) #Serve para múltiplas colunas\n",
        "df.head()"
      ],
      "execution_count": 26,
      "outputs": [
        {
          "output_type": "execute_result",
          "data": {
            "text/html": [
              "<div>\n",
              "<style scoped>\n",
              "    .dataframe tbody tr th:only-of-type {\n",
              "        vertical-align: middle;\n",
              "    }\n",
              "\n",
              "    .dataframe tbody tr th {\n",
              "        vertical-align: top;\n",
              "    }\n",
              "\n",
              "    .dataframe thead th {\n",
              "        text-align: right;\n",
              "    }\n",
              "</style>\n",
              "<table border=\"1\" class=\"dataframe\">\n",
              "  <thead>\n",
              "    <tr style=\"text-align: right;\">\n",
              "      <th></th>\n",
              "      <th>Full Name</th>\n",
              "      <th>Position Title</th>\n",
              "      <th>Department</th>\n",
              "      <th>Annual Salary</th>\n",
              "      <th>Monthly Salary</th>\n",
              "      <th>Daily Salary</th>\n",
              "    </tr>\n",
              "  </thead>\n",
              "  <tbody>\n",
              "    <tr>\n",
              "      <th>0</th>\n",
              "      <td>AARON,  ELVIA J</td>\n",
              "      <td>WATER RATE TAKER</td>\n",
              "      <td>WATER MGMNT</td>\n",
              "      <td>88965.0</td>\n",
              "      <td>7413.75</td>\n",
              "      <td>243.74</td>\n",
              "    </tr>\n",
              "    <tr>\n",
              "      <th>1</th>\n",
              "      <td>AARON,  JEFFERY M</td>\n",
              "      <td>POLICE OFFICER</td>\n",
              "      <td>POLICE</td>\n",
              "      <td>80778.0</td>\n",
              "      <td>6731.50</td>\n",
              "      <td>221.31</td>\n",
              "    </tr>\n",
              "    <tr>\n",
              "      <th>2</th>\n",
              "      <td>AARON,  KARINA</td>\n",
              "      <td>POLICE OFFICER</td>\n",
              "      <td>POLICE</td>\n",
              "      <td>80778.0</td>\n",
              "      <td>6731.50</td>\n",
              "      <td>221.31</td>\n",
              "    </tr>\n",
              "    <tr>\n",
              "      <th>3</th>\n",
              "      <td>AARON,  KIMBERLEI R</td>\n",
              "      <td>CHIEF CONTRACT EXPEDITER</td>\n",
              "      <td>GENERAL SERVICES</td>\n",
              "      <td>84780.0</td>\n",
              "      <td>7065.00</td>\n",
              "      <td>232.27</td>\n",
              "    </tr>\n",
              "    <tr>\n",
              "      <th>4</th>\n",
              "      <td>ABAD JR,  VICENTE M</td>\n",
              "      <td>CIVIL ENGINEER IV</td>\n",
              "      <td>WATER MGMNT</td>\n",
              "      <td>104736.0</td>\n",
              "      <td>8728.00</td>\n",
              "      <td>286.95</td>\n",
              "    </tr>\n",
              "  </tbody>\n",
              "</table>\n",
              "</div>"
            ],
            "text/plain": [
              "             Full Name            Position Title  ... Monthly Salary  Daily Salary\n",
              "0      AARON,  ELVIA J          WATER RATE TAKER  ...        7413.75        243.74\n",
              "1    AARON,  JEFFERY M            POLICE OFFICER  ...        6731.50        221.31\n",
              "2       AARON,  KARINA            POLICE OFFICER  ...        6731.50        221.31\n",
              "3  AARON,  KIMBERLEI R  CHIEF CONTRACT EXPEDITER  ...        7065.00        232.27\n",
              "4  ABAD JR,  VICENTE M         CIVIL ENGINEER IV  ...        8728.00        286.95\n",
              "\n",
              "[5 rows x 6 columns]"
            ]
          },
          "metadata": {
            "tags": []
          },
          "execution_count": 26
        }
      ]
    },
    {
      "cell_type": "markdown",
      "metadata": {
        "id": "6rQFmoSMNlQ3",
        "colab_type": "text"
      },
      "source": [
        "### **Mostrando colunas específicas na ordem desejada**"
      ]
    },
    {
      "cell_type": "code",
      "metadata": {
        "id": "IKfSoNboNo6n",
        "colab_type": "code",
        "outputId": "3e661956-d229-4364-d7c0-b4bf9b92e4be",
        "colab": {
          "base_uri": "https://localhost:8080/",
          "height": 419
        }
      },
      "source": [
        "df[['Department','Full Name']]"
      ],
      "execution_count": 27,
      "outputs": [
        {
          "output_type": "execute_result",
          "data": {
            "text/html": [
              "<div>\n",
              "<style scoped>\n",
              "    .dataframe tbody tr th:only-of-type {\n",
              "        vertical-align: middle;\n",
              "    }\n",
              "\n",
              "    .dataframe tbody tr th {\n",
              "        vertical-align: top;\n",
              "    }\n",
              "\n",
              "    .dataframe thead th {\n",
              "        text-align: right;\n",
              "    }\n",
              "</style>\n",
              "<table border=\"1\" class=\"dataframe\">\n",
              "  <thead>\n",
              "    <tr style=\"text-align: right;\">\n",
              "      <th></th>\n",
              "      <th>Department</th>\n",
              "      <th>Full Name</th>\n",
              "    </tr>\n",
              "  </thead>\n",
              "  <tbody>\n",
              "    <tr>\n",
              "      <th>0</th>\n",
              "      <td>WATER MGMNT</td>\n",
              "      <td>AARON,  ELVIA J</td>\n",
              "    </tr>\n",
              "    <tr>\n",
              "      <th>1</th>\n",
              "      <td>POLICE</td>\n",
              "      <td>AARON,  JEFFERY M</td>\n",
              "    </tr>\n",
              "    <tr>\n",
              "      <th>2</th>\n",
              "      <td>POLICE</td>\n",
              "      <td>AARON,  KARINA</td>\n",
              "    </tr>\n",
              "    <tr>\n",
              "      <th>3</th>\n",
              "      <td>GENERAL SERVICES</td>\n",
              "      <td>AARON,  KIMBERLEI R</td>\n",
              "    </tr>\n",
              "    <tr>\n",
              "      <th>4</th>\n",
              "      <td>WATER MGMNT</td>\n",
              "      <td>ABAD JR,  VICENTE M</td>\n",
              "    </tr>\n",
              "    <tr>\n",
              "      <th>...</th>\n",
              "      <td>...</td>\n",
              "      <td>...</td>\n",
              "    </tr>\n",
              "    <tr>\n",
              "      <th>32177</th>\n",
              "      <td>POLICE</td>\n",
              "      <td>ZYGOWICZ,  PETER J</td>\n",
              "    </tr>\n",
              "    <tr>\n",
              "      <th>32178</th>\n",
              "      <td>POLICE</td>\n",
              "      <td>ZYMANTAS,  MARK E</td>\n",
              "    </tr>\n",
              "    <tr>\n",
              "      <th>32179</th>\n",
              "      <td>POLICE</td>\n",
              "      <td>ZYRKOWSKI,  CARLO E</td>\n",
              "    </tr>\n",
              "    <tr>\n",
              "      <th>32180</th>\n",
              "      <td>DoIT</td>\n",
              "      <td>ZYSKOWSKI,  DARIUSZ</td>\n",
              "    </tr>\n",
              "    <tr>\n",
              "      <th>32181</th>\n",
              "      <td>NaN</td>\n",
              "      <td>NaN</td>\n",
              "    </tr>\n",
              "  </tbody>\n",
              "</table>\n",
              "<p>32182 rows × 2 columns</p>\n",
              "</div>"
            ],
            "text/plain": [
              "             Department            Full Name\n",
              "0           WATER MGMNT      AARON,  ELVIA J\n",
              "1                POLICE    AARON,  JEFFERY M\n",
              "2                POLICE       AARON,  KARINA\n",
              "3      GENERAL SERVICES  AARON,  KIMBERLEI R\n",
              "4           WATER MGMNT  ABAD JR,  VICENTE M\n",
              "...                 ...                  ...\n",
              "32177            POLICE   ZYGOWICZ,  PETER J\n",
              "32178            POLICE    ZYMANTAS,  MARK E\n",
              "32179            POLICE  ZYRKOWSKI,  CARLO E\n",
              "32180              DoIT  ZYSKOWSKI,  DARIUSZ\n",
              "32181               NaN                  NaN\n",
              "\n",
              "[32182 rows x 2 columns]"
            ]
          },
          "metadata": {
            "tags": []
          },
          "execution_count": 27
        }
      ]
    },
    {
      "cell_type": "markdown",
      "metadata": {
        "id": "KJ0atD3Wthvy",
        "colab_type": "text"
      },
      "source": [
        "---\n",
        "### **Salvando um DataFrame (CSV)**"
      ]
    },
    {
      "cell_type": "code",
      "metadata": {
        "id": "Qu2DysGztiCK",
        "colab_type": "code",
        "colab": {}
      },
      "source": [
        "df.to_csv('../content/drive/My Drive/Temp/salarios2.csv', index=False, encoding='utf-8')"
      ],
      "execution_count": 0,
      "outputs": []
    },
    {
      "cell_type": "markdown",
      "metadata": {
        "id": "sZqt8gAvJ2Qa",
        "colab_type": "text"
      },
      "source": [
        "---\n",
        "### **Gerando um subconjunto (subset)**\n",
        "Listar os funcionários do Departamento de Polícia com salário anual acima de 180 mil.\n",
        "\n",
        "Mostrar: nome, cargo e salário anual(ordenado pelo maior valor)."
      ]
    },
    {
      "cell_type": "code",
      "metadata": {
        "id": "HmiVf-YnJHwA",
        "colab_type": "code",
        "outputId": "2db6e68f-fdc1-47b7-fc0c-43fc2eb087d8",
        "colab": {
          "base_uri": "https://localhost:8080/",
          "height": 297
        }
      },
      "source": [
        "police_180k = df[(df['Department']=='POLICE') & (df['Annual Salary']>180000)]\n",
        "police_180k = police_180k.sort_values('Annual Salary', ascending=False)\n",
        "police_180k = police_180k[['Full Name','Position Title','Annual Salary']]\n",
        "police_180k"
      ],
      "execution_count": 28,
      "outputs": [
        {
          "output_type": "execute_result",
          "data": {
            "text/html": [
              "<div>\n",
              "<style scoped>\n",
              "    .dataframe tbody tr th:only-of-type {\n",
              "        vertical-align: middle;\n",
              "    }\n",
              "\n",
              "    .dataframe tbody tr th {\n",
              "        vertical-align: top;\n",
              "    }\n",
              "\n",
              "    .dataframe thead th {\n",
              "        text-align: right;\n",
              "    }\n",
              "</style>\n",
              "<table border=\"1\" class=\"dataframe\">\n",
              "  <thead>\n",
              "    <tr style=\"text-align: right;\">\n",
              "      <th></th>\n",
              "      <th>Full Name</th>\n",
              "      <th>Position Title</th>\n",
              "      <th>Annual Salary</th>\n",
              "    </tr>\n",
              "  </thead>\n",
              "  <tbody>\n",
              "    <tr>\n",
              "      <th>18039</th>\n",
              "      <td>MC CARTHY,  GARRY F</td>\n",
              "      <td>SUPERINTENDENT OF POLICE</td>\n",
              "      <td>260004.0</td>\n",
              "    </tr>\n",
              "    <tr>\n",
              "      <th>31711</th>\n",
              "      <td>WYSINGER,  ALFONZA</td>\n",
              "      <td>FIRST DEPUTY SUPERINTENDENT</td>\n",
              "      <td>197736.0</td>\n",
              "    </tr>\n",
              "    <tr>\n",
              "      <th>29025</th>\n",
              "      <td>TRACY,  ROBERT J</td>\n",
              "      <td>CHIEF</td>\n",
              "      <td>194256.0</td>\n",
              "    </tr>\n",
              "    <tr>\n",
              "      <th>8065</th>\n",
              "      <td>ESCALANTE,  JOHN J</td>\n",
              "      <td>CHIEF</td>\n",
              "      <td>185364.0</td>\n",
              "    </tr>\n",
              "    <tr>\n",
              "      <th>11019</th>\n",
              "      <td>GULLIFORD,  WAYNE M</td>\n",
              "      <td>CHIEF</td>\n",
              "      <td>185364.0</td>\n",
              "    </tr>\n",
              "    <tr>\n",
              "      <th>23935</th>\n",
              "      <td>RICCIO,  ANTHONY J</td>\n",
              "      <td>CHIEF</td>\n",
              "      <td>185364.0</td>\n",
              "    </tr>\n",
              "    <tr>\n",
              "      <th>24183</th>\n",
              "      <td>RIVERA,  JUAN J</td>\n",
              "      <td>CHIEF</td>\n",
              "      <td>185364.0</td>\n",
              "    </tr>\n",
              "    <tr>\n",
              "      <th>31019</th>\n",
              "      <td>WILLIAMS,  EUGENE E</td>\n",
              "      <td>CHIEF</td>\n",
              "      <td>185364.0</td>\n",
              "    </tr>\n",
              "  </tbody>\n",
              "</table>\n",
              "</div>"
            ],
            "text/plain": [
              "                 Full Name               Position Title  Annual Salary\n",
              "18039  MC CARTHY,  GARRY F     SUPERINTENDENT OF POLICE       260004.0\n",
              "31711   WYSINGER,  ALFONZA  FIRST DEPUTY SUPERINTENDENT       197736.0\n",
              "29025     TRACY,  ROBERT J                        CHIEF       194256.0\n",
              "8065    ESCALANTE,  JOHN J                        CHIEF       185364.0\n",
              "11019  GULLIFORD,  WAYNE M                        CHIEF       185364.0\n",
              "23935   RICCIO,  ANTHONY J                        CHIEF       185364.0\n",
              "24183      RIVERA,  JUAN J                        CHIEF       185364.0\n",
              "31019  WILLIAMS,  EUGENE E                        CHIEF       185364.0"
            ]
          },
          "metadata": {
            "tags": []
          },
          "execution_count": 28
        }
      ]
    }
  ]
}