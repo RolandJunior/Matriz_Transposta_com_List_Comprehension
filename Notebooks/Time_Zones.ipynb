{
  "nbformat": 4,
  "nbformat_minor": 0,
  "metadata": {
    "colab": {
      "name": "Time_Zones.ipynb",
      "provenance": [],
      "collapsed_sections": []
    },
    "kernelspec": {
      "name": "python3",
      "display_name": "Python 3"
    }
  },
  "cells": [
    {
      "cell_type": "code",
      "metadata": {
        "id": "1jOG-pKflAI6",
        "colab_type": "code",
        "colab": {}
      },
      "source": [
        "from datetime import datetime\n",
        "from pytz import timezone"
      ],
      "execution_count": 0,
      "outputs": []
    },
    {
      "cell_type": "code",
      "metadata": {
        "id": "OM1tnlTU2aj3",
        "colab_type": "code",
        "colab": {
          "base_uri": "https://localhost:8080/",
          "height": 34
        },
        "outputId": "bd510882-2bc4-4665-c447-5b9d1af04009"
      },
      "source": [
        "# Horário UTC\n",
        "utc = datetime.utcnow()\n",
        "utc"
      ],
      "execution_count": 125,
      "outputs": [
        {
          "output_type": "execute_result",
          "data": {
            "text/plain": [
              "datetime.datetime(2020, 5, 18, 18, 43, 8, 264928)"
            ]
          },
          "metadata": {
            "tags": []
          },
          "execution_count": 125
        }
      ]
    },
    {
      "cell_type": "code",
      "metadata": {
        "id": "uREfaCoEFEb-",
        "colab_type": "code",
        "colab": {
          "base_uri": "https://localhost:8080/",
          "height": 34
        },
        "outputId": "33682810-88c8-4c1d-d52d-5770d5731ce0"
      },
      "source": [
        "# Atribui a Time Zone UTC ao horário\n",
        "utc = local.replace(tzinfo=timezone('UTC'))\n",
        "utc"
      ],
      "execution_count": 126,
      "outputs": [
        {
          "output_type": "execute_result",
          "data": {
            "text/plain": [
              "datetime.datetime(2020, 5, 18, 18, 37, 17, 289295, tzinfo=<UTC>)"
            ]
          },
          "metadata": {
            "tags": []
          },
          "execution_count": 126
        }
      ]
    },
    {
      "cell_type": "code",
      "metadata": {
        "id": "rM1NgCL-2lP0",
        "colab_type": "code",
        "colab": {
          "base_uri": "https://localhost:8080/",
          "height": 34
        },
        "outputId": "f3d47ecb-23db-4de2-d710-c4795a6c2bea"
      },
      "source": [
        "# Pega o horário UTC e converte para a Time Zone de São Paulo (-3 horas)\n",
        "sp = utc.astimezone(timezone('America/Sao_Paulo'))\n",
        "sp"
      ],
      "execution_count": 127,
      "outputs": [
        {
          "output_type": "execute_result",
          "data": {
            "text/plain": [
              "datetime.datetime(2020, 5, 18, 15, 37, 17, 289295, tzinfo=<DstTzInfo 'America/Sao_Paulo' -03-1 day, 21:00:00 STD>)"
            ]
          },
          "metadata": {
            "tags": []
          },
          "execution_count": 127
        }
      ]
    },
    {
      "cell_type": "code",
      "metadata": {
        "id": "dlXs0h8JBnGl",
        "colab_type": "code",
        "colab": {
          "base_uri": "https://localhost:8080/",
          "height": 34
        },
        "outputId": "e0386440-4801-4dc1-917a-4963c1fc117b"
      },
      "source": [
        "# Pega o horário UTC e converte para a Time Zone do Acre (-5 horas)\n",
        "ac = utc.astimezone(timezone('America/Rio_Branco'))\n",
        "ac"
      ],
      "execution_count": 128,
      "outputs": [
        {
          "output_type": "execute_result",
          "data": {
            "text/plain": [
              "datetime.datetime(2020, 5, 18, 13, 37, 17, 289295, tzinfo=<DstTzInfo 'America/Rio_Branco' -05-1 day, 19:00:00 STD>)"
            ]
          },
          "metadata": {
            "tags": []
          },
          "execution_count": 128
        }
      ]
    },
    {
      "cell_type": "code",
      "metadata": {
        "id": "46NmTBRGCc75",
        "colab_type": "code",
        "colab": {
          "base_uri": "https://localhost:8080/",
          "height": 68
        },
        "outputId": "24646a03-9a80-42d0-aab9-620b39a0b3ef"
      },
      "source": [
        "print('UTC:', utc.strftime('%H:%M'))\n",
        "print('SP :', sp.strftime('%H:%M'), f'({sp.hour-utc.hour} horas para UTC)')\n",
        "print('AC :', ac.strftime('%H:%M'), f'({ac.hour-sp.hour} horas para SP)')"
      ],
      "execution_count": 134,
      "outputs": [
        {
          "output_type": "stream",
          "text": [
            "UTC: 18:37\n",
            "SP : 15:37 (-3 horas para UTC)\n",
            "AC : 13:37 (-2 horas para SP)\n"
          ],
          "name": "stdout"
        }
      ]
    },
    {
      "cell_type": "markdown",
      "metadata": {
        "id": "fLQNq9aP_mDn",
        "colab_type": "text"
      },
      "source": [
        "[Time Zones](https://en.wikipedia.org/wiki/List_of_tz_database_time_zones)"
      ]
    }
  ]
}