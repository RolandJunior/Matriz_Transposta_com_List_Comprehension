{
  "nbformat": 4,
  "nbformat_minor": 0,
  "metadata": {
    "colab": {
      "name": "defaultdict.ipynb",
      "provenance": [],
      "collapsed_sections": []
    },
    "kernelspec": {
      "name": "python3",
      "display_name": "Python 3"
    }
  },
  "cells": [
    {
      "cell_type": "markdown",
      "metadata": {
        "id": "5po4DW_CLM9Y",
        "colab_type": "text"
      },
      "source": [
        "## `defaultdict`\n",
        "\n",
        "Cria um dicionário com resposta padrão para buscas em chaves inexistentes.\n",
        "\n",
        "Ao invés de retornar um erro, cria uma nova entrada."
      ]
    },
    {
      "cell_type": "code",
      "metadata": {
        "id": "VaZeE-pUkUmA",
        "colab_type": "code",
        "colab": {}
      },
      "source": [
        "from collections import defaultdict"
      ],
      "execution_count": 0,
      "outputs": []
    },
    {
      "cell_type": "code",
      "metadata": {
        "id": "noXZ8TPiJz6J",
        "colab_type": "code",
        "colab": {
          "base_uri": "https://localhost:8080/",
          "height": 51
        },
        "outputId": "8fe8266a-f321-4c86-ec08-1312744424e3"
      },
      "source": [
        "dict = {1: 'A'}\n",
        "print(type(dict))\n",
        "dict"
      ],
      "execution_count": 55,
      "outputs": [
        {
          "output_type": "stream",
          "text": [
            "<class 'dict'>\n"
          ],
          "name": "stdout"
        },
        {
          "output_type": "execute_result",
          "data": {
            "text/plain": [
              "{1: 'A'}"
            ]
          },
          "metadata": {
            "tags": []
          },
          "execution_count": 55
        }
      ]
    },
    {
      "cell_type": "code",
      "metadata": {
        "id": "fT5OEb65I5rp",
        "colab_type": "code",
        "colab": {
          "base_uri": "https://localhost:8080/",
          "height": 51
        },
        "outputId": "22c68724-7e3f-4a4b-997a-b45546db78fb"
      },
      "source": [
        "dict = defaultdict(lambda:'padrão')\n",
        "print(type(dict))\n",
        "dict"
      ],
      "execution_count": 60,
      "outputs": [
        {
          "output_type": "stream",
          "text": [
            "<class 'collections.defaultdict'>\n"
          ],
          "name": "stdout"
        },
        {
          "output_type": "execute_result",
          "data": {
            "text/plain": [
              "defaultdict(<function __main__.<lambda>>, {})"
            ]
          },
          "metadata": {
            "tags": []
          },
          "execution_count": 60
        }
      ]
    },
    {
      "cell_type": "code",
      "metadata": {
        "id": "GmQ_Rur5Hp5a",
        "colab_type": "code",
        "colab": {
          "base_uri": "https://localhost:8080/",
          "height": 34
        },
        "outputId": "4b162bbf-8bfc-4a30-b389-811697040f8b"
      },
      "source": [
        "dict[1] = 'A'\n",
        "dict"
      ],
      "execution_count": 61,
      "outputs": [
        {
          "output_type": "execute_result",
          "data": {
            "text/plain": [
              "defaultdict(<function __main__.<lambda>>, {1: 'A'})"
            ]
          },
          "metadata": {
            "tags": []
          },
          "execution_count": 61
        }
      ]
    },
    {
      "cell_type": "code",
      "metadata": {
        "id": "H_7toKcfIGZ7",
        "colab_type": "code",
        "colab": {
          "base_uri": "https://localhost:8080/",
          "height": 68
        },
        "outputId": "6ae1c754-ef05-4928-f2b1-f9cf393e955c"
      },
      "source": [
        "print(dict[1])  # Chave existente\n",
        "print(dict[2])  # Chave inexistente (vai ser adicionada ao dicionário com o valor padrão pré-estabelecido)\n",
        "dict"
      ],
      "execution_count": 62,
      "outputs": [
        {
          "output_type": "stream",
          "text": [
            "A\n",
            "padrão\n"
          ],
          "name": "stdout"
        },
        {
          "output_type": "execute_result",
          "data": {
            "text/plain": [
              "defaultdict(<function __main__.<lambda>>, {1: 'A', 2: 'padrão'})"
            ]
          },
          "metadata": {
            "tags": []
          },
          "execution_count": 62
        }
      ]
    },
    {
      "cell_type": "markdown",
      "metadata": {
        "id": "JEVY9BNfNvSj",
        "colab_type": "text"
      },
      "source": [
        "https://realpython.com/python-defaultdict/"
      ]
    }
  ]
}