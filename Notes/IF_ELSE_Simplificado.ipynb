{
  "nbformat": 4,
  "nbformat_minor": 0,
  "metadata": {
    "colab": {
      "name": "teste.ipynb",
      "provenance": []
    },
    "kernelspec": {
      "name": "python3",
      "display_name": "Python 3"
    }
  },
  "cells": [
    {
      "cell_type": "markdown",
      "metadata": {
        "id": "9DCdsIRTIzNk",
        "colab_type": "text"
      },
      "source": [
        "**TRADICIONAL**"
      ]
    },
    {
      "cell_type": "code",
      "metadata": {
        "id": "kOiIlrE_CUw2",
        "colab_type": "code",
        "outputId": "26abdb98-498e-406e-e625-2a4f9ca0ec92",
        "colab": {
          "base_uri": "https://localhost:8080/",
          "height": 51
        }
      },
      "source": [
        "def par_impar(num):\n",
        "  if num % 2 == 0:\n",
        "    return 'par'\n",
        "  else:\n",
        "    return 'ímpar'  \n",
        "\n",
        "x = 126\n",
        "y = 357\n",
        "\n",
        "print(f'O número {x} é {par_impar(x)}.')\n",
        "print(f'O número {y} é {par_impar(y)}.')"
      ],
      "execution_count": 1,
      "outputs": [
        {
          "output_type": "stream",
          "text": [
            "O número 126 é par.\n",
            "O número 357 é ímpar.\n"
          ],
          "name": "stdout"
        }
      ]
    },
    {
      "cell_type": "markdown",
      "metadata": {
        "id": "6n0_HOiHJBq4",
        "colab_type": "text"
      },
      "source": [
        "\n",
        "\n",
        "---\n",
        "\n",
        "\n",
        "**SIMPLIFICADO**"
      ]
    },
    {
      "cell_type": "code",
      "metadata": {
        "id": "wOLVPEEiIG_e",
        "colab_type": "code",
        "colab": {
          "base_uri": "https://localhost:8080/",
          "height": 51
        },
        "outputId": "0484dab4-a189-49e6-a92c-123f58e55776"
      },
      "source": [
        "def par_impar(num):\n",
        "  return 'par' if num % 2 == 0 else 'ímpar'  \n",
        "\n",
        "x = 126\n",
        "y = 357\n",
        "\n",
        "print(f'O número {x} é {par_impar(x)}.')\n",
        "print(f'O número {y} é {par_impar(y)}.')"
      ],
      "execution_count": 2,
      "outputs": [
        {
          "output_type": "stream",
          "text": [
            "O número 126 é par.\n",
            "O número 357 é ímpar.\n"
          ],
          "name": "stdout"
        }
      ]
    }
  ]
}