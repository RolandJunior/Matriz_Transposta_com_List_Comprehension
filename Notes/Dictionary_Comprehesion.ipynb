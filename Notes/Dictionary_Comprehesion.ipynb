{
  "nbformat": 4,
  "nbformat_minor": 0,
  "metadata": {
    "colab": {
      "name": "Dictionary Comprehesion.ipynb",
      "provenance": []
    },
    "kernelspec": {
      "name": "python3",
      "display_name": "Python 3"
    }
  },
  "cells": [
    {
      "cell_type": "code",
      "metadata": {
        "id": "ROIdCf6PYYRn",
        "colab_type": "code",
        "colab": {}
      },
      "source": [
        "dict1 = {'a':1,'b':2,'c':3}\n",
        "dict2 = {'d':4,'e':5,'f':6}"
      ],
      "execution_count": 0,
      "outputs": []
    },
    {
      "cell_type": "code",
      "metadata": {
        "id": "K7fEUZ2BbIFn",
        "colab_type": "code",
        "colab": {
          "base_uri": "https://localhost:8080/",
          "height": 34
        },
        "outputId": "a029b12a-abee-422a-fa85-82d8e1d52907"
      },
      "source": [
        "list(zip(dict1, dict2.values()))"
      ],
      "execution_count": 101,
      "outputs": [
        {
          "output_type": "execute_result",
          "data": {
            "text/plain": [
              "[('a', 4), ('b', 5), ('c', 6)]"
            ]
          },
          "metadata": {
            "tags": []
          },
          "execution_count": 101
        }
      ]
    },
    {
      "cell_type": "code",
      "metadata": {
        "id": "b4h6WxpvcH6j",
        "colab_type": "code",
        "colab": {
          "base_uri": "https://localhost:8080/",
          "height": 34
        },
        "outputId": "41ee2f61-e121-473d-f8b3-dd5802f390d1"
      },
      "source": [
        "dict3 = {}\n",
        "for key, val in list(zip(dict1, dict2.values())):\n",
        "  dict3[key] = val\n",
        "dict3"
      ],
      "execution_count": 102,
      "outputs": [
        {
          "output_type": "execute_result",
          "data": {
            "text/plain": [
              "{'a': 4, 'b': 5, 'c': 6}"
            ]
          },
          "metadata": {
            "tags": []
          },
          "execution_count": 102
        }
      ]
    },
    {
      "cell_type": "code",
      "metadata": {
        "id": "taQ-mWnuegyw",
        "colab_type": "code",
        "colab": {
          "base_uri": "https://localhost:8080/",
          "height": 34
        },
        "outputId": "b800c512-ff6b-4714-c831-d7b2de39e855"
      },
      "source": [
        "dict3 = {key:val for key,val in list(zip(dict1, dict2.values()))}\n",
        "dict3"
      ],
      "execution_count": 103,
      "outputs": [
        {
          "output_type": "execute_result",
          "data": {
            "text/plain": [
              "{'a': 4, 'b': 5, 'c': 6}"
            ]
          },
          "metadata": {
            "tags": []
          },
          "execution_count": 103
        }
      ]
    }
  ]
}