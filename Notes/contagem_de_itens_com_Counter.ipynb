{
  "nbformat": 4,
  "nbformat_minor": 0,
  "metadata": {
    "colab": {
      "name": "Teste.ipynb",
      "provenance": []
    },
    "kernelspec": {
      "name": "python3",
      "display_name": "Python 3"
    }
  },
  "cells": [
    {
      "cell_type": "markdown",
      "metadata": {
        "id": "XRQ-7UO8T5Kz",
        "colab_type": "text"
      },
      "source": [
        "### **Contagem de itens numa coleção usando o objeto *Counter* do módulo *collections*.**"
      ]
    },
    {
      "cell_type": "code",
      "metadata": {
        "id": "2inbw8TmorW0",
        "colab_type": "code",
        "colab": {
          "base_uri": "https://localhost:8080/",
          "height": 34
        },
        "outputId": "83549100-9025-41ba-c0ae-9011244ff80f"
      },
      "source": [
        "from collections import Counter\n",
        "\n",
        "dic = {'a':1,'b':3,'c':2,'d':3}\n",
        "lista = ['casa', 'melancia', 'inerente', 'pessoa', 'casa']\n",
        "texto = ''.join(lista) #Converte uma lista numa string única\n",
        "print(texto)"
      ],
      "execution_count": 60,
      "outputs": [
        {
          "output_type": "stream",
          "text": [
            "casamelanciainerentepessoacasa\n"
          ],
          "name": "stdout"
        }
      ]
    },
    {
      "cell_type": "markdown",
      "metadata": {
        "id": "LcWVdz70aW_P",
        "colab_type": "text"
      },
      "source": [
        "---"
      ]
    },
    {
      "cell_type": "markdown",
      "metadata": {
        "id": "rZV_0xmHXFw6",
        "colab_type": "text"
      },
      "source": [
        "### **Contando todos os itens**\n",
        "*(o resultado é um dicionário ordenado pelos itens mais recorrentes ou de maior valor)*\n"
      ]
    },
    {
      "cell_type": "code",
      "metadata": {
        "id": "siy9UbILTeAw",
        "colab_type": "code",
        "colab": {
          "base_uri": "https://localhost:8080/",
          "height": 68
        },
        "outputId": "ecf9f846-a91a-4495-b51f-03d20b49c2bc"
      },
      "source": [
        "print(Counter(dic))\n",
        "print(Counter(lista))\n",
        "print(Counter(texto))"
      ],
      "execution_count": 62,
      "outputs": [
        {
          "output_type": "stream",
          "text": [
            "Counter({'b': 3, 'd': 3, 'c': 2, 'a': 1})\n",
            "Counter({'casa': 2, 'melancia': 1, 'inerente': 1, 'pessoa': 1})\n",
            "Counter({'a': 7, 'e': 5, 's': 4, 'c': 3, 'n': 3, 'i': 2, 'm': 1, 'l': 1, 'r': 1, 't': 1, 'p': 1, 'o': 1})\n"
          ],
          "name": "stdout"
        }
      ]
    },
    {
      "cell_type": "markdown",
      "metadata": {
        "colab_type": "text",
        "id": "1ffcV2LCagMv"
      },
      "source": [
        "---"
      ]
    },
    {
      "cell_type": "markdown",
      "metadata": {
        "id": "O0qO5Ax1YDGp",
        "colab_type": "text"
      },
      "source": [
        "### **Contando os 3 itens mais recorrentes**\n",
        "*(o resultado é uma lista ordenada de tuplas onde cada uma contém o item e sua quantidade)*"
      ]
    },
    {
      "cell_type": "code",
      "metadata": {
        "id": "GV0s531bTmBd",
        "colab_type": "code",
        "colab": {
          "base_uri": "https://localhost:8080/",
          "height": 68
        },
        "outputId": "9946a64b-b5e2-45c3-db99-70b0611f2c68"
      },
      "source": [
        "print(Counter(dic).most_common(3))\n",
        "print(Counter(lista).most_common(3))\n",
        "print(Counter(texto).most_common(3))"
      ],
      "execution_count": 63,
      "outputs": [
        {
          "output_type": "stream",
          "text": [
            "[('b', 3), ('d', 3), ('c', 2)]\n",
            "[('casa', 2), ('melancia', 1), ('inerente', 1)]\n",
            "[('a', 7), ('e', 5), ('s', 4)]\n"
          ],
          "name": "stdout"
        }
      ]
    },
    {
      "cell_type": "markdown",
      "metadata": {
        "colab_type": "text",
        "id": "96DEGn9BahX7"
      },
      "source": [
        "---"
      ]
    },
    {
      "cell_type": "markdown",
      "metadata": {
        "id": "vVlkB4YUZPAe",
        "colab_type": "text"
      },
      "source": [
        "### **Filtrando o segundo item mais recorrente**"
      ]
    },
    {
      "cell_type": "code",
      "metadata": {
        "id": "GSlXf8_FX2Gb",
        "colab_type": "code",
        "colab": {
          "base_uri": "https://localhost:8080/",
          "height": 68
        },
        "outputId": "9d046dad-f856-4500-e3d2-96469eb0d4fc"
      },
      "source": [
        "print(Counter(dic).most_common(2)[1][0])\n",
        "print(Counter(lista).most_common(2)[1][0])\n",
        "print(Counter(texto).most_common(2)[1][0])\n",
        "\n",
        "#[1][0] pega o primeiro elemento(índice 0) da segunda tupla(índice 1)"
      ],
      "execution_count": 64,
      "outputs": [
        {
          "output_type": "stream",
          "text": [
            "d\n",
            "melancia\n",
            "e\n"
          ],
          "name": "stdout"
        }
      ]
    },
    {
      "cell_type": "markdown",
      "metadata": {
        "colab_type": "text",
        "id": "pfUjrHwtbjlt"
      },
      "source": [
        "---"
      ]
    },
    {
      "cell_type": "markdown",
      "metadata": {
        "id": "Q9y3NlPebkup",
        "colab_type": "text"
      },
      "source": [
        "**Referências:**\n",
        "\n",
        "https://docs.python.org/3/library/collections.html#counter-objects\n",
        "\n",
        "https://pymotw.com/2/collections/counter.html\n",
        "\n",
        "https://www.journaldev.com/20806/python-counter-python-collections-counter"
      ]
    }
  ]
}